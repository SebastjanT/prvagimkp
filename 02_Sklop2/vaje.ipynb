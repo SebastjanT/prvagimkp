{
 "cells": [
  {
   "cell_type": "markdown",
   "metadata": {},
   "source": [
    "# Vaje\n",
    "\n",
    "Problemi, ki jih poskusite izvesti, rešiti s pisanje programov."
   ]
  },
  {
   "cell_type": "markdown",
   "metadata": {},
   "source": [
    "## Ime in Priimek\n",
    "\n",
    "Napišite program, ki bo v isti vrstici izpisal vaš ime in priimek. Dopolnite, ga tako, da v novi vrstici izpiše tudi vašo naljubšo barvo."
   ]
  },
  {
   "cell_type": "code",
   "execution_count": null,
   "metadata": {},
   "outputs": [],
   "source": [
    "# Prostor za kodo"
   ]
  },
  {
   "cell_type": "markdown",
   "metadata": {},
   "source": [
    "## Aritmetika\n",
    "\n",
    "Napišite program, ki sešteje dve števili, ki si jih sami izberete, in to vsoto deli z tretjim številom. Rezultat izpišite kot `Rezultat: število`."
   ]
  },
  {
   "cell_type": "code",
   "execution_count": null,
   "metadata": {},
   "outputs": [],
   "source": [
    "# Prostor za kodo"
   ]
  },
  {
   "cell_type": "markdown",
   "metadata": {},
   "source": [
    "## Aritmetika - malo bolj uporabno\n",
    "\n",
    "Razširite zgornji program tako, da vsako število preberete iz vhoda. Nato pa opravite enak izračun, in izpis. (Poskusite narediti celoštevilsko in neceloštevilsko deljenje)."
   ]
  },
  {
   "cell_type": "code",
   "execution_count": null,
   "metadata": {},
   "outputs": [],
   "source": [
    "# Prostor za kodo"
   ]
  },
  {
   "cell_type": "markdown",
   "metadata": {},
   "source": [
    "## Ploščina in obseg pravokotnika\n",
    "\n",
    "Napišite program, ki sprejme širino in višino pravokotnika in izpiše izračun obsega ter ploščine."
   ]
  },
  {
   "cell_type": "code",
   "execution_count": null,
   "metadata": {},
   "outputs": [],
   "source": [
    "# Prostor za kodo"
   ]
  }
 ],
 "metadata": {
  "interpreter": {
   "hash": "916dbcbb3f70747c44a77c7bcd40155683ae19c65e1c03b4aa3499c5328201f1"
  },
  "kernelspec": {
   "display_name": "Python 3.8.10 64-bit",
   "language": "python",
   "name": "python3"
  },
  "language_info": {
   "name": "python",
   "version": "3.8.10"
  },
  "orig_nbformat": 4
 },
 "nbformat": 4,
 "nbformat_minor": 2
}
