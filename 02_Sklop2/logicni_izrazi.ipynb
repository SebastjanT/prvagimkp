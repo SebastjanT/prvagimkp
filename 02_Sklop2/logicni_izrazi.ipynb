{
 "cells": [
  {
   "cell_type": "markdown",
   "metadata": {},
   "source": [
    "# Logični izrazi\n",
    "\n",
    "Logična vrednost je v programskem jeziku Python shranjena v podatkovnem tipu `bool` (Boolean). Vrednosti, ki sta na voljo pa sta `True` in `False`."
   ]
  },
  {
   "cell_type": "code",
   "execution_count": null,
   "metadata": {},
   "outputs": [],
   "source": [
    "resnicno = True\n",
    "\n",
    "print(\"Tole je\", resnicno, \"in shranjeno v\", type(resnicno))"
   ]
  },
  {
   "cell_type": "markdown",
   "metadata": {},
   "source": [
    "## Operatorji\n",
    "\n",
    "Pri logičnih izrazih poznamo tri glavne operatorje `not`, `and` in `or`."
   ]
  },
  {
   "cell_type": "markdown",
   "metadata": {},
   "source": [
    "### `and`\n",
    "\n",
    "Operator `and` vrne `True` samo takrat ko sta izraza pred in za operatorjem resnična. Če je samo en od izrazov neresničen vrne `False`.\n",
    "\n",
    "To lahko prikažemo v tabeli:\n",
    "\n",
    "| izraz           | vrnjena vrednost  |\n",
    "|-----------------|-------------------|\n",
    "| True and True   | True              |\n",
    "| True and False  | False             |\n",
    "| False and True  | False             |\n",
    "| False and False | False             |"
   ]
  },
  {
   "cell_type": "code",
   "execution_count": null,
   "metadata": {},
   "outputs": [],
   "source": [
    "print(12 > 1 and True)"
   ]
  },
  {
   "cell_type": "code",
   "execution_count": null,
   "metadata": {},
   "outputs": [],
   "source": [
    "print(12 < 1 and True)"
   ]
  },
  {
   "cell_type": "code",
   "execution_count": null,
   "metadata": {},
   "outputs": [],
   "source": [
    "print(1 == 1 and False)"
   ]
  },
  {
   "cell_type": "code",
   "execution_count": null,
   "metadata": {},
   "outputs": [],
   "source": [
    "print(1 == 1 and 12 > 1)"
   ]
  },
  {
   "cell_type": "markdown",
   "metadata": {},
   "source": [
    "### `or`\n",
    "\n",
    "Operator `or` vrne `True` takrat ko je vsaj en izraz (pred ali po operatorju) resničen. Če sta oba izraza neresnična vrne `False`.\n",
    "\n",
    "To lahko prikažemo v tabeli:\n",
    "\n",
    "| izraz           | vrnjena vrednost  |\n",
    "|-----------------|-------------------|\n",
    "| True or True    | True              |\n",
    "| True or False   | True              |\n",
    "| False or True   | True              |\n",
    "| False or False  | False             |"
   ]
  },
  {
   "cell_type": "code",
   "execution_count": null,
   "metadata": {},
   "outputs": [],
   "source": [
    "resnicno = True\n",
    "neresnicno = False\n",
    "\n",
    "print(resnicno or neresnicno)"
   ]
  },
  {
   "cell_type": "markdown",
   "metadata": {},
   "source": [
    "### `not`\n",
    "\n",
    "Operator `not` zamenja vrednost izraza.\n",
    "\n",
    "To lahko prikažemo v tabeli:\n",
    "\n",
    "| izraz           | vrnjena vrednost  |\n",
    "|-----------------|-------------------|\n",
    "| not True        | False             |\n",
    "| not False       | True              |"
   ]
  },
  {
   "cell_type": "code",
   "execution_count": null,
   "metadata": {},
   "outputs": [],
   "source": [
    "print(not resnicno or neresnicno)"
   ]
  },
  {
   "cell_type": "markdown",
   "metadata": {},
   "source": [
    "### Kratkostično vedenje\n",
    "\n",
    "Tako kot v mnogo drugih programskih jezikih ima tudi Python tako imenovano kratkostično vedenje pri ocenjevanju logičnih operatorjev (Short-circuit evaluation).\n",
    "\n",
    "To pomeni, da če pri ocenjevanju pogoja zasledimo vrednost, ki velja v vsakem primeru ne glede na nadaljne vrednosti, zaključi ocenjevanje pogoja in vrne to vrednost."
   ]
  },
  {
   "cell_type": "code",
   "execution_count": null,
   "metadata": {},
   "outputs": [],
   "source": [
    "print(False and (10000*20000 > 1 or True or not False))\n",
    "\n",
    "print(\"a\" == (\"a\" or \"b\"))\n",
    "print(\"b\" == (\"a\" or \"b\"))"
   ]
  },
  {
   "cell_type": "markdown",
   "metadata": {},
   "source": [
    "## Tudi drugi objekti imajo prirejene logične vrednosti\n",
    "\n",
    "Python prireja logične vrednosti tudi drugim objektom. Prirejene vrednosti lahko preverite z uporabo `bool`. Nekaj pa jih je navedenih tudi v spodnji tabeli.\n",
    "\n",
    "| True                  | False                 |\n",
    "|-----------------------|-----------------------|\n",
    "| 1                     | 0                     |\n",
    "| Števila, ki niso 0    | \"None\"                |\n",
    "| Neprazni nizi         | Prazen niz (\"\")       |\n",
    "| Polni seznami, terke  | Prazni seznami, terke |"
   ]
  },
  {
   "cell_type": "code",
   "execution_count": null,
   "metadata": {},
   "outputs": [],
   "source": [
    "st = 0\n",
    "print(bool(st))\n",
    "\n",
    "terka = ()\n",
    "print(bool(terka))\n",
    "polna_terka = (1, 2)\n",
    "print(bool(polna_terka))\n",
    "\n",
    "niz = \"Poln sem\"\n",
    "print(bool(niz))\n",
    "prazen_niz = \"\"\n",
    "print(bool(niz))"
   ]
  }
 ],
 "metadata": {
  "interpreter": {
   "hash": "916dbcbb3f70747c44a77c7bcd40155683ae19c65e1c03b4aa3499c5328201f1"
  },
  "kernelspec": {
   "display_name": "Python 3.8.10 64-bit",
   "language": "python",
   "name": "python3"
  },
  "language_info": {
   "codemirror_mode": {
    "name": "ipython",
    "version": 3
   },
   "file_extension": ".py",
   "mimetype": "text/x-python",
   "name": "python",
   "nbconvert_exporter": "python",
   "pygments_lexer": "ipython3",
   "version": "3.8.10"
  },
  "orig_nbformat": 4
 },
 "nbformat": 4,
 "nbformat_minor": 2
}
