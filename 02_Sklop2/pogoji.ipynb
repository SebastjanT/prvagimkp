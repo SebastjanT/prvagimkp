{
 "cells": [
  {
   "cell_type": "markdown",
   "metadata": {},
   "source": [
    "# Pogojni stavki\n",
    "\n",
    "Poznamo izraze, kako izvesti aritmetične operacije, prebrati podatke iz vhoda in izpisati nek rezultat na zaslon. Sedaj pa si poglejmo, kako bi glede na rezultat aritmetične operacije izpisali primerno sporočilo."
   ]
  },
  {
   "cell_type": "code",
   "execution_count": null,
   "metadata": {},
   "outputs": [],
   "source": [
    "# Koliko minut je še do konca šolske ure?\n",
    "pretecene_minute = int(input(\"Koliko minut je že preteklo?\"))\n",
    "trajanje_ure = 45 # Trajanje šolske ure v minutah\n",
    "preostale_minute = trajanje_ure - pretecene_minute\n",
    "print(\"Pretrpeti morate še\", preostale_minute, \"minut.\")"
   ]
  },
  {
   "cell_type": "markdown",
   "metadata": {},
   "source": [
    "## Pogoj **`if`**\n",
    "\n",
    "Za zapisovanje pogojev uporabljamo rezervirano besedo `if`. Besedi sledi pogoj, na koncu pa postavimo dvopičje (`:`). S tem začnemo blok kode, ki mora biti zamaknjen (pitonsko s štirimi presledki). Koda v tem bloku se bo izvedla, ko bo pogoj izpolnjen.\n",
    "\n",
    "Pogoje preverjamo s sledečimi operatorji:\n",
    "* `<` - manj kot\n",
    "* `<=` - manj ali enako kot\n",
    "* `>` - več kot\n",
    "* `>=` - več ali enako kot\n",
    "* `==` - enako\n",
    "* `!=` - neenako\n",
    "\n",
    "Posebnost Python-a je, da lahko pogoje tudi nizamo (t.j. `0 < a < 5` je izpolnjen če je `a` med 0 in 5)."
   ]
  },
  {
   "cell_type": "code",
   "execution_count": null,
   "metadata": {},
   "outputs": [],
   "source": [
    "# Koliko minut je še do konca šolske ure?\n",
    "pretecene_minute = int(input(\"Koliko minut je že preteklo?\"))\n",
    "trajanje_ure = 45 # Trajanje šolske ure v minutah\n",
    "preostale_minute = trajanje_ure - pretecene_minute\n",
    "print(\"Pretrpeti morate še\", preostale_minute, \"minut.\")\n",
    "if preostale_minute > 30:\n",
    "    print(\"Ali se res ne bo nikoli končalo!!!\")"
   ]
  },
  {
   "cell_type": "markdown",
   "metadata": {},
   "source": [
    "Pogoju `if` lahko sledi tudi `else`. V bloku zajetem pod `else` se bo izvedla koda, ko pogoji ne bodo izpolnjeni. V python je na voljo tudi `elif` pogoj, ki se preveri če pogoji pred njim niso izpolnjeni."
   ]
  },
  {
   "cell_type": "code",
   "execution_count": null,
   "metadata": {},
   "outputs": [],
   "source": [
    "# Koliko minut je še do konca šolske ure?\n",
    "pretecene_minute = int(input(\"Koliko minut je že preteklo?\"))\n",
    "trajanje_ure = 45 # Trajanje šolske ure v minutah\n",
    "preostale_minute = trajanje_ure - pretecene_minute\n",
    "print(\"Pretrpeti morate še\", preostale_minute, \"minut.\")\n",
    "if preostale_minute > 30:\n",
    "    print(\"Ali se res ne bo nikoli končalo!!!\")\n",
    "elif preostale_minute == 23:\n",
    "    print(\"Čez pol minute bomo na polovici.\")\n",
    "else:\n",
    "    print(\"Samo še malo.\")"
   ]
  },
  {
   "cell_type": "markdown",
   "metadata": {},
   "source": [
    "## Na kaj biti pozoren?\n",
    "\n",
    "* Paziti je treba, da je za rezerviranima besedama `if` in `elif` pogoj in da se vrstica konča z `:`. Če kaj od tega ne bo izpoljeno, bomo obveščeni o sintaktični napaki.\n",
    "* Za pogojnim stavkom mora slediti pravilno zamaknjena koda.\n",
    "* Pri zamikih bodite pozorni, vedno uporabljajte iste zamike, pazite, da vam kakšen presledek ne manjka in pa da se `if`, `elif` in `else`, ki sodijo skupaj ujemajo z zamiki (gnezdenje pogojnih stavkov).\n",
    "* Pazimo, da ne podvajamo kode in ne pišemo nepotrebnih pogojev.\n",
    "\n",
    "\n",
    "## Python in oklepaji\n",
    "\n",
    "Načeloma oklepajev ne uporabljamo razen, ko je to potrebno za vrstni red operacij. Seveda lahko v določenih primerih uporabimo oklepaje, da naredimo aritmetično opracijo bolj pregledno. Ne uporabljamo pa jih za zapiranje pogojev. \n"
   ]
  }
 ],
 "metadata": {
  "interpreter": {
   "hash": "916dbcbb3f70747c44a77c7bcd40155683ae19c65e1c03b4aa3499c5328201f1"
  },
  "kernelspec": {
   "display_name": "Python 3.8.10 64-bit",
   "language": "python",
   "name": "python3"
  },
  "language_info": {
   "codemirror_mode": {
    "name": "ipython",
    "version": 3
   },
   "file_extension": ".py",
   "mimetype": "text/x-python",
   "name": "python",
   "nbconvert_exporter": "python",
   "pygments_lexer": "ipython3",
   "version": "3.8.10"
  },
  "orig_nbformat": 4
 },
 "nbformat": 4,
 "nbformat_minor": 2
}
