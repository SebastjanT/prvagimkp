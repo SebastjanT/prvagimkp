{
 "cells": [
  {
   "cell_type": "markdown",
   "metadata": {},
   "source": [
    "# Vaje (pogojni stavki in while zanka)\n",
    "\n",
    "Problemi, ki jih poskusite izvesti, rešiti s pisanjem programov."
   ]
  },
  {
   "cell_type": "markdown",
   "metadata": {},
   "source": [
    "## Preverjanje vnosa\n",
    "\n",
    "Dopolnite program tako, da preden izračunate preostale minute preverite ali je uporabnik vnesel pozitivno število minut in da ni vnesel več preteklih minut kolikor je trajanje ure."
   ]
  },
  {
   "cell_type": "code",
   "execution_count": null,
   "metadata": {},
   "outputs": [],
   "source": [
    "# Koliko minut je še do konca šolske ure?\n",
    "pretecene_minute = int(input(\"Koliko minut je že preteklo?\"))\n",
    "trajanje_ure = 45 # Trajanje šolske ure v minutah\n",
    "preostale_minute = trajanje_ure - pretecene_minute\n",
    "print(\"Pretrpeti morate še\", preostale_minute, \"minut.\")\n",
    "if preostale_minute > 30:\n",
    "  print(\"Ali se res ne bo nikoli končalo!!!\")\n",
    "elif preostale_minute == 23:\n",
    "  print(\"Čez pol minute bomo na polovici\")\n",
    "else:\n",
    "  print(\"Samo še malo.\")"
   ]
  },
  {
   "cell_type": "markdown",
   "metadata": {},
   "source": [
    "## Dokler ne bo prav\n",
    "\n",
    "Preoblikujte zgoraj dopolnjeni program, da bo sprejemal uporabnikove vnose, dokler uporabnik ne vnese veljavnega vnosa."
   ]
  },
  {
   "cell_type": "code",
   "execution_count": null,
   "metadata": {},
   "outputs": [],
   "source": [
    "# Prostor za kodo\n"
   ]
  },
  {
   "cell_type": "markdown",
   "metadata": {},
   "source": [
    "## Deljivo z 2\n",
    "\n",
    "Napišite program, ki bo preveril ali je število, ki ga je uporabnik vnesel deljivo z 2 in rezultat izpišite na zaslon."
   ]
  },
  {
   "cell_type": "code",
   "execution_count": null,
   "metadata": {},
   "outputs": [],
   "source": [
    "# Prostor za kodo\n"
   ]
  },
  {
   "cell_type": "markdown",
   "metadata": {},
   "source": [
    "## Fibonaccijevo zaporedje\n",
    "\n",
    "Napišite program, ki izračuna 10 mest fibonaccijevega zaporedja."
   ]
  },
  {
   "cell_type": "code",
   "execution_count": null,
   "metadata": {},
   "outputs": [],
   "source": [
    "# Prostor za kodo\n"
   ]
  },
  {
   "cell_type": "markdown",
   "metadata": {},
   "source": [
    "## Trikotnik\n",
    "\n",
    "Napišite zanko, ki bo izrisala trikotnik iz poljubnih znakov.\n",
    "```\n",
    "    A\n",
    "   AAA\n",
    "  AAAAA\n",
    " AAAAAAA\n",
    "AAAAAAAAA\n",
    "```"
   ]
  },
  {
   "cell_type": "code",
   "execution_count": null,
   "metadata": {},
   "outputs": [],
   "source": [
    "# Prostor za kodo\n"
   ]
  }
 ],
 "metadata": {
  "interpreter": {
   "hash": "916dbcbb3f70747c44a77c7bcd40155683ae19c65e1c03b4aa3499c5328201f1"
  },
  "kernelspec": {
   "display_name": "Python 3.8.10 64-bit",
   "language": "python",
   "name": "python3"
  },
  "language_info": {
   "name": "python",
   "version": "3.8.10"
  },
  "orig_nbformat": 4
 },
 "nbformat": 4,
 "nbformat_minor": 2
}
