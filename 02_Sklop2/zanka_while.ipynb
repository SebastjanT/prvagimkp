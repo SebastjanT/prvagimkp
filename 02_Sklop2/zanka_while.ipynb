{
 "cells": [
  {
   "cell_type": "markdown",
   "metadata": {},
   "source": [
    "# Zanka **`while`**\n",
    "\n",
    "Stavki znotraj bloka `while` se ponavljajo dokler je pogoj izpolnjen. Spoznajmo se preko primera štetja do 10."
   ]
  },
  {
   "cell_type": "code",
   "execution_count": null,
   "metadata": {},
   "outputs": [],
   "source": [
    "a = 0\n",
    "while a < 10:\n",
    "  a = a + 1\n",
    "  print(a)"
   ]
  },
  {
   "cell_type": "markdown",
   "metadata": {},
   "source": [
    "## Poglejmo še en primer\n",
    "\n",
    "Množenje števil iz vhoda."
   ]
  },
  {
   "cell_type": "code",
   "execution_count": null,
   "metadata": {},
   "outputs": [],
   "source": [
    "print(\"Program bo zmnožil vsa števila prebrana iz vhoda. Za zaključek programa vpišite 1.\")\n",
    "rezultat = 1\n",
    "faktor = 0\n",
    "while faktor != 1:\n",
    "  faktor = float(input(\"Vnesite število:\"))\n",
    "  rezultat *= faktor\n",
    "print(\"Zmnožek je:\", rezultat)"
   ]
  },
  {
   "cell_type": "markdown",
   "metadata": {},
   "source": [
    "## Rezervirani besedi `break` in `continue`\n",
    "\n",
    "Tako kot v drugih programskih jeziki imamo tudi v Python-u rezervirani besedi `break` (konča izvajanje trenutne zanke in nadaljuje program) ter `continue` (spusti vse preostale stavke v zanki in vrne nadzor nazaj na vrh zanke)."
   ]
  }
 ],
 "metadata": {
  "interpreter": {
   "hash": "916dbcbb3f70747c44a77c7bcd40155683ae19c65e1c03b4aa3499c5328201f1"
  },
  "kernelspec": {
   "display_name": "Python 3.8.10 64-bit",
   "language": "python",
   "name": "python3"
  },
  "language_info": {
   "codemirror_mode": {
    "name": "ipython",
    "version": 3
   },
   "file_extension": ".py",
   "mimetype": "text/x-python",
   "name": "python",
   "nbconvert_exporter": "python",
   "pygments_lexer": "ipython3",
   "version": "3.8.10"
  },
  "orig_nbformat": 4
 },
 "nbformat": 4,
 "nbformat_minor": 2
}
