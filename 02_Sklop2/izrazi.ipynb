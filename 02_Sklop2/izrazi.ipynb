{
 "cells": [
  {
   "cell_type": "markdown",
   "metadata": {},
   "source": [
    "# Izrazi\n",
    "\n",
    "`1 + 1 = 2`\n",
    "\n",
    "## Tipi števil\n",
    "V Python-u imamo dva tipa števil. Cela števila `int` in pa necela števila `float`."
   ]
  },
  {
   "cell_type": "code",
   "execution_count": null,
   "metadata": {},
   "outputs": [],
   "source": [
    "# Primeri\n",
    "1 + 1"
   ]
  },
  {
   "cell_type": "code",
   "execution_count": null,
   "metadata": {},
   "outputs": [],
   "source": [
    "type(1 + 1)"
   ]
  },
  {
   "cell_type": "code",
   "execution_count": null,
   "metadata": {},
   "outputs": [],
   "source": [
    "2 / 3"
   ]
  },
  {
   "cell_type": "code",
   "execution_count": null,
   "metadata": {},
   "outputs": [],
   "source": [
    "type(2 / 3)"
   ]
  },
  {
   "cell_type": "markdown",
   "metadata": {},
   "source": [
    "## Aritmetične operacije\n",
    "\n",
    "* seštevanje (`+`),\n",
    "* odštevanje (`-`),\n",
    "* množenje (`*`),\n",
    "* deljenje (`/`),\n",
    "* celoštevilsko deljenje (`//`),\n",
    "* potenca (`**`),\n",
    "* ostanek pri deljenju (`%`)."
   ]
  },
  {
   "cell_type": "code",
   "execution_count": null,
   "metadata": {},
   "outputs": [],
   "source": [
    "# Primeri\n",
    "print(\"Seštevanje: 1 + 1 = \", 1 + 1)\n",
    "print(\"Odštevanje: 1 - 1 = \", 1 - 1)\n",
    "print(\"Množenje: 2 * 3 = \", 2 * 3)\n",
    "print(\"Deljenje: 2 / 3 = \", 2 / 3)\n",
    "print(\"Celoštevilsko deljenje: 2 // 3 = \", 2 // 3)\n",
    "print(\"Potenca: 2 ** 3 = \", 2 ** 3)\n",
    "print(\"Ostanek pri deljenju: 2 % 3 = \", 2 % 3)"
   ]
  }
 ],
 "metadata": {
  "interpreter": {
   "hash": "916dbcbb3f70747c44a77c7bcd40155683ae19c65e1c03b4aa3499c5328201f1"
  },
  "kernelspec": {
   "display_name": "Python 3.8.10 64-bit",
   "language": "python",
   "name": "python3"
  },
  "language_info": {
   "codemirror_mode": {
    "name": "ipython",
    "version": 3
   },
   "file_extension": ".py",
   "mimetype": "text/x-python",
   "name": "python",
   "nbconvert_exporter": "python",
   "pygments_lexer": "ipython3",
   "version": "3.8.10"
  },
  "orig_nbformat": 4
 },
 "nbformat": 4,
 "nbformat_minor": 2
}
