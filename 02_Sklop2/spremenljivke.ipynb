{
 "cells": [
  {
   "cell_type": "markdown",
   "metadata": {},
   "source": [
    "# Spremenljivke\n",
    "\n",
    "Spremenljivke uporabljamo za shranjevanje vrednosti. V Python jih ni potrebno v naprej deklarirati. Tudi tip spremenljivke se lahko spremeni s tekom programa.\n",
    "Spremenljivka je nastavljena takrat, ko ji priredite vrednost (`x = 1 + 2`)."
   ]
  },
  {
   "cell_type": "code",
   "execution_count": null,
   "metadata": {},
   "outputs": [],
   "source": [
    "# Primeri\n",
    "x = 1\n",
    "print(x)"
   ]
  },
  {
   "cell_type": "code",
   "execution_count": null,
   "metadata": {},
   "outputs": [],
   "source": [
    "x = \"Ena\"\n",
    "print(x)"
   ]
  },
  {
   "cell_type": "markdown",
   "metadata": {},
   "source": [
    "## Poimenovanja\n",
    "\n",
    "Priporočam, da se pri programiranju držite angleških črk.\n",
    "\n",
    "Imena spremenljivk naj dobro ponazorijo kaj shranjujemo v njih.\n",
    "Če želite uporabiti večbesedno ime naredite to z vmesnimi podčrtaji (snake_case) `ime_spremenljivke`.\n",
    "Takšno poimenovanje je pričakovano v Python-u in načeloma se držimo pričakovanih poimenovanj programskega jezika, ki ga uporabljamo.\n",
    "Vseeno pa ne pretiravajte z dolžino imen."
   ]
  },
  {
   "cell_type": "code",
   "execution_count": null,
   "metadata": {},
   "outputs": [],
   "source": [
    "# Primeri\n",
    "# Tole so slaba poimenovanja saj nam ne povejo kaj shranjujemo\n",
    "a = 2021\n",
    "b = 11\n",
    "c = 22\n",
    "\n",
    "# Boljše bi bilo\n",
    "leto = 2021\n",
    "mesec = 11\n",
    "dan = 22"
   ]
  },
  {
   "cell_type": "markdown",
   "metadata": {},
   "source": [
    "## Tipizacija\n",
    "\n",
    "Python je strogo dinamično tipiziran. Torej spremenljivke so lahko katerega koli tipa ne moremo pa sešteti niza in celega števila."
   ]
  },
  {
   "cell_type": "code",
   "execution_count": null,
   "metadata": {},
   "outputs": [],
   "source": [
    "# Primeri\n",
    "print(\"Tretje izvajanje krozka na datum:\", dan + \".\", mesec + \".\", leto)"
   ]
  },
  {
   "cell_type": "code",
   "execution_count": null,
   "metadata": {},
   "outputs": [],
   "source": [
    "print(\"Tretje izvajanje krozka na datum:\", str(dan) + \".\", str(mesec) + \".\", leto)"
   ]
  },
  {
   "cell_type": "code",
   "execution_count": null,
   "metadata": {},
   "outputs": [],
   "source": [
    "# Trije tipi spremenljivk, ki smo jih že spoznali\n",
    "niz = \"Niz\"\n",
    "celo_stevilo = 1\n",
    "necelo_stevilo = 1.1\n",
    "\n",
    "print(type(niz))\n",
    "print(type(celo_stevilo))\n",
    "print(type(necelo_stevilo))"
   ]
  },
  {
   "cell_type": "markdown",
   "metadata": {},
   "source": [
    "# Vnos\n",
    "\n",
    "Sedaj ko poznamo spremenljivke jih lahko napolnimo tako, da vprašamo uporabnika po podatku. Za to uporabimo funkcijo `input`. Ko poženemo program bo od nas zahtevan vnos. Funkcija privzeto vnesene podatke shrani v tip niz, če pa želimo cela ali necela števila pa funkcijo `input` ovijemo v funkciji `int` ali `float`."
   ]
  },
  {
   "cell_type": "code",
   "execution_count": null,
   "metadata": {},
   "outputs": [],
   "source": [
    "# Vprašajmo uporabnika kateri dan je danes\n",
    "\n",
    "ime_dneva = input(\"Prosimo vnesite današnji dan: \")\n",
    "print(\"Danes je\", ime_dneva, \":-)\")"
   ]
  },
  {
   "cell_type": "code",
   "execution_count": null,
   "metadata": {},
   "outputs": [],
   "source": [
    "# Računanje vsote\n",
    "a = float(input(\"Vnesite prvo število: \"))\n",
    "b = float(input(\"Vnesite drugo ševilo: \"))\n",
    "vsota = a + b\n",
    "print(\"Vsota je: \", vsota)"
   ]
  }
 ],
 "metadata": {
  "interpreter": {
   "hash": "916dbcbb3f70747c44a77c7bcd40155683ae19c65e1c03b4aa3499c5328201f1"
  },
  "kernelspec": {
   "display_name": "Python 3.8.10 64-bit",
   "language": "python",
   "name": "python3"
  },
  "language_info": {
   "codemirror_mode": {
    "name": "ipython",
    "version": 3
   },
   "file_extension": ".py",
   "mimetype": "text/x-python",
   "name": "python",
   "nbconvert_exporter": "python",
   "pygments_lexer": "ipython3",
   "version": "3.8.10"
  },
  "orig_nbformat": 4
 },
 "nbformat": 4,
 "nbformat_minor": 2
}
