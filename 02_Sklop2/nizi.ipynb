{
 "cells": [
  {
   "cell_type": "markdown",
   "metadata": {},
   "source": [
    "# Nizi\n",
    "\n",
    "Nizi v jeziku Python so tipa `str`. Tudi za posamezne črke se uporablja ta tip, za razliko od nekaterih drugih programskih jezikov.\n",
    "\n",
    "Nize zapišemo z dvojnimi ali enojnimi narekovaji. Načeloma so si ekvivalentni, pozorni bodite samo na to, da niz začnete in zaključite z istim narekovajem."
   ]
  },
  {
   "cell_type": "code",
   "execution_count": null,
   "metadata": {},
   "outputs": [],
   "source": [
    "\"Tole je niz\""
   ]
  },
  {
   "cell_type": "code",
   "execution_count": null,
   "metadata": {},
   "outputs": [],
   "source": [
    "'To je tudi niz'"
   ]
  },
  {
   "cell_type": "code",
   "execution_count": null,
   "metadata": {},
   "outputs": [],
   "source": [
    "\"Napaka'"
   ]
  },
  {
   "cell_type": "markdown",
   "metadata": {},
   "source": [
    "# Izpis\n",
    "\n",
    "Za izpis uporabljamo funkcijo `print`. To je funkcija, ki sprejme 0 ali več argumentov. Kot smo že videli z imenom funkcije, ki ji sledijo oklepaji (z argumenti) izvedemo klic te funkcije."
   ]
  },
  {
   "cell_type": "code",
   "execution_count": null,
   "metadata": {},
   "outputs": [],
   "source": [
    "# Primeri\n",
    "print()\n",
    "print(\"Niz\")\n",
    "print(\"Niz\", 1, \"Niz\", 2)"
   ]
  },
  {
   "cell_type": "markdown",
   "metadata": {},
   "source": [
    "# Funkcije\n",
    "\n",
    "Osnovne funkcije kot so `print`, `input`, `abs`, `len` ni potrebno uvažati. Uvoz dodatnih funkcij pa bomo obdelali v prihodnosti."
   ]
  },
  {
   "cell_type": "code",
   "execution_count": null,
   "metadata": {},
   "outputs": [],
   "source": [
    "abs(1 - 2)"
   ]
  },
  {
   "cell_type": "code",
   "execution_count": null,
   "metadata": {},
   "outputs": [],
   "source": [
    "len(\"Doma\")"
   ]
  },
  {
   "cell_type": "markdown",
   "metadata": {},
   "source": [
    "## Operacije nad nizi\n",
    "\n",
    "Uporabne operacije nad nizi so seštevanje (`+`) in pa množenje s številom (`*`)."
   ]
  },
  {
   "cell_type": "code",
   "execution_count": null,
   "metadata": {},
   "outputs": [],
   "source": [
    "# Primeri\n",
    "print(\"Niz\" * 3)\n",
    "print(\"Niz\" + \"1\")"
   ]
  }
 ],
 "metadata": {
  "interpreter": {
   "hash": "916dbcbb3f70747c44a77c7bcd40155683ae19c65e1c03b4aa3499c5328201f1"
  },
  "kernelspec": {
   "display_name": "Python 3.8.10 64-bit",
   "language": "python",
   "name": "python3"
  },
  "language_info": {
   "codemirror_mode": {
    "name": "ipython",
    "version": 3
   },
   "file_extension": ".py",
   "mimetype": "text/x-python",
   "name": "python",
   "nbconvert_exporter": "python",
   "pygments_lexer": "ipython3",
   "version": "3.8.10"
  },
  "orig_nbformat": 4
 },
 "nbformat": 4,
 "nbformat_minor": 2
}
