{
 "cells": [
  {
   "cell_type": "markdown",
   "metadata": {},
   "source": [
    "# Vaje (seznami, terke in for zanka)\n",
    "\n",
    "Problemi, ki jih poskusite izvesti, rešiti s pisanjem programov."
   ]
  },
  {
   "cell_type": "markdown",
   "metadata": {},
   "source": [
    "## Izpis števil od 1 do 10\n",
    "\n",
    "Ponovite klasični uvod spoznavanja z zako `while` (stetje do 10) z zanko `for`."
   ]
  },
  {
   "cell_type": "code",
   "execution_count": null,
   "metadata": {},
   "outputs": [],
   "source": [
    "# Prostor za kodo\n",
    "\n",
    "for st in range(1, 11):\n",
    "    print(st)"
   ]
  },
  {
   "cell_type": "markdown",
   "metadata": {},
   "source": [
    "## Deljivo z 2 (ampak več števil)\n",
    "\n",
    "Preverite če so števila v danem seznamu deljiva z dva. Če so to izpišite uporabniku, če pa najdete eno število ki ni pa ga izpišite in končajte zanko."
   ]
  },
  {
   "cell_type": "code",
   "execution_count": null,
   "metadata": {},
   "outputs": [],
   "source": [
    "# Prostor za kodo\n",
    "\n",
    "stevila1 = [2, 5, 3, 8, 1, 9, 10, 30, 2098374598]\n",
    "stevila2 = [2, 2, 2, 2, 2, 2, 2, 2, 2, 20000]\n",
    "\n",
    "# Za izvedbo na seznamu stevila2 zamenjajte ime v for zanki\n",
    "for stevilo in stevila1:\n",
    "    if stevilo % 2 != 0:\n",
    "        print(stevilo)\n",
    "        break\n",
    "else:\n",
    "    print(\"Seznam je poln sodih števil!\")"
   ]
  },
  {
   "cell_type": "markdown",
   "metadata": {},
   "source": [
    "## Statistika ocen\n",
    "\n",
    "Iz spodnje terke predmetov in seznama ocen izpišite povprečno oceno osebe ter predmet z najnižjim povprečjem."
   ]
  },
  {
   "cell_type": "code",
   "execution_count": null,
   "metadata": {},
   "outputs": [],
   "source": [
    "# Prostor za kodo\n",
    "\n",
    "evidenca = [\n",
    "    (\"Matematika\", [5, 4, 3]),\n",
    "    (\"Kemija\", [3, 3, 3, 3]),\n",
    "    (\"Fizika\", [2, 3, 5, 5]),\n",
    "    (\"Biologija\", [1, 5, 5, 5, 5, 5]),\n",
    "    (\"Informatika\", [5])\n",
    "]\n",
    "\n",
    "# Ustvarimo prazna seznama za predmete in njihova povprečja\n",
    "predmeti = []\n",
    "povprecja = []\n",
    "\n",
    "for predmet, ocene in evidenca:\n",
    "    # Shranimo ime predmeta v seznam\n",
    "    predmeti.append(predmet)\n",
    "    # Izračunamo vsoto ocen pri predmetu\n",
    "    vsota = 0\n",
    "    for ocena in ocene:\n",
    "        vsota += ocena\n",
    "    # Izračunamo povprečje in ga dodamo v seznam\n",
    "    povprecja.append(vsota / len(ocene))\n",
    "\n",
    "# Še z eno for zanko izvedemo izračun celotnega povprečja in poskrbimo za izpis predmeta z najnižjim povprečjem\n",
    "min_povprecje = 5\n",
    "min_predmet = \"\"\n",
    "vsota = 0\n",
    "for predmet, povprecje in zip(predmeti, povprecja):\n",
    "    if povprecje < min_povprecje:\n",
    "        min_povprecje = povprecje\n",
    "        min_predmet = predmet\n",
    "    vsota += povprecje\n",
    "\n",
    "celotno_povprecje = vsota / len(povprecja)\n",
    "\n",
    "# Izpis uporabniku\n",
    "print(\"Celotno povprečje osebje je:\", celotno_povprecje)\n",
    "print(min_predmet, \"je predmet z najnižjim povprečjem.\")\n"
   ]
  }
 ],
 "metadata": {
  "interpreter": {
   "hash": "916dbcbb3f70747c44a77c7bcd40155683ae19c65e1c03b4aa3499c5328201f1"
  },
  "kernelspec": {
   "display_name": "Python 3.8.10 64-bit",
   "language": "python",
   "name": "python3"
  },
  "language_info": {
   "codemirror_mode": {
    "name": "ipython",
    "version": 3
   },
   "file_extension": ".py",
   "mimetype": "text/x-python",
   "name": "python",
   "nbconvert_exporter": "python",
   "pygments_lexer": "ipython3",
   "version": "3.8.10"
  },
  "orig_nbformat": 4
 },
 "nbformat": 4,
 "nbformat_minor": 2
}
