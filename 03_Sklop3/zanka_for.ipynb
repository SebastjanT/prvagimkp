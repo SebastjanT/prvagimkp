{
 "cells": [
  {
   "cell_type": "markdown",
   "metadata": {},
   "source": [
    "# Zanka `for`\n",
    "\n",
    "Zanka `for` v Python deluje tako kot sprehod čez elemente seznama. Naredi se prirejanje vrednosti spremenljivki (da ime elementu) v seznamu in izvede blok kode znotraj zanke.\n",
    "\n",
    "Če se zanka `while` izvaja dokler pogoj drži se zanka `for` izvaja dokler se ne sprehodi čez vse elemente (od prvega do zadnjega) seznamov, terk, nizov in še drugega."
   ]
  },
  {
   "cell_type": "code",
   "execution_count": null,
   "metadata": {},
   "outputs": [],
   "source": [
    "# Naredimo seznam sklopov krožka programiranja\n",
    "\n",
    "sklopi = [\"Uvod\", \"Sklop 1\", \"Sklop 2\", \n",
    "          \"Sklop 3\", \"Sklop 4\", \"Sklop 5\"]\n",
    "\n",
    "# Ustvarimo še en seznam števila podpoglavji vsakega sklopa\n",
    "podpoglavja = [0, 3, 4, 3, 5, 5]\n",
    "\n",
    "# Izpišimo vse sklope krožka\n",
    "\n",
    "for sklop in sklopi:\n",
    "    print(sklop)\n"
   ]
  },
  {
   "cell_type": "markdown",
   "metadata": {},
   "source": [
    "Seveda je neizmero uporabno razpakiranje v elemente pri uporabi zanke `for`."
   ]
  },
  {
   "cell_type": "code",
   "execution_count": null,
   "metadata": {},
   "outputs": [],
   "source": [
    "krozek = [\n",
    "    (\"Uvod\", 0),\n",
    "    (\"Sklop 1\", 3),\n",
    "    (\"Sklop 2\", 4),\n",
    "    (\"Sklop 3\", 3),\n",
    "    (\"Sklop 4\", 5),\n",
    "    (\"Sklop 5\", 5)\n",
    "]\n",
    "\n",
    "# Izpišimo vse sklope krožka, ki imajo več kot 3 podpoglavja\n",
    "\n",
    "for sklop, podpoglavje in krozek:\n",
    "    if podpoglavje > 3:\n",
    "        print(sklop)"
   ]
  },
  {
   "cell_type": "markdown",
   "metadata": {},
   "source": [
    "Tako kot pri zanki `while` lahko uporabimo rezervirani besedi za `break` in `continue`."
   ]
  },
  {
   "cell_type": "code",
   "execution_count": null,
   "metadata": {},
   "outputs": [],
   "source": [
    "# Izpišimo sklop ki se trenutno izvaja\n",
    "\n",
    "# (sklop, podpoglavja, opravljeno)\n",
    "krozek = [\n",
    "    (\"Uvod\", 0, True),\n",
    "    (\"Sklop 1\", 3, True),\n",
    "    (\"Sklop 2\", 4, True),\n",
    "    (\"Sklop 3\", 3, False),\n",
    "    (\"Sklop 4\", 5, False),\n",
    "    (\"Sklop 5\", 5, False)\n",
    "]\n",
    "\n",
    "for sklop, _, opravljeno in krozek:\n",
    "    if not opravljeno:\n",
    "        break\n",
    "print(\"Trenutno se izvaja:\", sklop)"
   ]
  },
  {
   "cell_type": "markdown",
   "metadata": {},
   "source": [
    "## `else`\n",
    "\n",
    "Iz prejšnjega sklopa vemo, da `else` uporabljamo pri pogojnih stavkih, kot nekaj kar lahko sledi pogoju `if`. V Python pa lahko `else` sledi tudi zanki `for`. **Izvede se pa takrat, ko se zanka ne konča z `break`.**"
   ]
  },
  {
   "cell_type": "code",
   "execution_count": null,
   "metadata": {},
   "outputs": [],
   "source": [
    "krozek = [\n",
    "    (\"Uvod\", 0, True),\n",
    "    (\"Sklop 1\", 3, True),\n",
    "    (\"Sklop 2\", 4, True),\n",
    "    (\"Sklop 3\", 3, True),\n",
    "    (\"Sklop 4\", 5, True),\n",
    "    (\"Sklop 5\", 5, True)\n",
    "]\n",
    "\n",
    "for sklop, _, opravljeno in krozek:\n",
    "    if not opravljeno:\n",
    "        break\n",
    "else:\n",
    "    print(\"Ne oziraj se na tisto spodaj. V resnici smo gotovi :)\")\n",
    "print(\"Trenutno se izvaja:\", sklop)"
   ]
  },
  {
   "cell_type": "markdown",
   "metadata": {},
   "source": [
    "## Funkcija `zip`\n",
    "\n",
    "Funkcija `zip` združi elemente seznamov, terk, nizov, itd. v seznam terk. Torej če imamo podatke v ločenih seznamih in želimo dostopati do istoležnih podatkov uporabimo to funkcijo."
   ]
  },
  {
   "cell_type": "code",
   "execution_count": null,
   "metadata": {},
   "outputs": [],
   "source": [
    "# Izpišimo imena sklopov in število podpoglavji z zgornjih ločenih seznamov\n",
    "\n",
    "for sklop, podpoglavje in zip(sklopi, podpoglavja):\n",
    "    print(sklop, \"ima\", podpoglavje, \"podpoglavj(e/i/a).\")"
   ]
  },
  {
   "cell_type": "markdown",
   "metadata": {},
   "source": [
    "Če se število elementov ne ujema se bo funkcija `zip` ustavila pri zadnjem elementu najkrašega seznama, terke, niza, itd."
   ]
  },
  {
   "cell_type": "markdown",
   "metadata": {},
   "source": [
    "## Funkcija `range`\n",
    "\n",
    "Funkcija `range` sprejme dva argumenta. Recimo jima `zacetek` in `konec`, torej `range(zacetek, konec)`. `Zacetek` oz. spodnja meja je vključena, `konec` oz. zgornja meja pa ne."
   ]
  },
  {
   "cell_type": "code",
   "execution_count": null,
   "metadata": {},
   "outputs": [],
   "source": [
    "# Izpišimo seznam števil od 1 do 7\n",
    "\n",
    "print(list(range(1, 8)))\n",
    "\n",
    "# Pa poskusimo še za seznam od -7 do -1\n",
    "\n",
    "print(list(range(-7, 0)))"
   ]
  }
 ],
 "metadata": {
  "interpreter": {
   "hash": "916dbcbb3f70747c44a77c7bcd40155683ae19c65e1c03b4aa3499c5328201f1"
  },
  "kernelspec": {
   "display_name": "Python 3.8.10 64-bit",
   "language": "python",
   "name": "python3"
  },
  "language_info": {
   "codemirror_mode": {
    "name": "ipython",
    "version": 3
   },
   "file_extension": ".py",
   "mimetype": "text/x-python",
   "name": "python",
   "nbconvert_exporter": "python",
   "pygments_lexer": "ipython3",
   "version": "3.8.10"
  },
  "orig_nbformat": 4
 },
 "nbformat": 4,
 "nbformat_minor": 2
}
