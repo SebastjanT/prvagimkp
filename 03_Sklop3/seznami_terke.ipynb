{
 "cells": [
  {
   "cell_type": "markdown",
   "metadata": {},
   "source": [
    "# Seznami\n",
    "\n",
    "Spoznali smo se že s podatkovnimi tipi, ki shranjujejo eno vrednost. Sedaj pa razširimo znanje s spoznavo seznama (`list`).\n",
    "\n",
    "Seznam v Python-u zapišemo z `[]`. Vrednosti v seznamu so lahko katerega koli tipa (tudi funkcije), ampak ponavadi vanj priredimo vrednosti istega tipa. "
   ]
  },
  {
   "cell_type": "code",
   "execution_count": null,
   "metadata": {},
   "outputs": [],
   "source": [
    "# Naredimo seznam sklopov krožka programiranja\n",
    "\n",
    "sklopi = [\"Uvod\", \"Sklop 1\", \"Sklop 2\", \n",
    "          \"Sklop 3\", \"Sklop 4\", \"Sklop 5\"]\n",
    "\n",
    "# Ustvarimo še en seznam števila podpoglavji vsakega sklopa\n",
    "podpoglavja = [0, 3, 4, 3, 5, 5]"
   ]
  },
  {
   "cell_type": "markdown",
   "metadata": {},
   "source": [
    "Seznami so lahko tudi:\n",
    "* prazni (`[]`),\n",
    "* imajo samo en element (`[\"Eden\"]`),\n",
    "* imajo za elemente prazne sezname (`[[], []]`).\n",
    "\n",
    "Element lahko na konec seznama dodamo z uporabo funkcije `seznam.append(\"Vrednost\")`."
   ]
  },
  {
   "cell_type": "markdown",
   "metadata": {},
   "source": [
    "# Terke\n",
    "\n",
    "Terka (`tuple`) je tudi podatkovni tip, ki shranjuje več vrednosti. V terke pa dajamo vrednosti različnih tipov. Glavni razliki med terkami in seznami pa sta:\n",
    "* terke zapišemo z `()` in\n",
    "* terk ne moremo spreminjati (so immutable)."
   ]
  },
  {
   "cell_type": "code",
   "execution_count": null,
   "metadata": {},
   "outputs": [],
   "source": [
    "# Zgornja seznama, bi lahko analogno prepisali v terke, ali pa jih zapišemo takole\n",
    "\n",
    "krozek = [\n",
    "    (\"Uvod\", 0),\n",
    "    (\"Sklop 1\", 3),\n",
    "    (\"Sklop 2\", 4),\n",
    "    (\"Sklop 3\", 3),\n",
    "    (\"Sklop 4\", 5),\n",
    "    (\"Sklop 5\", 5)\n",
    "]"
   ]
  },
  {
   "cell_type": "markdown",
   "metadata": {},
   "source": [
    "Terke so tudi lahko:\n",
    "* prazne (`()`),\n",
    "* imajo samo en element (`(\"Eden\", )`)."
   ]
  },
  {
   "cell_type": "markdown",
   "metadata": {},
   "source": [
    "## Razpakiranje v elemente\n",
    "\n",
    "Elemente lahko razpakiramo v več spremenljivk. To naredimo tako, da na levo postavimo tolko spremenljivk kot je elementov. Razpakiramo lahko tako sezname, terke in nize."
   ]
  },
  {
   "cell_type": "code",
   "execution_count": null,
   "metadata": {},
   "outputs": [],
   "source": [
    "# Razpakirajmo besedo Ena na njene črke\n",
    "ena = \"Ena\"\n",
    "\n",
    "prva, druga, tretja = ena\n",
    "\n",
    "print(prva, druga, tretja)"
   ]
  },
  {
   "cell_type": "markdown",
   "metadata": {},
   "source": [
    "Če želimo samo prvo črko v svoji spremenljivki ostanek pa v drugi to naredimo z `*` pred imenom spremenljivke."
   ]
  },
  {
   "cell_type": "code",
   "execution_count": null,
   "metadata": {},
   "outputs": [],
   "source": [
    "# Če želimo samo prvo črko v svoji spremenljivki ostanek pa v drugi to naredimo z *\n",
    "\n",
    "prva, *ostalo = ena\n",
    "print(prva, ostalo)"
   ]
  },
  {
   "cell_type": "markdown",
   "metadata": {},
   "source": [
    "Poglejmo še razpakiranje terke."
   ]
  },
  {
   "cell_type": "code",
   "execution_count": null,
   "metadata": {},
   "outputs": [],
   "source": [
    "krozek_1 = (\"Sklop 1\", 3, True)\n",
    "\n",
    "sklop, podpoglavje, opravljeno = krozek_1\n",
    "print(sklop, \"krožka osnov programiranja, s\", podpoglavje, \"podpoglavji. Je opravljen?\", opravljeno)"
   ]
  },
  {
   "cell_type": "markdown",
   "metadata": {},
   "source": [
    "## Menjava vrednosti dveh spremenljivk\n",
    "\n",
    "V Python lahko vrednosti dveh spremenljivk zamenjamo na sledeči način:"
   ]
  },
  {
   "cell_type": "code",
   "execution_count": null,
   "metadata": {},
   "outputs": [],
   "source": [
    "a = 2\n",
    "b = 3\n",
    "\n",
    "a, b = b, a\n",
    "\n",
    "print(a, b)"
   ]
  },
  {
   "cell_type": "markdown",
   "metadata": {},
   "source": [
    "## Dolžina\n",
    "\n",
    "Dolžino seznama, terke, niza lahko preverimo s funkcijo `len()`."
   ]
  },
  {
   "cell_type": "code",
   "execution_count": null,
   "metadata": {},
   "outputs": [],
   "source": [
    "# Dolžina terke\n",
    "print(len(krozek))\n",
    "\n",
    "# Dolžina niza\n",
    "print(len(ena))"
   ]
  }
 ],
 "metadata": {
  "interpreter": {
   "hash": "916dbcbb3f70747c44a77c7bcd40155683ae19c65e1c03b4aa3499c5328201f1"
  },
  "kernelspec": {
   "display_name": "Python 3.8.10 64-bit",
   "language": "python",
   "name": "python3"
  },
  "language_info": {
   "codemirror_mode": {
    "name": "ipython",
    "version": 3
   },
   "file_extension": ".py",
   "mimetype": "text/x-python",
   "name": "python",
   "nbconvert_exporter": "python",
   "pygments_lexer": "ipython3",
   "version": "3.8.10"
  },
  "orig_nbformat": 4
 },
 "nbformat": 4,
 "nbformat_minor": 2
}
