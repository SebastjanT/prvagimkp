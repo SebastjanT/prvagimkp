{
 "cells": [
  {
   "cell_type": "markdown",
   "metadata": {},
   "source": [
    "# Vaje (seznami, terke in for zanka)\n",
    "\n",
    "Problemi, ki jih poskusite izvesti, rešiti s pisanjem programov."
   ]
  },
  {
   "cell_type": "markdown",
   "metadata": {},
   "source": [
    "## Izpis števil od 1 do 10\n",
    "\n",
    "Ponovite klasični uvod spoznavanja z zako `while` (stetje do 10) z zanko `for`."
   ]
  },
  {
   "cell_type": "code",
   "execution_count": null,
   "metadata": {},
   "outputs": [],
   "source": [
    "# Prostor za kodo\n"
   ]
  },
  {
   "cell_type": "markdown",
   "metadata": {},
   "source": [
    "## Deljivo z 2 (ampak več števil)\n",
    "\n",
    "Preverite če so števila v danem seznamu deljiva z dva. Če so to izpišite uporabniku, če pa najdete eno število ki ni pa ga izpišite in končajte zanko."
   ]
  },
  {
   "cell_type": "code",
   "execution_count": null,
   "metadata": {},
   "outputs": [],
   "source": [
    "# Prostor za kodo\n",
    "\n",
    "stevila1 = [2, 5, 3, 8, 1, 9, 10, 30, 2098374598]\n",
    "stevila2 = [2, 2, 2, 2, 2, 2, 2, 2, 2, 20000]\n"
   ]
  },
  {
   "cell_type": "markdown",
   "metadata": {},
   "source": [
    "## Statistika ocen\n",
    "\n",
    "Iz spodnje terke predmetov in seznama ocen izpišite povprečno oceno osebe ter predmet z najnižjim povprečjem."
   ]
  },
  {
   "cell_type": "code",
   "execution_count": null,
   "metadata": {},
   "outputs": [],
   "source": [
    "# Prostor za kodo\n",
    "\n",
    "evidenca = [\n",
    "    (\"Matematika\", [5, 4, 3]),\n",
    "    (\"Kemija\", [3, 3, 3, 3]),\n",
    "    (\"Fizika\", [2, 3, 5, 5]),\n",
    "    (\"Biologija\", [1, 5, 5, 5, 5, 5]),\n",
    "    (\"Informatika\", [5])\n",
    "]\n"
   ]
  }
 ],
 "metadata": {
  "interpreter": {
   "hash": "916dbcbb3f70747c44a77c7bcd40155683ae19c65e1c03b4aa3499c5328201f1"
  },
  "kernelspec": {
   "display_name": "Python 3.8.10 64-bit",
   "language": "python",
   "name": "python3"
  },
  "language_info": {
   "name": "python",
   "version": "3.8.10"
  },
  "orig_nbformat": 4
 },
 "nbformat": 4,
 "nbformat_minor": 2
}
