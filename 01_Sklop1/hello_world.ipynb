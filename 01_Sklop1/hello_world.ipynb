{
 "cells": [
  {
   "cell_type": "markdown",
   "metadata": {},
   "source": [
    "# Pozdravljen svet\n",
    "\n",
    "Hitra osvežitev že osvojenega. Ustvarimo Python programček, ki bo izpisal niz `Hello, World!` na zaslon.\n",
    "\n",
    "Koraki:\n",
    "* odprite vaš najljubši urejevalnik besedila (Notepad++, Vi, Vim, Nano, Emacs, Sublime) ali IDE (IDLE, PyCharm, Thonny, VSCode),\n",
    "* vpišite `print(\"Hello, World!\")`,\n",
    "* shranite program pod [\"poljubnim imenom\"](#pravila-poimenovanj),\n",
    "* če uporabljate IDE poženite program kar preko uporabniškega vmesnika, ali pa ga poženite preko ukazne vrstice `python ime_programa.py` (Windows) oz. `python3 ime_programa.py` (Linux in MacOS).\n"
   ]
  },
  {
   "cell_type": "code",
   "execution_count": null,
   "metadata": {},
   "outputs": [],
   "source": [
    "# Isto še v Jupyter notebook-u\n",
    "\n",
    "print(\"Hello, World!\")"
   ]
  },
  {
   "cell_type": "markdown",
   "metadata": {},
   "source": [
    "# Pravila poimenovanj\n",
    "\n",
    "Pri poimenovanju Python programskih datotek, se držite naslednjih pravil:\n",
    "* vedno uporabite končnico `.py` (v imenu datoteke naj ne bo drugih pik),\n",
    "* uporabljajte standardne znake, pomišljaje in podčrtaje (namesto presledkov raje uporabite podčrtaj),\n",
    "* imena datoteke ne začeti s številko,\n",
    "* raje uporabljajte angleške črke\n",
    "* ne uporabljajte imen modulov (`print.py, list.py`)"
   ]
  }
 ],
 "metadata": {
  "interpreter": {
   "hash": "916dbcbb3f70747c44a77c7bcd40155683ae19c65e1c03b4aa3499c5328201f1"
  },
  "kernelspec": {
   "display_name": "Python 3.8.10 64-bit",
   "language": "python",
   "name": "python3"
  },
  "language_info": {
   "codemirror_mode": {
    "name": "ipython",
    "version": 3
   },
   "file_extension": ".py",
   "mimetype": "text/x-python",
   "name": "python",
   "nbconvert_exporter": "python",
   "pygments_lexer": "ipython3",
   "version": "3.8.10"
  },
  "orig_nbformat": 4
 },
 "nbformat": 4,
 "nbformat_minor": 2
}
