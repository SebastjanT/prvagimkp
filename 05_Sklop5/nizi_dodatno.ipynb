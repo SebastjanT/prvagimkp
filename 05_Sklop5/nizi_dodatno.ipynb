{
 "cells": [
  {
   "cell_type": "markdown",
   "metadata": {},
   "source": [
    "## Nizi - dodatno\n",
    "\n",
    "V tem delu se bomo osredotočili še na nekaj dodatnih operacij, ki so koristne pri oblikovanju in manipulaciji z nizi."
   ]
  },
  {
   "cell_type": "markdown",
   "metadata": {},
   "source": [
    "## Načini oblikovanja nizov\n",
    "\n",
    "Python podpira 3 načine oblikovanja nizov. Najmodernejši in trenutno najbolj uporabljen je način oblikovanja z f-nizi.\n",
    "\n",
    "Načini pa so:\n",
    "1. `%` operator (način oblikovanja, ki je zelo podoben oblikovanju v programskem jeziku C),\n",
    "2. `format` metoda (metoda, ki jo imajo nizi) in\n",
    "3. interpolacija nizov (f-nizi in r-nizi).\n",
    "\n",
    "R-nize uporabljamo takrat, ko želimo da se izpiše surov niz tako kot ga podamo."
   ]
  },
  {
   "cell_type": "code",
   "execution_count": 52,
   "metadata": {},
   "outputs": [
    {
     "name": "stdout",
     "output_type": "stream",
     "text": [
      "Danes je lep sončen dan.\n",
      "Danes je lep sončen dan.\n"
     ]
    }
   ],
   "source": [
    "# Nekaj podatkov\n",
    "danes0 = (\"lep\", \"sončen\")\n",
    "danes1 = {\"dan\": \"lep\", \"vreme\": \"sončen\"}\n",
    "\n",
    "# Primer oblikovanja z %\n",
    "print(\"Danes je %s %s dan.\" % danes0)\n",
    "print(\"Danes je %(dan)s %(vreme)s dan.\" % danes1)"
   ]
  },
  {
   "cell_type": "code",
   "execution_count": 53,
   "metadata": {},
   "outputs": [
    {
     "name": "stdout",
     "output_type": "stream",
     "text": [
      "Danes je lep sončen dan.\n"
     ]
    }
   ],
   "source": [
    "# Primer oblikovanja z .format\n",
    "vzorec = \"Danes je {dan} {vreme} dan.\"\n",
    "print(vzorec.format(dan = danes1[\"dan\"], vreme = danes1[\"vreme\"]))"
   ]
  },
  {
   "cell_type": "code",
   "execution_count": 54,
   "metadata": {},
   "outputs": [
    {
     "name": "stdout",
     "output_type": "stream",
     "text": [
      "Danes je lep sončen dan.\n"
     ]
    }
   ],
   "source": [
    "# Primer oblikovanja z f-nizi\n",
    "print(f\"Danes je {danes0[0]} {danes0[1]} dan.\")"
   ]
  },
  {
   "cell_type": "markdown",
   "metadata": {},
   "source": [
    "### Kontrolni znaki\n",
    "\n",
    "Pri izpisih lahko uporabljamo določene kontrolne znake. Najpogostejši so:\n",
    "* `\\n` in `\\t` (nova vrstica in tabulator)\n",
    "* `\\x42` (ASCII znaki)\n",
    "* `\\u0042` (Unicode znaki)\n",
    "* `\\N{BLACK SUN WITH RAYS}` (Unicode znaki po njihovem imenu)\n",
    "* `\\\\` (vzvratna poševnica)"
   ]
  },
  {
   "cell_type": "code",
   "execution_count": 55,
   "metadata": {},
   "outputs": [
    {
     "name": "stdout",
     "output_type": "stream",
     "text": [
      "B\tB\n",
      "☀\\\n"
     ]
    }
   ],
   "source": [
    "# Primer izpisa vsega na enkrat\n",
    "print(f\"\\x42\\t\\u0042\\n\\N{BLACK SUN WITH RAYS}\\\\\")"
   ]
  },
  {
   "cell_type": "code",
   "execution_count": 56,
   "metadata": {},
   "outputs": [
    {
     "name": "stdout",
     "output_type": "stream",
     "text": [
      "\\x42\\t\\u0042\\n\\N{BLACK SUN WITH RAYS}\\\\\n"
     ]
    }
   ],
   "source": [
    "# Primer r-niza\n",
    "print(r\"\\x42\\t\\u0042\\n\\N{BLACK SUN WITH RAYS}\\\\\")"
   ]
  },
  {
   "cell_type": "markdown",
   "metadata": {},
   "source": [
    "## Oblikovanje podatkov\n",
    "\n",
    "Podatkom, ki jih podamo v niz lahko pripišemo oblikovanje. V nize lahko vstavljamo tudi izraze."
   ]
  },
  {
   "cell_type": "code",
   "execution_count": 57,
   "metadata": {},
   "outputs": [],
   "source": [
    "evidenca = [\n",
    "    (\"Matematika\", [5, 4, 3, 1, 1, 1, 3, 2, 3]),\n",
    "    (\"Kemija\", [3, 3, 3, 3]),\n",
    "    (\"Fizika\", [2, 3, 5, 5]),\n",
    "    (\"Biologija\", [1, 5, 5, 5, 5, 5]),\n",
    "    (\"Informatika\", [5])\n",
    "]"
   ]
  },
  {
   "cell_type": "code",
   "execution_count": 58,
   "metadata": {},
   "outputs": [
    {
     "name": "stdout",
     "output_type": "stream",
     "text": [
      "Povprečje pri predmetu Matematika: 2.5555555555555554\n"
     ]
    }
   ],
   "source": [
    "# Izpišimo povprečje pri predmetu fizika\n",
    "print(f\"Povprečje pri predmetu {evidenca[0][0]}: {sum(evidenca[0][1]) / len(evidenca[0][1])}\")"
   ]
  },
  {
   "cell_type": "code",
   "execution_count": 59,
   "metadata": {},
   "outputs": [
    {
     "name": "stdout",
     "output_type": "stream",
     "text": [
      "Povprečje pri predmetu Matematika: 2.56\n"
     ]
    }
   ],
   "source": [
    "# Oblikujmo izpis povprečja tako, da bo vseboval 3 znake, od teh dve decimalni mesti\n",
    "print(f\"Povprečje pri predmetu {evidenca[0][0]}: {sum(evidenca[0][1]) / len(evidenca[0][1]):3.2f}\")"
   ]
  },
  {
   "cell_type": "code",
   "execution_count": 60,
   "metadata": {},
   "outputs": [
    {
     "name": "stdout",
     "output_type": "stream",
     "text": [
      "Povprečje pri predmetu Matematika: 2.56\n",
      "Povprečje pri predmetu Kemija: 3.00\n",
      "Povprečje pri predmetu Fizika: 3.75\n",
      "Povprečje pri predmetu Biologija: 4.33\n",
      "Povprečje pri predmetu Informatika: 5.00\n"
     ]
    }
   ],
   "source": [
    "# Sedaj pa izpišimo povprečje vseh ocen v evidenci\n",
    "for (predmet, ocene) in evidenca:\n",
    "    print(f\"Povprečje pri predmetu {predmet}: {sum(ocene) / len(ocene):3.2f}\")"
   ]
  },
  {
   "cell_type": "code",
   "execution_count": 61,
   "metadata": {},
   "outputs": [
    {
     "name": "stdout",
     "output_type": "stream",
     "text": [
      "Povprečje pri predmetu Matematika..........2.56\n",
      "Povprečje pri predmetu Kemija..............3.00\n",
      "Povprečje pri predmetu Fizika..............3.75\n",
      "Povprečje pri predmetu Biologija...........4.33\n",
      "Povprečje pri predmetu Informatika.........5.00\n"
     ]
    }
   ],
   "source": [
    "# Takšen izpis je precej nepregleden, dodajmo še oblikovanje postavitve\n",
    "for (predmet, ocene) in evidenca:\n",
    "    print(f\"Povprečje pri predmetu {predmet:.<20}{sum(ocene) / len(ocene):3.2f}\")"
   ]
  },
  {
   "cell_type": "markdown",
   "metadata": {},
   "source": [
    "Pri oblikovanju lahko uporabimo operatorje za centriranje:\n",
    "* center - `^`\n",
    "* desno - `>`\n",
    "* levo - `<`\n",
    "\n",
    "Lahko izpustimo kateri tip spremenljivke pričakujemo in dodamo simbol, ki se uporablja za zapolnjenje. Možnosti oblikovaja je še veliko več, kar lahko poiščete v dokumentaciji."
   ]
  },
  {
   "cell_type": "markdown",
   "metadata": {},
   "source": [
    "## Funkciji ord in chr\n",
    "\n",
    "Če želite pridobiti kodo znaka za to uporabite funkcijo `ord(znak)`. Za obratno operacijo pa funckijo `chr(st_znaka)`."
   ]
  },
  {
   "cell_type": "markdown",
   "metadata": {},
   "source": [
    "## Funkciji repr in eval\n",
    "\n",
    "Funkcija `repr(objekt)` vrne reprezentacijo objekta, ki je določena za izpis. Z funkcijo `eval(niz)` pa Python poskusi ugotoviti tip spremenljivke zapisane v nizu."
   ]
  },
  {
   "cell_type": "code",
   "execution_count": 62,
   "metadata": {},
   "outputs": [
    {
     "name": "stdout",
     "output_type": "stream",
     "text": [
      "{'dan': 'lep', 'vreme': 'sončen'}\n",
      "<class 'str'>\n",
      "<class 'dict'>\n",
      "lep\n"
     ]
    }
   ],
   "source": [
    "# Primer pretvobe slovarja v izpisno obliko\n",
    "slovar_izpis = repr(danes1)\n",
    "print(slovar_izpis)\n",
    "\n",
    "# Poskus pretvorbe nazaj v slovar\n",
    "print(type(slovar_izpis))\n",
    "danes2 = eval(slovar_izpis)\n",
    "print(type(danes2))\n",
    "print(danes2[\"dan\"])"
   ]
  }
 ],
 "metadata": {
  "interpreter": {
   "hash": "916dbcbb3f70747c44a77c7bcd40155683ae19c65e1c03b4aa3499c5328201f1"
  },
  "kernelspec": {
   "display_name": "Python 3.8.10 64-bit",
   "language": "python",
   "name": "python3"
  },
  "language_info": {
   "codemirror_mode": {
    "name": "ipython",
    "version": 3
   },
   "file_extension": ".py",
   "mimetype": "text/x-python",
   "name": "python",
   "nbconvert_exporter": "python",
   "pygments_lexer": "ipython3",
   "version": "3.8.10"
  },
  "orig_nbformat": 4
 },
 "nbformat": 4,
 "nbformat_minor": 2
}
