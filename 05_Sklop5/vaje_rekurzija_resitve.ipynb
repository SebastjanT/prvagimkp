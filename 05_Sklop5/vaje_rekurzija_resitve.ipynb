{
 "cells": [
  {
   "cell_type": "markdown",
   "metadata": {},
   "source": [
    "# Vaje (rekurzija) - Rešitve"
   ]
  },
  {
   "cell_type": "markdown",
   "metadata": {},
   "source": [
    "## Fibonacci\n",
    "\n",
    "Napišite funkcijo, ki bo rekurzivno izračunala Fibonaccijevo zaporedje za podani `n`."
   ]
  },
  {
   "cell_type": "code",
   "execution_count": null,
   "metadata": {},
   "outputs": [],
   "source": [
    "# Prostor za kodo\n",
    "n = 4\n",
    "\n",
    "def fibonacci_rek(n):\n",
    "    return 1 if n <= 2 else fibonacci_rek(n - 1) + fibonacci_rek(n - 2)\n",
    "\n",
    "fibonacci_rek(n)"
   ]
  },
  {
   "cell_type": "markdown",
   "metadata": {},
   "source": [
    "## Računanje potence števila\n",
    "\n",
    "Napišite funkcijo, ki bo rekurzivno izračunala potenco `potenca` podanega števila `stevilo`."
   ]
  },
  {
   "cell_type": "code",
   "execution_count": null,
   "metadata": {},
   "outputs": [],
   "source": [
    "# Prostor za kodo\n",
    "stevilo = 3\n",
    "potenca = 3\n",
    "\n",
    "def potenca_rek(stevilo, potenca):\n",
    "    return 1 if potenca == 0 else stevilo * potenca_rek(stevilo, potenca - 1)\n",
    "\n",
    "potenca_rek(stevilo, potenca)"
   ]
  },
  {
   "cell_type": "markdown",
   "metadata": {},
   "source": [
    "## Računanje fakultete\n",
    "\n",
    "Napišite funkcijo, ki bo rekurzivno izračunala fakulteto podanega števila `n`."
   ]
  },
  {
   "cell_type": "code",
   "execution_count": null,
   "metadata": {},
   "outputs": [],
   "source": [
    "# Prostor za kodo\n",
    "stevilo = 4\n",
    "\n",
    "def fakulteta_rek(stevilo):\n",
    "    return 1 if stevilo == 0 else stevilo * fakulteta_rek(stevilo - 1)\n",
    "\n",
    "fakulteta_rek(stevilo)"
   ]
  },
  {
   "cell_type": "markdown",
   "metadata": {},
   "source": [
    "## Palindromi\n",
    "\n",
    "Napišite funkcijo, ki bo rekurzivno preverila ali je niz palindrom."
   ]
  },
  {
   "cell_type": "code",
   "execution_count": null,
   "metadata": {},
   "outputs": [],
   "source": [
    "# Prostor za kodo\n",
    "palindrom = \"racecar\"\n",
    "beseda = \"hello\"\n",
    "\n",
    "def preveri_palindrom(beseda):\n",
    "    return beseda == \"\" or beseda[0] == beseda[-1] and preveri_palindrom(beseda[1:-1])\n",
    "\n",
    "print(preveri_palindrom(palindrom))\n",
    "print(preveri_palindrom(beseda))"
   ]
  },
  {
   "cell_type": "markdown",
   "metadata": {},
   "source": [
    "## Dolžina seznama\n",
    "\n",
    "Napišite funkcijo, ki rekurzivno izračuna dolžino podanega seznama."
   ]
  },
  {
   "cell_type": "code",
   "execution_count": null,
   "metadata": {},
   "outputs": [],
   "source": [
    "# Prostor za kodo\n",
    "example = list(range(10))\n",
    "\n",
    "def dolzina_rek(seznam):\n",
    "    if not seznam:\n",
    "        return 0\n",
    "    seznam.pop()\n",
    "    return 1 + dolzina_rek(seznam)\n",
    "\n",
    "dolzina_rek(example)"
   ]
  },
  {
   "cell_type": "markdown",
   "metadata": {},
   "source": [
    "## Oklepajski izrazi\n",
    "\n",
    "Napišite funkcijo, ki izpiše vse možne pravilne oklepajske izraze za podani `n` (število oklepajev).\n",
    "\n",
    "Primer pravilnih oklepajskih izrazov za n = 3:\n",
    "((()))\n",
    "(()())\n",
    "(())()\n",
    "()(())\n",
    "()()()"
   ]
  },
  {
   "cell_type": "code",
   "execution_count": null,
   "metadata": {},
   "outputs": [],
   "source": [
    "# Prostor za kodo\n",
    "n = 3\n",
    "\n",
    "def oklepaji(n, preostali_zaklepaji, izraz):\n",
    "    if preostali_zaklepaji == 0:\n",
    "        print(izraz)\n",
    "    if n > 0:\n",
    "        oklepaji(n - 1, preostali_zaklepaji, izraz + \"(\")\n",
    "    if preostali_zaklepaji > n:\n",
    "        oklepaji(n, preostali_zaklepaji - 1, izraz + \")\")\n",
    "\n",
    "oklepaji(n, n, \"\")"
   ]
  },
  {
   "cell_type": "markdown",
   "metadata": {},
   "source": [
    "## Vsota enaka od podane vsote\n",
    "\n",
    "Napišite funkcijo, ki izbere takšne elemente iz seznama, da je njihova vsota enaka podani vsoti."
   ]
  },
  {
   "cell_type": "code",
   "execution_count": null,
   "metadata": {},
   "outputs": [],
   "source": [
    "# Prostor za kodo\n",
    "example = list(range(10))\n",
    "podana_vsota = 8\n",
    "\n",
    "def izberi_elemente(seznam, podana_vsota, izbrani):\n",
    "    if podana_vsota == 0:\n",
    "        return izbrani\n",
    "    if podana_vsota < 0:\n",
    "        return False\n",
    "    if not seznam:\n",
    "        return False\n",
    "    \n",
    "    izbrani.append(seznam[0])\n",
    "    if izberi_elemente(seznam[1:], podana_vsota - seznam[0], izbrani):\n",
    "        return izbrani\n",
    "    else:  \n",
    "        izbrani.pop()\n",
    "        return izberi_elemente(seznam[1:], podana_vsota, izbrani)\n",
    "\n",
    "izbrani = []\n",
    "izbrani = izberi_elemente(example, podana_vsota, izbrani)\n",
    "print(izbrani)"
   ]
  }
 ],
 "metadata": {
  "interpreter": {
   "hash": "916dbcbb3f70747c44a77c7bcd40155683ae19c65e1c03b4aa3499c5328201f1"
  },
  "kernelspec": {
   "display_name": "Python 3.8.10 64-bit",
   "language": "python",
   "name": "python3"
  },
  "language_info": {
   "codemirror_mode": {
    "name": "ipython",
    "version": 3
   },
   "file_extension": ".py",
   "mimetype": "text/x-python",
   "name": "python",
   "nbconvert_exporter": "python",
   "pygments_lexer": "ipython3",
   "version": "3.8.10"
  },
  "orig_nbformat": 4
 },
 "nbformat": 4,
 "nbformat_minor": 2
}
