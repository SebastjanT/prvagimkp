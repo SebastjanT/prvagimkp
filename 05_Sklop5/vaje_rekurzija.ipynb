{
 "cells": [
  {
   "cell_type": "markdown",
   "metadata": {},
   "source": [
    "# Vaje (rekurzija)"
   ]
  },
  {
   "cell_type": "markdown",
   "metadata": {},
   "source": [
    "## Fibonacci\n",
    "\n",
    "Napišite funkcijo, ki bo rekurzivno izračunala Fibonaccijevo zaporedje za podani `n`."
   ]
  },
  {
   "cell_type": "code",
   "execution_count": null,
   "metadata": {},
   "outputs": [],
   "source": [
    "# Prostor za kodo\n",
    "n = 4\n"
   ]
  },
  {
   "cell_type": "markdown",
   "metadata": {},
   "source": [
    "## Računanje potence števila\n",
    "\n",
    "Napišite funkcijo, ki bo rekurzivno izračunala potenco `potenca` podanega števila `stevilo`."
   ]
  },
  {
   "cell_type": "code",
   "execution_count": null,
   "metadata": {},
   "outputs": [],
   "source": [
    "# Prostor za kodo\n",
    "stevilo = 3\n",
    "potenca = 3\n"
   ]
  },
  {
   "cell_type": "markdown",
   "metadata": {},
   "source": [
    "## Računanje fakultete\n",
    "\n",
    "Napišite funkcijo, ki bo rekurzivno izračunala fakulteto podanega števila `stevilo`."
   ]
  },
  {
   "cell_type": "code",
   "execution_count": null,
   "metadata": {},
   "outputs": [],
   "source": [
    "# Prostor za kodo\n",
    "stevilo = 4\n"
   ]
  },
  {
   "cell_type": "markdown",
   "metadata": {},
   "source": [
    "## Palindromi\n",
    "\n",
    "Napišite funkcijo, ki bo rekurzivno preverila ali je niz palindrom."
   ]
  },
  {
   "cell_type": "code",
   "execution_count": null,
   "metadata": {},
   "outputs": [],
   "source": [
    "# Prostor za kodo\n",
    "palindrom = \"racecar\"\n",
    "beseda = \"hello\"\n"
   ]
  },
  {
   "cell_type": "markdown",
   "metadata": {},
   "source": [
    "## Dolžina seznama\n",
    "\n",
    "Napišite funkcijo, ki rekurzivno izračuna dolžino podanega seznama."
   ]
  },
  {
   "cell_type": "code",
   "execution_count": null,
   "metadata": {},
   "outputs": [],
   "source": [
    "# Prostor za kodo\n",
    "example = list(range(10))\n"
   ]
  },
  {
   "cell_type": "markdown",
   "metadata": {},
   "source": [
    "## Oklepajski izrazi\n",
    "\n",
    "Napišite funkcijo, ki izpiše vse možne pravilne oklepajske izraze za podani `n` (število oklepajev).\n",
    "\n",
    "Primer pravilnih oklepajskih izrazov za n = 3:\n",
    "((()))\n",
    "(()())\n",
    "(())()\n",
    "()(())\n",
    "()()()"
   ]
  },
  {
   "cell_type": "code",
   "execution_count": null,
   "metadata": {},
   "outputs": [],
   "source": [
    "# Prostor za kodo\n",
    "n = 3\n"
   ]
  },
  {
   "cell_type": "markdown",
   "metadata": {},
   "source": [
    "## Vsota manjša od podane vsote\n",
    "\n",
    "Napišite funkcijo, ki izbere takšne elemente iz seznama, da je njihova vsota manjša od podane vsote."
   ]
  },
  {
   "cell_type": "code",
   "execution_count": null,
   "metadata": {},
   "outputs": [],
   "source": [
    "# Prostor za kodo\n",
    "example = list(range(10))\n",
    "podana_vsota = 8\n"
   ]
  }
 ],
 "metadata": {
  "interpreter": {
   "hash": "916dbcbb3f70747c44a77c7bcd40155683ae19c65e1c03b4aa3499c5328201f1"
  },
  "kernelspec": {
   "display_name": "Python 3.8.10 64-bit",
   "language": "python",
   "name": "python3"
  },
  "language_info": {
   "name": "python",
   "version": "3.8.10"
  },
  "orig_nbformat": 4
 },
 "nbformat": 4,
 "nbformat_minor": 2
}
