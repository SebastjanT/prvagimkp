{
 "cells": [
  {
   "cell_type": "markdown",
   "metadata": {},
   "source": [
    "## Napake\n",
    "\n",
    "Pri programiranju se hitro srečamo z napakami. Upravljanje z napakami je kritični del pisanja programov."
   ]
  },
  {
   "cell_type": "code",
   "execution_count": null,
   "metadata": {},
   "outputs": [],
   "source": [
    "# Sprožimo napako\n",
    "\n",
    "niz = \"ena\"\n",
    "stevilka = 2\n",
    "\n",
    "rezultat = niz + stevilka"
   ]
  },
  {
   "cell_type": "markdown",
   "metadata": {},
   "source": [
    "## Lovljenje napak z try\n",
    "\n",
    "Napake v delu programa, kjer pričakujemo, da se lahko zgodijo, lahko ulovimo tako, da del kode postavimo v `try ... except` ovoj."
   ]
  },
  {
   "cell_type": "code",
   "execution_count": null,
   "metadata": {},
   "outputs": [],
   "source": [
    "# Lovljenje neveljavnega vnosa\n",
    "try:\n",
    "  vnos = int(input(\"Vnesite celo število:\"))\n",
    "  print(f\"Vnesli ste {vnos}.\")\n",
    "except ValueError:\n",
    "  print(\"Niste vnesli celega števila.\")"
   ]
  },
  {
   "cell_type": "markdown",
   "metadata": {},
   "source": [
    "Tudi `try` lahko sledi `else` rezervirana beseda."
   ]
  },
  {
   "cell_type": "code",
   "execution_count": null,
   "metadata": {},
   "outputs": [],
   "source": [
    "# Lovljenje neveljavnega vnosa\n",
    "try:\n",
    "  vnos = int(input(\"Vnesite celo število:\"))\n",
    "except ValueError:\n",
    "  print(\"Niste vnesli celega števila.\")\n",
    "else:\n",
    "  print(f\"Vnesli ste {vnos}.\")"
   ]
  },
  {
   "cell_type": "markdown",
   "metadata": {},
   "source": [
    "Na koncu pa lahko uporabimo še rezervirano besedo `finally`, ki se izvede ne glede ali je napaka ulovljena ali ne."
   ]
  },
  {
   "cell_type": "code",
   "execution_count": null,
   "metadata": {},
   "outputs": [],
   "source": [
    "# Lovljenje neveljavnega vnosa\n",
    "try:\n",
    "  vnos = int(input(\"Vnesite celo število:\"))\n",
    "except ValueError:\n",
    "  print(\"Niste vnesli celega števila.\")\n",
    "else:\n",
    "  print(f\"Vnesli ste {vnos}.\")\n",
    "finally:\n",
    "  print(f\"Lov je končan.\")"
   ]
  },
  {
   "cell_type": "markdown",
   "metadata": {},
   "source": [
    "## Dvig napake\n",
    "\n",
    "Ko pa želimo sami opozoriti na napako to naredimo z rezervirano besedo `raise`.\n"
   ]
  },
  {
   "cell_type": "code",
   "execution_count": null,
   "metadata": {},
   "outputs": [],
   "source": [
    "# Vrnimo osnovno napako, z po-meri opisom\n",
    "\n",
    "if vnos == 1:\n",
    "  raise Exception(\"Čisto premalo\")"
   ]
  }
 ],
 "metadata": {
  "interpreter": {
   "hash": "916dbcbb3f70747c44a77c7bcd40155683ae19c65e1c03b4aa3499c5328201f1"
  },
  "kernelspec": {
   "display_name": "Python 3.8.10 64-bit",
   "language": "python",
   "name": "python3"
  },
  "language_info": {
   "codemirror_mode": {
    "name": "ipython",
    "version": 3
   },
   "file_extension": ".py",
   "mimetype": "text/x-python",
   "name": "python",
   "nbconvert_exporter": "python",
   "pygments_lexer": "ipython3",
   "version": "3.8.10"
  },
  "orig_nbformat": 4
 },
 "nbformat": 4,
 "nbformat_minor": 2
}
