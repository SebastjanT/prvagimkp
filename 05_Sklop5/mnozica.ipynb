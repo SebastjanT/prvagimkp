{
 "cells": [
  {
   "cell_type": "markdown",
   "metadata": {},
   "source": [
    "# Mnozica\n",
    "\n",
    "Podatkovni tip `set`. Ustvarimo jo z zavitimi oklepaji `{element1, element2, element3}`."
   ]
  },
  {
   "cell_type": "code",
   "execution_count": null,
   "metadata": {},
   "outputs": [],
   "source": [
    "# Naredimo seznam sklopov krožka programiranja\n",
    "sklopi = [\"Uvod\", \"Sklop 1\", \"Sklop 2\", \n",
    "          \"Sklop 3\", \"Sklop 4\", \"Sklop 5\"]\n",
    "\n",
    "# Ustvarimo še en seznam števila podpoglavji vsakega sklopa\n",
    "podpoglavja = [0, 3, 4, 3, 5, 5]\n",
    "\n",
    "# Ustvarimo množico iz seznama podpoglavji\n",
    "mnozica_podpoglavja = set(podpoglavja)\n",
    "\n",
    "print(type(mnozica_podpoglavja))\n",
    "print(mnozica_podpoglavja)"
   ]
  },
  {
   "cell_type": "code",
   "execution_count": null,
   "metadata": {},
   "outputs": [],
   "source": [
    "# Ustvarimo prazno množico\n",
    "demo_mnozica = set()\n",
    "print(demo_mnozica)"
   ]
  },
  {
   "cell_type": "code",
   "execution_count": null,
   "metadata": {},
   "outputs": [],
   "source": [
    "# Kaj dobimo če poskusimo ustvariti prazno množico z {}\n",
    "demo_mnozica = {}\n",
    "print(type(demo_mnozica))"
   ]
  },
  {
   "cell_type": "code",
   "execution_count": null,
   "metadata": {},
   "outputs": [],
   "source": [
    "# Ustvarimo množico nizov ena, dva in tri\n",
    "demo_mnozica = {\"ena\", \"dva\", \"tri\"}\n",
    "print(demo_mnozica)"
   ]
  },
  {
   "cell_type": "code",
   "execution_count": null,
   "metadata": {},
   "outputs": [],
   "source": [
    "# Ustvarimo množico črk v nizu\n",
    "demo_mnozica = set(\"Uvod\")\n",
    "print(demo_mnozica)"
   ]
  },
  {
   "cell_type": "markdown",
   "metadata": {},
   "source": [
    "## Lastnosti množic:\n",
    "* element se v množici lahko pojavi samo enkrat,\n",
    "* vsebujejo lahko samo nespremenljive tipe podatkov,\n",
    "* operacije dodajanja, brisanja in preverjanja vsebnosti elementa so časovno neodvisni od velikosti množice,\n",
    "* nad njimi lahko izvajamo operacije preseka, unije, razlike, simetrične razlike in pa preverjanje pod/nadmnožic."
   ]
  },
  {
   "cell_type": "markdown",
   "metadata": {},
   "source": [
    "## Operacije z množicami\n",
    "\n",
    "### Preverjanje ali je element v množici\n",
    "\n",
    "Za preverjanje prisotnosti elementa v množici uporabimo rezervirano besedo `in`."
   ]
  },
  {
   "cell_type": "code",
   "execution_count": null,
   "metadata": {},
   "outputs": [],
   "source": [
    "# Ali imamo sklop z enim podpoglavjem\n",
    "print(1 in mnozica_podpoglavja)\n",
    "\n",
    "# Kaj pa z 0\n",
    "print(0 in mnozica_podpoglavja)"
   ]
  },
  {
   "cell_type": "markdown",
   "metadata": {},
   "source": [
    "### Presek, unija, razlika in simetrična razlika\n",
    "\n",
    "Operacije:\n",
    "* presek (`mnozica1 & mnozica2`),\n",
    "* unija (`mnozica1 | mnozica2`),\n",
    "* razlika (`mnozica1 - mnozica2`),\n",
    "* simetrična razlika (`mnozica1 ^ mnozica2`)."
   ]
  },
  {
   "cell_type": "code",
   "execution_count": null,
   "metadata": {},
   "outputs": [],
   "source": [
    "# Ustvarimo dve množici\n",
    "mnozica1 = {\"Okno\", \"Vrata\", \"Miza\"}\n",
    "mnozica2 = {\"Tabla\", \"Miza\", \"Tipkovnica\"}"
   ]
  },
  {
   "cell_type": "code",
   "execution_count": null,
   "metadata": {},
   "outputs": [],
   "source": [
    "# Unija\n",
    "print(mnozica1 | mnozica2)"
   ]
  },
  {
   "cell_type": "code",
   "execution_count": null,
   "metadata": {},
   "outputs": [],
   "source": [
    "# Presek\n",
    "print(mnozica1 & mnozica2)"
   ]
  },
  {
   "cell_type": "code",
   "execution_count": null,
   "metadata": {},
   "outputs": [],
   "source": [
    "# Razlika\n",
    "print(mnozica1 - mnozica2)"
   ]
  },
  {
   "cell_type": "code",
   "execution_count": null,
   "metadata": {},
   "outputs": [],
   "source": [
    "# Simetrična razlika\n",
    "print(mnozica1 ^ mnozica2)"
   ]
  },
  {
   "cell_type": "markdown",
   "metadata": {},
   "source": [
    "### Podmnožica ali nadmnožica\n",
    "\n",
    "Preverimo tako, da uporabimo operatorje za primerjanje."
   ]
  },
  {
   "cell_type": "code",
   "execution_count": null,
   "metadata": {},
   "outputs": [],
   "source": [
    "# mozica1 podmnozica mnozica2\n",
    "print(mnozica1 <= mnozica2)"
   ]
  },
  {
   "cell_type": "markdown",
   "metadata": {},
   "source": [
    "## Metode množic\n",
    "\n",
    "Tukaj omenimo 4 metode množic, ki jih je koristno poznati."
   ]
  },
  {
   "cell_type": "markdown",
   "metadata": {},
   "source": [
    "### Metoda add\n",
    "\n",
    "Nov element dodamo tako, da ga kot argument podamo metodi `add` (npr. `mnozica.add(element)`)."
   ]
  },
  {
   "cell_type": "code",
   "execution_count": null,
   "metadata": {},
   "outputs": [],
   "source": [
    "# Dodajmo vrednost 1\n",
    "mnozica_podpoglavja.add(1)\n",
    "\n",
    "print(mnozica_podpoglavja)"
   ]
  },
  {
   "cell_type": "markdown",
   "metadata": {},
   "source": [
    "### Metoda update\n",
    "\n",
    "Če želimo v množico dodati več elementov, shranjenih v podatkovnih tipih, po katerih se lahko sprehodimo uporabimo metodo `update` (npr. `mnozica.update(seznam)`)."
   ]
  },
  {
   "cell_type": "code",
   "execution_count": null,
   "metadata": {},
   "outputs": [],
   "source": [
    "# Ustvarimo seznam števil od 1 do 5\n",
    "enapet = list(range(1, 6))\n",
    "\n",
    "mnozica_podpoglavja.update(enapet)\n",
    "\n",
    "print(mnozica_podpoglavja)\n",
    "\n",
    "mnozica_podpoglavja.update(range(6, 10))\n",
    "\n",
    "print(mnozica_podpoglavja)"
   ]
  },
  {
   "cell_type": "markdown",
   "metadata": {},
   "source": [
    "### Metodi remove in discard\n",
    "\n",
    "Za brisanje elementa lahko uporabimo dve metodi `remove` in `discard` tako, da podamo element kot argument (npr. `mnozica.discard(element)`)."
   ]
  },
  {
   "cell_type": "code",
   "execution_count": null,
   "metadata": {},
   "outputs": [],
   "source": [
    "# Izbrišimo element 9\n",
    "mnozica_podpoglavja.remove(9)\n",
    "\n",
    "print(mnozica_podpoglavja)"
   ]
  },
  {
   "cell_type": "code",
   "execution_count": null,
   "metadata": {},
   "outputs": [],
   "source": [
    "# Izbrišimo element 9\n",
    "mnozica_podpoglavja.discard(9)\n",
    "\n",
    "print(mnozica_podpoglavja)"
   ]
  }
 ],
 "metadata": {
  "interpreter": {
   "hash": "916dbcbb3f70747c44a77c7bcd40155683ae19c65e1c03b4aa3499c5328201f1"
  },
  "kernelspec": {
   "display_name": "Python 3.8.10 64-bit",
   "language": "python",
   "name": "python3"
  },
  "language_info": {
   "codemirror_mode": {
    "name": "ipython",
    "version": 3
   },
   "file_extension": ".py",
   "mimetype": "text/x-python",
   "name": "python",
   "nbconvert_exporter": "python",
   "pygments_lexer": "ipython3",
   "version": "3.8.10"
  },
  "orig_nbformat": 4
 },
 "nbformat": 4,
 "nbformat_minor": 2
}
