{
 "cells": [
  {
   "cell_type": "markdown",
   "metadata": {},
   "source": [
    "# Vaje (objektno programiranje)"
   ]
  },
  {
   "cell_type": "markdown",
   "metadata": {},
   "source": [
    "## Stanje na računu\n",
    "\n",
    "Ustvarite razred `Racun`, ki bo vseboval podatkovne atribute `ime_lastnika, stanje, datumi_tranzakcij` in metodi za polog denarja in dvig denarja (kompleksnost metod prepuščam vam, ob vsaki tranzakiciji, pa se mora posodobiti stanje in zabeležiti datum). Ime lastnika, se naj nastavi ob inicializaciji objekta.\n",
    "\n",
    "Napišite program, ki bo ustvaril vsaj dva objekta razreda `racun` in izvedel par tranzakcij."
   ]
  },
  {
   "cell_type": "code",
   "execution_count": null,
   "metadata": {},
   "outputs": [],
   "source": [
    "# Prostor za kodo\n",
    "\n",
    "from datetime import date\n",
    "\n",
    "class Racun:\n",
    "    \n",
    "    def __init__(self, ime):\n",
    "        self._ime = ime\n",
    "        self._stanje = 0.0\n",
    "        self._datumi_tranzakcij = []\n",
    "        \n",
    "    def polog_denarja(self, vsota):\n",
    "        self._datumi_tranzakcij.append(date.today())\n",
    "        if vsota <= 0:\n",
    "            print(\"Polog je neveljaven. Položite lahko samo pozitivno vsoto.\")\n",
    "        else:\n",
    "            self._stanje += vsota\n",
    "        self.pregled_stanja()\n",
    "    \n",
    "    def dvig_denarja(self, vsota):\n",
    "        self._datumi_tranzakcij.append(date.today())\n",
    "        if vsota <= 0:\n",
    "            print(\"Dvig je neveljaven. Dvignete lahko samo pozitivno vsoto.\")\n",
    "            return 0\n",
    "        if self._stanje - vsota >= 0:\n",
    "            self._stanje -= vsota\n",
    "            self.pregled_stanja()\n",
    "            return vsota\n",
    "        print(\"Naš sistem ne omogoča limita!\")\n",
    "        return 0\n",
    "    \n",
    "    def pregled_stanja (self):\n",
    "        print(f\"Stanje na računu je {self._stanje}.\")\n",
    "        \n",
    "    def st_tranzakcij(self):\n",
    "        print(f\"Število opravljenih tranzakcij je {len(self._datumi_tranzakcij)}.\")\n",
    "    \n",
    "\n",
    "komitenti = []\n",
    "komitenti.append(Racun(\"Ime\"))\n",
    "komitenti.append(Racun(\"Ime2\"))\n",
    "\n",
    "# Pregled stanja komitenta 0\n",
    "komitenti[0].pregled_stanja()\n",
    "# Polog denarja komitenta 0\n",
    "komitenti[0].polog_denarja(1.0)\n",
    "# Dvig denarja komitenta 1\n",
    "vsota = komitenti[1].dvig_denarja(1000)\n",
    "print(f\"Dvignil sem {vsota}.\")\n",
    "# Polog denarja komitenta 1\n",
    "komitenti[1].polog_denarja(100)\n",
    "# Dvig denarja komitenta 1\n",
    "vsota = komitenti[1].dvig_denarja(50)\n",
    "print(f\"Dvignil sem {vsota}.\")\n",
    "# Izpis števila tranzakcij komitenta 1\n",
    "komitenti[1].st_tranzakcij()"
   ]
  },
  {
   "cell_type": "markdown",
   "metadata": {},
   "source": [
    "## Dedovanje\n",
    "\n",
    "Ustvarite razred `Racun_z_limitom`, ki bo podedoval vse podatkovne atribute in metode od razreda `Racun`, in jih po potrebi spremenil/dodal, da bo omogočen limit na računu."
   ]
  },
  {
   "cell_type": "code",
   "execution_count": null,
   "metadata": {},
   "outputs": [],
   "source": [
    "# Prostor za kodo\n",
    "\n",
    "class Racun_z_limitom(Racun):\n",
    "\n",
    "    def __init__(self, ime, limit):\n",
    "        super().__init__(ime)\n",
    "        self._limit = limit\n",
    "\n",
    "    def dvig_denarja(self, vsota):\n",
    "        self._datumi_tranzakcij.append(date.today())\n",
    "        if vsota <= 0:\n",
    "            print(\"Dvig je neveljaven. Dvignete lahko samo pozitivno vsoto.\")\n",
    "            return 0\n",
    "        if self._stanje - vsota >= -self._limit:\n",
    "            self._stanje -= vsota\n",
    "            self.pregled_stanja()\n",
    "            return vsota\n",
    "        print(\"Presegli ste vašo vrednost limita!\")\n",
    "        return 0\n",
    "  \n",
    "komitent = Racun_z_limitom(\"Ime3\", 3000)\n",
    "\n",
    "# Dvig denarja komitenta\n",
    "vsota = komitent.dvig_denarja(1000)\n",
    "print(f\"Dvignil sem {vsota}.\")\n",
    "# Dvig denarja komitenta\n",
    "vsota = komitent.dvig_denarja(3000)\n",
    "print(f\"Dvignil sem {vsota}.\")\n",
    "# Pregled stanja za komitenta\n",
    "komitent.pregled_stanja()\n",
    "# Polog denarja komitenta\n",
    "komitent.polog_denarja(100)\n",
    "# Izpis števila tranzakcij komitenta\n",
    "komitent.st_tranzakcij()"
   ]
  }
 ],
 "metadata": {
  "interpreter": {
   "hash": "916dbcbb3f70747c44a77c7bcd40155683ae19c65e1c03b4aa3499c5328201f1"
  },
  "kernelspec": {
   "display_name": "Python 3.8.10 64-bit",
   "language": "python",
   "name": "python3"
  },
  "language_info": {
   "codemirror_mode": {
    "name": "ipython",
    "version": 3
   },
   "file_extension": ".py",
   "mimetype": "text/x-python",
   "name": "python",
   "nbconvert_exporter": "python",
   "pygments_lexer": "ipython3",
   "version": "3.8.10"
  },
  "orig_nbformat": 4
 },
 "nbformat": 4,
 "nbformat_minor": 2
}
