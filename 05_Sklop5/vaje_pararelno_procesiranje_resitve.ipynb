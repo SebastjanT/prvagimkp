{
 "cells": [
  {
   "cell_type": "markdown",
   "metadata": {},
   "source": [
    "# Vaje (pararelno procesiranje) - rešitve"
   ]
  },
  {
   "cell_type": "markdown",
   "metadata": {},
   "source": [
    "## Merge sort\n",
    "\n",
    "Implementirajte sortirni algoritem Merge sort."
   ]
  },
  {
   "cell_type": "code",
   "execution_count": null,
   "metadata": {},
   "outputs": [],
   "source": [
    "import random\n",
    "import timeit\n",
    "\n",
    "# Prostor za kodo\n",
    "def merge(data_left, data_right):\n",
    "    if not data_left:\n",
    "        return data_right\n",
    "\n",
    "    if not data_right:\n",
    "        return data_left\n",
    "\n",
    "    data_result = []\n",
    "    data_left_iter = 0\n",
    "    data_right_iter = 0\n",
    "\n",
    "    while len(data_result) != len(data_left) + len(data_right):\n",
    "        left = data_left[data_left_iter]\n",
    "        right = data_right[data_right_iter]\n",
    "\n",
    "        if left <= right:\n",
    "            data_result.append(left)\n",
    "            data_left_iter += 1\n",
    "        else:\n",
    "            data_result.append(right)\n",
    "            data_right_iter += 1\n",
    "\n",
    "        if data_left_iter == len(data_left):\n",
    "            data_result += data_right[data_right_iter:]\n",
    "            break\n",
    "        \n",
    "        if data_right_iter == len(data_right):\n",
    "            data_result += data_left[data_left_iter:]\n",
    "            break\n",
    "\n",
    "    return data_result\n",
    "\n",
    "\n",
    "def single_merge_sort(data):\n",
    "    if len(data) < 2:\n",
    "        return data\n",
    "\n",
    "    mid = len(data) // 2\n",
    "\n",
    "    result = merge(single_merge_sort(data[:mid]), single_merge_sort(data[mid:]))\n",
    "\n",
    "    return result"
   ]
  },
  {
   "cell_type": "code",
   "execution_count": null,
   "metadata": {},
   "outputs": [],
   "source": [
    "# Run the sort\n",
    "\n",
    "data = random.sample(range(0, 100), 5)\n",
    "print(f\"Unordered list: {data}\")\n",
    "\n",
    "result = single_merge_sort(data)\n",
    "print(f\"Sorted with single_merge_sort: {result}\")\n",
    "\n",
    "# Time the implementation\n",
    "setup = \"from __main__ import single_merge_sort; import random; data = random.sample(range(0, int(1e18)), 1000000)\"\n",
    "stmt = \"single_merge_sort(data)\"\n",
    "number = 5\n",
    "times = timeit.repeat(setup = setup, stmt = stmt, repeat = 3, number = number)\n",
    "\n",
    "print(f\"Min execution time: {min(times) / number}\")"
   ]
  },
  {
   "cell_type": "markdown",
   "metadata": {},
   "source": [
    "# Pararelni Merge sort\n",
    "\n",
    "Dopolnite vašo implementacijo Merge sort algoritma, tako, da jo poženete paralelno."
   ]
  },
  {
   "cell_type": "code",
   "execution_count": null,
   "metadata": {},
   "outputs": [],
   "source": [
    "# Prostor za kodo\n",
    "import multiprocessing as mp\n",
    "import numpy as np\n",
    "\n",
    "def multi_merge_sort(data):\n",
    "    if len(data) < 2:\n",
    "        return data\n",
    "    \n",
    "    result = []\n",
    "    no_cores = mp.cpu_count()\n",
    "    with mp.Pool(no_cores) as pool:\n",
    "        chunks = [i.tolist() for i in np.array_split(data, no_cores)]\n",
    "        sorted_chunks = pool.map(single_merge_sort, chunks)\n",
    "\n",
    "        for sorted_chunk in sorted_chunks:\n",
    "            result = merge(result, sorted_chunk)\n",
    "\n",
    "    return result"
   ]
  },
  {
   "cell_type": "code",
   "execution_count": null,
   "metadata": {},
   "outputs": [],
   "source": [
    "data = random.sample(range(0, 100), 5)\n",
    "print(f\"Unordered list: {data}\")\n",
    "\n",
    "result = multi_merge_sort(data)\n",
    "print(f\"Sorted with multi_merge_sort: {result}\")\n",
    "\n",
    "\n",
    "# Time the implementation\n",
    "setup = \"from __main__ import multi_merge_sort; import random; data = random.sample(range(0, int(1e18)), 1000000)\"\n",
    "stmt = \"multi_merge_sort(data)\"\n",
    "number = 5\n",
    "times = timeit.repeat(setup = setup, stmt = stmt, repeat = 3, number = number)\n",
    "\n",
    "print(f\"Min execution time: {min(times) / number}\")"
   ]
  }
 ],
 "metadata": {
  "interpreter": {
   "hash": "916dbcbb3f70747c44a77c7bcd40155683ae19c65e1c03b4aa3499c5328201f1"
  },
  "kernelspec": {
   "display_name": "Python 3.8.10 64-bit",
   "language": "python",
   "name": "python3"
  },
  "language_info": {
   "codemirror_mode": {
    "name": "ipython",
    "version": 3
   },
   "file_extension": ".py",
   "mimetype": "text/x-python",
   "name": "python",
   "nbconvert_exporter": "python",
   "pygments_lexer": "ipython3",
   "version": "3.8.10"
  },
  "orig_nbformat": 4
 },
 "nbformat": 4,
 "nbformat_minor": 2
}
