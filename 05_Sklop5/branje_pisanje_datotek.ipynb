{
 "cells": [
  {
   "cell_type": "markdown",
   "metadata": {},
   "source": [
    "## Branje in pisanje datotek\n",
    "\n",
    "Če želimo obdelovati podatke, jih lahko pridobimo na veliko načinov. En izmed teh je branje iz datotek."
   ]
  },
  {
   "cell_type": "markdown",
   "metadata": {},
   "source": [
    "## Branje iz datoteke\n",
    "\n",
    "Iz datoteke lahko beremo tako da pokličemo funkcijo `open`. Funkcija sprejme več argumentov:\n",
    "1. ime datoteke (ki lahko vlkjučuje tudi pot)\n",
    "2. način odprtja datoteke\n",
    "3. dodatni izbirni argumenti\n",
    "\n",
    "### Pogosti načini odprtja:\n",
    "\n",
    "* \"r\" - odprtje za branje (privzeti način)\n",
    "* \"w\" - odprtje za pisanje\n",
    "* \"x\" - ustvarjenje (samo ustvari datoteko, vrne napako če datoteka obstaja)\n",
    "* \"a\" - odprtje za dodajanje (odpre datoteko za dodanjanje na konec, ustvari datoteko če ne obstaja)\n",
    "\n",
    "### Metode branja\n",
    "\n",
    "Ko je datoteka odprta imamo nad njo na voljo 3 metode za branje iz datoteke:\n",
    "* `read()` - prebere celotno vsebino datoteke v eno spremenljivko\n",
    "* `readlines()` - prebere vse vrstice datoteke v seznam nizov\n",
    "* `readline()` - prebere eno vrstico"
   ]
  },
  {
   "cell_type": "code",
   "execution_count": null,
   "metadata": {},
   "outputs": [],
   "source": [
    "# Preberimo datoteko kviz.txt, ki se nahaja v direktoriju prvagimkp/05_Sklop5/datoteke\n",
    "kviz = open(\"datoteke/kviz.txt\")\n",
    "print(kviz, type(kviz))\n",
    "\n",
    "prebrano = kviz.read()\n",
    "print(prebrano)\n",
    "\n",
    "# Dobra praksa je, da če datoteko odpremo, jo tudi na koncu zapremo\n",
    "kviz.close()"
   ]
  },
  {
   "cell_type": "code",
   "execution_count": null,
   "metadata": {},
   "outputs": [],
   "source": [
    "# Preverimo v katerem direktoriju smo\n",
    "import os\n",
    "\n",
    "print(os.getcwd())\n",
    "\n",
    "# Prestavimo se v podmapo\n",
    "os.chdir(\"datoteke\")\n",
    "print(os.getcwd())\n",
    "\n",
    "# Preberimo vrstico po vrstico\n",
    "for prebrano in open(\"kviz.txt\"):\n",
    "    print(prebrano)"
   ]
  },
  {
   "cell_type": "markdown",
   "metadata": {},
   "source": [
    "## Pisanje v datoteke\n",
    "\n",
    "Za pisanje v datoteko uporabimo željeni način odprtja datoteke, ki nam omogoča pisanje, ki ga želimo.\n",
    "\n",
    "### Metode pisanja\n",
    "\n",
    "Omenili bomo dve uporabni metodi pisanja:\n",
    "* `write(niz)` - zapiše niz v datoteko\n",
    "* `writelines(seznam_nizov)` - zapiše seznam nizov v datoteko\n"
   ]
  },
  {
   "cell_type": "code",
   "execution_count": null,
   "metadata": {},
   "outputs": [],
   "source": [
    "# Odprimo datoteko za pisanje\n",
    "\n",
    "kviz = open(\"kviz.txt\", \"w\")\n",
    "\n",
    "kviz.write(\"Test\")\n",
    "\n",
    "kviz.close()"
   ]
  },
  {
   "cell_type": "markdown",
   "metadata": {},
   "source": [
    "## JSON (Objektna notacija za JavaScript)\n",
    "\n",
    "Za izmenjavo podatkov neodvisno od jezikov je zelo uporaben in razširjeno v uporabi format JSON. Podatke lahko pretvorimo v JSON format, zapišemo v datoteko in nato preberemo nekje drugje (kjer je ta odprti datotečni standard podprt)."
   ]
  },
  {
   "cell_type": "code",
   "execution_count": null,
   "metadata": {},
   "outputs": [],
   "source": [
    "# Shranimo slovar za kviz v JSON format\n",
    "import json\n",
    "\n",
    "kviz = [\n",
    "    {\n",
    "        \"vprasanje\": \"Kateri način oblikovanja je proporočen za uporabo v Python?\",\n",
    "        \"odgovori\": [(\"A\", \"Interpolacija\"), (\"B\", \"Metoda format\"), (\"C\", \"Operator %\"), (\"D\", \"Funckija print()\")],\n",
    "        \"pravilni_odgovor\": 65\n",
    "    },\n",
    "    {\n",
    "        \"vprasanje\": \"S katero metodo dodamo element v množico?\",\n",
    "        \"odgovori\": [(\"A\", \"add\"), (\"B\", \"append\"), (\"C\", \"insert\"), (\"D\", \"pop\")],\n",
    "        \"pravilni_odgovor\": 65\n",
    "    },\n",
    "    {\n",
    "        \"vprasanje\": \"Kateri podatkovni tip vrne funkcija input()?\",\n",
    "        \"odgovori\": [(\"A\", \"int\"), (\"B\", \"list\"), (\"C\", \"float\"), (\"D\", \"str\")],\n",
    "        \"pravilni_odgovor\": 68 \n",
    "    },\n",
    "    {\n",
    "        \"vprasanje\": \"Kaj bi izpisal naslednji ukaz: print(True or 0 and not [])?\",\n",
    "        \"odgovori\": [(\"A\", \"False\"), (\"B\", \"True\"), (\"C\", \"Nič\"), (\"D\", \"True or 0 and not []\")],\n",
    "        \"pravilni_odgovor\": 66\n",
    "    }\n",
    "]\n",
    "\n",
    "kviz_json = json.dumps(kviz)\n",
    "\n",
    "# Zapišimo v datoteko\n",
    "with open(\"kviz.json\", \"w\") as datoteka:\n",
    "    datoteka.write(kviz_json)"
   ]
  },
  {
   "cell_type": "code",
   "execution_count": null,
   "metadata": {},
   "outputs": [],
   "source": [
    "# Preberimo kviz.json\n",
    "with open(\"kviz.json\") as datoteka:\n",
    "    kviz_prebrano = json.load(datoteka)\n",
    "\n",
    "print(kviz_prebrano)\n",
    "print(type(kviz_prebrano))"
   ]
  },
  {
   "cell_type": "markdown",
   "metadata": {},
   "source": [
    "## Modul Pickle\n",
    "\n",
    "Implementira binarne protokole za serializacijo in deseralizacijo Pythonove objektne strukture. Uporabite ga lahko za shranjevanje ene ali več spremenljivk v binarne datoteke."
   ]
  }
 ],
 "metadata": {
  "interpreter": {
   "hash": "916dbcbb3f70747c44a77c7bcd40155683ae19c65e1c03b4aa3499c5328201f1"
  },
  "kernelspec": {
   "display_name": "Python 3.8.10 64-bit",
   "language": "python",
   "name": "python3"
  },
  "language_info": {
   "codemirror_mode": {
    "name": "ipython",
    "version": 3
   },
   "file_extension": ".py",
   "mimetype": "text/x-python",
   "name": "python",
   "nbconvert_exporter": "python",
   "pygments_lexer": "ipython3",
   "version": "3.8.10"
  },
  "orig_nbformat": 4
 },
 "nbformat": 4,
 "nbformat_minor": 2
}
