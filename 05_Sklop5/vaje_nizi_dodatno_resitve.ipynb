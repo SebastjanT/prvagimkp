{
 "cells": [
  {
   "cell_type": "markdown",
   "metadata": {},
   "source": [
    "# Vaje (nizi - dodatno) - rešitve"
   ]
  },
  {
   "cell_type": "markdown",
   "metadata": {},
   "source": [
    "## Programerski miljonar\n",
    "\n",
    "Napišite program, ki bo deloval podobno kot kviz miljonar.\n",
    "\n",
    "Potek:\n",
    "1. Program naj sprejme na vhodu podatke od tekmovalca (`ime`, `opis`).\n",
    "2. Na začetku predstavi tekmovalca publiki (torej izpiše pozdrav).\n",
    "```\n",
    "Pozdravljeni v kvizu!\n",
    "Danes se bo preizkusil Tekmovalec, ki je programer.\n",
    "```\n",
    "3. Nato naj program izpiše naključno vprašanje iz podanega seznama vprašanj formatirano tako kot v sledečem primeru (uporabljena širina naj bo 100 karakterjev).\n",
    "```\n",
    "Vprašanje, ki sledi je: \n",
    "\n",
    "                    Kateri način oblikovanja je proporočen za uporabo v Python?                     \n",
    "\n",
    "Možni odgovori so: \n",
    "\n",
    "A - Interpolacija.................................|............................................B - Metoda format\n",
    "C - Operator %....................................|............................................D - Funckija print()\n",
    "```\n",
    "4. Ko tekmovalec vnese odgovor naj program preveri, če je odgovor pravilen. Pri napačnem odgovoru se kviz konča.\n",
    "5. Ko se izčrpa seznam odgovorov se izpišejo čestitke. Ne glede na to ali kviz konča zaradi napake, se naj izpiše kočni seštevek pravilnih odgovorov."
   ]
  },
  {
   "cell_type": "code",
   "execution_count": null,
   "metadata": {},
   "outputs": [],
   "source": [
    "# Prostor za kodo\n",
    "import random\n",
    "\n",
    "kviz = [\n",
    "    {\n",
    "        \"vprasanje\": \"Kateri način oblikovanja je proporočen za uporabo v Python?\",\n",
    "        \"odgovori\": [(\"A\", \"Interpolacija\"), (\"B\", \"Metoda format\"), (\"C\", \"Operator %\"), (\"D\", \"Funckija print()\")],\n",
    "        \"pravilni_odgovor\": 65\n",
    "    },\n",
    "    {\n",
    "        \"vprasanje\": \"S katero metodo dodamo element v množico?\",\n",
    "        \"odgovori\": [(\"A\", \"add\"), (\"B\", \"append\"), (\"C\", \"insert\"), (\"D\", \"pop\")],\n",
    "        \"pravilni_odgovor\": 65\n",
    "    },\n",
    "    {\n",
    "        \"vprasanje\": \"Kateri podatkovni tip vrne funkcija input()?\",\n",
    "        \"odgovori\": [(\"A\", \"int\"), (\"B\", \"list\"), (\"C\", \"float\"), (\"D\", \"str\")],\n",
    "        \"pravilni_odgovor\": 68 \n",
    "    },\n",
    "    {\n",
    "        \"vprasanje\": \"Kaj bi izpisal naslednji ukaz: print(True or 0 and not [])?\",\n",
    "        \"odgovori\": [(\"A\", \"False\"), (\"B\", \"True\"), (\"C\", \"Nič\"), (\"D\", \"True or 0 and not []\")],\n",
    "        \"pravilni_odgovor\": 66\n",
    "    }\n",
    "]\n",
    "\n",
    "# Začetek programa, preberemo podatke\n",
    "print(\"Pozdravljeni v kvizu!\")\n",
    "ime = input(\"Ime tekmovalca:\")\n",
    "opis = input(\"Opis tekmovalca:\")\n",
    "\n",
    "# Izpišemo pozdrav\n",
    "print(f\"Danes se bo preizkusil {ime}, ki je {opis.lower()}.\")\n",
    "\n",
    "# Naključno premešamo vprašanja\n",
    "random.shuffle(kviz)\n",
    "\n",
    "pravilni_odgovori = 0\n",
    "\n",
    "for vnos in kviz:\n",
    "    # Izpišemo vprašanje\n",
    "    vprasanje = vnos[\"vprasanje\"]\n",
    "    odgovori = vnos[\"odgovori\"]\n",
    "    pravilni_odgovor = vnos[\"pravilni_odgovor\"]\n",
    "    print(f\"Vprašanje, ki sledi je: \\n\\n{vprasanje:^100}\")\n",
    "    print(\"\\nMožni odgovori so: \\n\")\n",
    "    for ((crka1, odgovor1), (crka2, odgovor2)) in zip(odgovori[::2], odgovori[1::2]):\n",
    "        print(f\"{crka1} - {odgovor1:.<46}|{crka2:.>45} - {odgovor2}\")\n",
    "\n",
    "    # Odpremo vnos za odgovor\n",
    "    odgovor = ord(input(f\"\\nVnesite pravilni odgovor ({[moznost for (moznost, _) in odgovori]})\"))\n",
    "\n",
    "    # Če odgovor ni pravilen se kviz konča\n",
    "    if odgovor != pravilni_odgovor:\n",
    "        print(f\"\\nVaš odgovor {chr(odgovor)} je napačen. Pravilni odgovor je {chr(pravilni_odgovor)}.\")\n",
    "        break\n",
    "    \n",
    "    pravilni_odgovori += 1\n",
    "else:\n",
    "    print(\"\\n\\nČestitamo! Uspešno ste rešili kviz.\\n\\n\")\n",
    "\n",
    "print(f\"Pravilno ste odgovorili na {pravilni_odgovori} vprašanj.\")\n",
    "    "
   ]
  }
 ],
 "metadata": {
  "interpreter": {
   "hash": "916dbcbb3f70747c44a77c7bcd40155683ae19c65e1c03b4aa3499c5328201f1"
  },
  "kernelspec": {
   "display_name": "Python 3.8.10 64-bit",
   "language": "python",
   "name": "python3"
  },
  "language_info": {
   "codemirror_mode": {
    "name": "ipython",
    "version": 3
   },
   "file_extension": ".py",
   "mimetype": "text/x-python",
   "name": "python",
   "nbconvert_exporter": "python",
   "pygments_lexer": "ipython3",
   "version": "3.8.10"
  },
  "orig_nbformat": 4
 },
 "nbformat": 4,
 "nbformat_minor": 2
}
