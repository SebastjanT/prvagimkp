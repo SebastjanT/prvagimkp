{
 "cells": [
  {
   "cell_type": "markdown",
   "metadata": {},
   "source": [
    "# Vaje (objektno programiranje)"
   ]
  },
  {
   "cell_type": "markdown",
   "metadata": {},
   "source": [
    "## Stanje na računu\n",
    "\n",
    "Ustvarite razred `Racun`, ki bo vseboval podatkovne atribute `ime_lastnika, stanje, datumi_tranzakcij` in metodi za polog denarja in dvig denarja (kompleksnost metod prepuščam vam, ob vsaki tranzakiciji, pa se mora posodobiti stanje in zabeležiti datum). Ime lastnika, se naj nastavi ob inicializaciji objekta.\n",
    "\n",
    "Napišite program, ki bo ustvaril vsaj dva objekta razreda `racun` in izvedel par tranzakcij."
   ]
  },
  {
   "cell_type": "code",
   "execution_count": 1,
   "metadata": {},
   "outputs": [],
   "source": [
    "# Prostor za kodo\n"
   ]
  },
  {
   "cell_type": "markdown",
   "metadata": {},
   "source": [
    "## Dedovanje\n",
    "\n",
    "Ustvarite razred `Racun_z_limitom`, ki bo podedoval vse podatkovne atribute in metode od razreda `Racun`, in jih po potrebi spremenil/dodal, da bo omogočen limit na računu."
   ]
  },
  {
   "cell_type": "code",
   "execution_count": null,
   "metadata": {},
   "outputs": [],
   "source": [
    "# Prostor za kodo\n"
   ]
  }
 ],
 "metadata": {
  "interpreter": {
   "hash": "916dbcbb3f70747c44a77c7bcd40155683ae19c65e1c03b4aa3499c5328201f1"
  },
  "kernelspec": {
   "display_name": "Python 3.8.10 64-bit",
   "language": "python",
   "name": "python3"
  },
  "language_info": {
   "codemirror_mode": {
    "name": "ipython",
    "version": 3
   },
   "file_extension": ".py",
   "mimetype": "text/x-python",
   "name": "python",
   "nbconvert_exporter": "python",
   "pygments_lexer": "ipython3",
   "version": "3.8.10"
  },
  "orig_nbformat": 4
 },
 "nbformat": 4,
 "nbformat_minor": 2
}
