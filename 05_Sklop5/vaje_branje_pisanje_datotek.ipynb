{
 "cells": [
  {
   "cell_type": "markdown",
   "metadata": {},
   "source": [
    "# Vaje (branje in pisanje datotek)"
   ]
  },
  {
   "cell_type": "markdown",
   "metadata": {},
   "source": [
    "## Programerski miljonar (datoteke)\n",
    "\n",
    "Razširite vaš program iz prejšnjih vaj tako, da podatke o kvizu prebere iz datoteke, ki je na voljo v podmapi `datoteke` pod imenom `kviz.txt`.\n",
    "\n",
    "Podatki so zapisani v formatu:\n",
    "```\n",
    "vprašanje niz_z_vprašanjem_ločen_s_presledki\n",
    "A odgovor_ločen_s_presledki\n",
    "B odgovor_ločen_s_presledki\n",
    "C odgovor_ločen_s_presledki\n",
    "D odgovor_ločen_s_presledki\n",
    "pravilni_odgovor UTF-8_koda_znaka\n",
    "```\n",
    "\n",
    "In po koncu kviza doda vsak nov rezultat v izhodno datoteko (če želite lahko tudi v JSON formatu)."
   ]
  },
  {
   "cell_type": "code",
   "execution_count": null,
   "metadata": {},
   "outputs": [],
   "source": [
    "# Prostor za kodo\n"
   ]
  }
 ],
 "metadata": {
  "interpreter": {
   "hash": "916dbcbb3f70747c44a77c7bcd40155683ae19c65e1c03b4aa3499c5328201f1"
  },
  "kernelspec": {
   "display_name": "Python 3.8.10 64-bit",
   "language": "python",
   "name": "python3"
  },
  "language_info": {
   "codemirror_mode": {
    "name": "ipython",
    "version": 3
   },
   "file_extension": ".py",
   "mimetype": "text/x-python",
   "name": "python",
   "nbconvert_exporter": "python",
   "pygments_lexer": "ipython3",
   "version": "3.8.10"
  },
  "orig_nbformat": 4
 },
 "nbformat": 4,
 "nbformat_minor": 2
}
