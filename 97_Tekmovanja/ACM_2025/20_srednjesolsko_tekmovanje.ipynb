{
 "cells": [
  {
   "attachments": {},
   "cell_type": "markdown",
   "metadata": {},
   "source": [
    "# Dvajseto srednješolsko tekmovanje ACM v znanju računalništva\n",
    "\n",
    "Čas reševanja: 180 minut\n",
    "\n",
    "**Ob zaključku tekmovanja oddajte vaše rešitve v mapo kjer se nahaja ta datoteka (`97_Tekmovanja/ACM_2025`).**"
   ]
  },
  {
   "cell_type": "code",
   "execution_count": null,
   "metadata": {},
   "outputs": [],
   "source": [
    "# Prostor za rešitve"
   ]
  }
 ],
 "metadata": {
  "interpreter": {
   "hash": "916dbcbb3f70747c44a77c7bcd40155683ae19c65e1c03b4aa3499c5328201f1"
  },
  "kernelspec": {
   "display_name": "Python 3.8.10 64-bit",
   "language": "python",
   "name": "python3"
  },
  "language_info": {
   "name": "python",
   "version": "3.8.10"
  },
  "orig_nbformat": 4
 },
 "nbformat": 4,
 "nbformat_minor": 2
}
