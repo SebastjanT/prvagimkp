{
 "cells": [
  {
   "cell_type": "markdown",
   "metadata": {},
   "source": [
    "# Vaje (elementi in deli seznamov)\n",
    "\n",
    "Problemi, ki jih poskusite izvesti, rešiti s pisanjem programov."
   ]
  },
  {
   "cell_type": "markdown",
   "metadata": {},
   "source": [
    "## Dokončano\n",
    "\n",
    "Napišite program, ki glede na to ali je Sklop krožka končan, spremeni ime sklopa v \"Dokončano\" (predpostavite, da se sklopi vedno zaključijo zaporedoma). (Namig: metoda `count(vrednost)` nad seznamom vrne število pojavitev vrednosti v seznamu. Za radovedne: https://www.w3schools.com/python/python_lists_comprehension.asp) "
   ]
  },
  {
   "cell_type": "code",
   "execution_count": null,
   "metadata": {},
   "outputs": [],
   "source": [
    "# Prostor za kodo\n",
    "\n",
    "# Naredimo seznam sklopov krožka programiranja\n",
    "sklopi = [\"Uvod\", \"Sklop 1\", \"Sklop 2\", \n",
    "          \"Sklop 3\", \"Sklop 4\", \"Sklop 5\"]\n",
    "\n",
    "# Ustvarimo še en seznam števila podpoglavji vsakega sklopa\n",
    "podpoglavja = [0, 3, 4, 3, 5, 5]\n",
    "\n",
    "# Ustvarimo seznam za status opravljenosti\n",
    "opravljenost = [True, True, True, True, False, False]\n",
    "\n",
    "# Način, z novim seznamom in for zanko\n",
    "novi_sklopi = []\n",
    "for sklop, opravljen in zip(sklopi, opravljenost):\n",
    "    if opravljen:\n",
    "        novi_sklopi.append(\"Dokončano\")\n",
    "    else:\n",
    "        novi_sklopi.append(sklop)\n",
    "\n",
    "sklopi = novi_sklopi\n",
    "\n",
    "print(sklopi)"
   ]
  },
  {
   "cell_type": "code",
   "execution_count": null,
   "metadata": {},
   "outputs": [],
   "source": [
    "# Naredimo seznam sklopov krožka programiranja\n",
    "sklopi = [\"Uvod\", \"Sklop 1\", \"Sklop 2\", \n",
    "          \"Sklop 3\", \"Sklop 4\", \"Sklop 5\"]\n",
    "\n",
    "# Ustvarimo še en seznam števila podpoglavji vsakega sklopa\n",
    "podpoglavja = [0, 3, 4, 3, 5, 5]\n",
    "\n",
    "# Ustvarimo seznam za status opravljenosti\n",
    "opravljenost = [True, True, True, True, False, False]\n",
    "\n",
    "# Ker pa se sklopi vedno zaključijo zaporedoma lahko naredimo tudi z rezinami\n",
    "stevilo_dokoncanih = opravljenost.count(True)\n",
    "sklop_dokoncano = ['Dokončano'] * stevilo_dokoncanih\n",
    "\n",
    "sklopi[:stevilo_dokoncanih] = sklop_dokoncano\n",
    "\n",
    "print(sklopi)\n"
   ]
  },
  {
   "cell_type": "code",
   "execution_count": null,
   "metadata": {},
   "outputs": [],
   "source": [
    "# Naredimo seznam sklopov krožka programiranja\n",
    "sklopi = [\"Uvod\", \"Sklop 1\", \"Sklop 2\", \n",
    "          \"Sklop 3\", \"Sklop 4\", \"Sklop 5\"]\n",
    "\n",
    "# Ustvarimo še en seznam števila podpoglavji vsakega sklopa\n",
    "podpoglavja = [0, 3, 4, 3, 5, 5]\n",
    "\n",
    "# Ustvarimo seznam za status opravljenosti\n",
    "opravljenost = [True, True, True, True, False, False]\n",
    "\n",
    "# Način z list comprehension\n",
    "\n",
    "novi_sklopi = [\"Dokončano\" if opravljen else sklop for sklop, opravljen in zip(sklopi, opravljenost)] \n",
    "\n",
    "print(novi_sklopi)"
   ]
  },
  {
   "cell_type": "markdown",
   "metadata": {},
   "source": [
    "# Naraščanje števil\n",
    "\n",
    "Preverite če števila v seznamu naraščajo. (Namig: obstaja trik, ki ga lahko naredimo z rezinami in funkcijo `zip()`)."
   ]
  },
  {
   "cell_type": "code",
   "execution_count": null,
   "metadata": {},
   "outputs": [],
   "source": [
    "# Prostor za kodo\n",
    "\n",
    "stevila = [0, 3, 4, 3, 5, 5]\n",
    "#stevila = [1, 2, 100, 10101010, 999999999999]\n",
    "\n",
    "for st1, st2 in zip(stevila, stevila[1:]):\n",
    "    if st1 >= st2:\n",
    "        print(\"Seznam ni sestavljen iz samo naraščajočih števil.\")\n",
    "        break\n",
    "else:\n",
    "    print(\"Števila v seznamu naraščajo.\")\n",
    "\n"
   ]
  }
 ],
 "metadata": {
  "interpreter": {
   "hash": "916dbcbb3f70747c44a77c7bcd40155683ae19c65e1c03b4aa3499c5328201f1"
  },
  "kernelspec": {
   "display_name": "Python 3.8.10 64-bit",
   "language": "python",
   "name": "python3"
  },
  "language_info": {
   "codemirror_mode": {
    "name": "ipython",
    "version": 3
   },
   "file_extension": ".py",
   "mimetype": "text/x-python",
   "name": "python",
   "nbconvert_exporter": "python",
   "pygments_lexer": "ipython3",
   "version": "3.8.10"
  },
  "orig_nbformat": 4
 },
 "nbformat": 4,
 "nbformat_minor": 2
}
