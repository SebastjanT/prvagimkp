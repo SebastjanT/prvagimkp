{
 "cells": [
  {
   "cell_type": "markdown",
   "metadata": {},
   "source": [
    "# Vaje (logični izrazi)\n",
    "\n",
    "Problemi, ki jih poskusite izvesti, rešiti s pisanjem programov."
   ]
  },
  {
   "cell_type": "markdown",
   "metadata": {},
   "source": [
    "## Dokler ne bo prav, drugi poskus\n",
    "\n",
    "Program iz Sklopa 2 preoblikujte tako, da ne bo uporabljal neskončne zanke (zanka naj bo pogojena direktno)."
   ]
  },
  {
   "cell_type": "code",
   "execution_count": null,
   "metadata": {},
   "outputs": [],
   "source": [
    "# Prostor za kodo\n",
    "# Koliko minut je še do konca šolske ure?\n",
    "pretecene_minute = int(input(\"Koliko minut je že preteklo?\"))\n",
    "trajanje_ure = 45 # Trajanje šolske ure v minutah\n",
    "# Preverimo če je vnos pravilen\n",
    "while pretecene_minute < 0 or pretecene_minute > trajanje_ure:\n",
    "    pretecene_minute = int(input(\"Vnesite pravilne pretečene minute:\"))\n",
    "preostale_minute = trajanje_ure - pretecene_minute\n",
    "print(\"Pretrpeti morate še\", preostale_minute, \"minut.\")\n",
    "if preostale_minute > 30:\n",
    "    print(\"Ali se res ne bo nikoli končalo!!!\")\n",
    "elif preostale_minute == 23:\n",
    "    print(\"Čez pol minute bomo na polovici.\")\n",
    "else:\n",
    "    print(\"Samo še malo.\")"
   ]
  }
 ],
 "metadata": {
  "interpreter": {
   "hash": "916dbcbb3f70747c44a77c7bcd40155683ae19c65e1c03b4aa3499c5328201f1"
  },
  "kernelspec": {
   "display_name": "Python 3.8.10 64-bit",
   "language": "python",
   "name": "python3"
  },
  "language_info": {
   "codemirror_mode": {
    "name": "ipython",
    "version": 3
   },
   "file_extension": ".py",
   "mimetype": "text/x-python",
   "name": "python",
   "nbconvert_exporter": "python",
   "pygments_lexer": "ipython3",
   "version": "3.8.10"
  },
  "orig_nbformat": 4
 },
 "nbformat": 4,
 "nbformat_minor": 2
}
