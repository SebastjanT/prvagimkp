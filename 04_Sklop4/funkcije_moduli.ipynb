{
 "cells": [
  {
   "cell_type": "markdown",
   "metadata": {},
   "source": [
    "# Funkcije in metode"
   ]
  },
  {
   "cell_type": "markdown",
   "metadata": {},
   "source": [
    "## Funkcije\n",
    "\n",
    "Srečali smo se že z kar nekaj funkcijami, ki smo jih uporabili, kot črne škatle z argumenti. Uporabili smo jih za izpis, računanje, branje vnosa...\n",
    "\n",
    "\n",
    "Ko začnemo sestavljati kompleksnejše programe, je kar kmalu očitno, da velikokrat želimo ponoviti isto operacijo ali izračun v večih mesti v programu.\n",
    "Lahko bi kodo enostavno prekopirali na vsa mesta. To bi delovalo ampak bi bilo zelo nepregledno, s povečano možnostjo napak in pa veliko težjo odpravitvijo le teh. Da ne omenimo, če bi želeli to operacijo razširiti.\n",
    "\n",
    "Na tem mestu uporabimo funkcije.\n",
    "Program razdelimo na več manjših delov, ki opravljajo eno (svojo) nalogo. To naredi kodo bolj berljivo in razumljivo. Lažje pa jo je tudi napisati."
   ]
  },
  {
   "cell_type": "code",
   "execution_count": null,
   "metadata": {},
   "outputs": [],
   "source": [
    "# Primer obsega in ploščine pravokotnika\n",
    "sirina = float(input(\"Vnesite sirino pravokotnika:\"))\n",
    "visina = float(input(\"Vnesite visino pravokotnika:\"))\n",
    "\n",
    "obseg = 2 * (sirina + visina)\n",
    "ploscina = sirina * visina\n",
    "\n",
    "print(\"Obseg pravokotnika je\", str(obseg) + \", ploščina pa\", str(ploscina) + \".\")"
   ]
  },
  {
   "cell_type": "markdown",
   "metadata": {},
   "source": [
    "Naredimo funkcijo, ki bo računala obseg.\n",
    "\n",
    "Funkcijo definiramo z rezervirano besedo `def` (define), kateri sledi ime funkcije. Za imenom sledijo oklepaji v katerih navedemo imena argumentov `(argument1, argument2)`.\n",
    "Na koncu sledi dvopičje `:` in zamik. Vsa zamaknjena koda se bo izvedla ob klicu funkcije.\n",
    "\n",
    "Funkcije navadno vračajo rezultate. Rezultat vrnemo z rezervirano besedo `return`.\n",
    "Če funkcija ne vrne rezultata (ne vsebuje `return`) v bistu vrne `None`. Kadar želimo poudariti, da naša funkcija vrne `None`, je dobro, da to naredimo eksplicitno.\n",
    "\n",
    "V funkciji lahko uporabimo `return` na več mestih. Izvede se tisti, ki se ga pri izvajanju sreča prvo. Torej, ko pri izvajanju naletimo na `return` se bo izvajanje funkcije ustavilo in vrnil rezultat.\n",
    "\n",
    "Poglejmo nekaj primerov:"
   ]
  },
  {
   "cell_type": "code",
   "execution_count": null,
   "metadata": {},
   "outputs": [],
   "source": [
    "def obseg_pravokotnika(sirina, visina):\n",
    "    return 2 * (sirina + visina)\n",
    "\n",
    "print(\"Obseg je:\", obseg_pravokotnika(sirina, visina))\n",
    "\n",
    "def ploscina_pravokotnika(sirina, visina):\n",
    "    ploscina = sirina * visina\n",
    "    return ploscina\n",
    "\n",
    "print(\"Ploščina je:\", ploscina_pravokotnika(sirina, visina))"
   ]
  },
  {
   "cell_type": "markdown",
   "metadata": {},
   "source": [
    "Raširimo funkcijo za računanje ploščine, da vrne ploščino samo takrat, ko je ta večja od `1.0`."
   ]
  },
  {
   "cell_type": "code",
   "execution_count": null,
   "metadata": {},
   "outputs": [],
   "source": [
    "def ploscina_pravokotnika(sirina, visina):\n",
    "    ploscina = sirina * visina\n",
    "    if ploscina > 1.0:\n",
    "        return ploscina\n",
    "    return None\n",
    "\n",
    "for x, y in zip(range(1, 3), range(1, 5, 2)):\n",
    "    print(\"Širina:\", x, \"Višina:\", y)\n",
    "    rezultat = ploscina_pravokotnika(x, y)\n",
    "    if rezultat:\n",
    "        print(\"Ploščina je večja od 1.0:\", rezultat)"
   ]
  },
  {
   "cell_type": "markdown",
   "metadata": {},
   "source": [
    "Omenimo pa tudi lokalnost spremenljivk.\n",
    "\n",
    "Do sedaj smo se vedno ukvarjali z globalnimi spremenljivkami. Sedaj pa se srečamo tudi z lokalnimi. Spremenljivke (imena), ki so nastavljena v funkcijah, so nastavljena samo v sklopu tega izvajanja funkcije. Isto se zgodi z vrednostmi, ki jih podamo, kot argumente funkciji.\n",
    "\n",
    "Če pa se v funkciji pojavi spremenljivka, ki je že globalna, pa funkcija to globalno spremenljivko prekrije in uporabljablja novo lokano spremenljivko."
   ]
  },
  {
   "cell_type": "code",
   "execution_count": null,
   "metadata": {},
   "outputs": [],
   "source": [
    "print(ploscina)"
   ]
  },
  {
   "cell_type": "markdown",
   "metadata": {},
   "source": [
    "## Moduli"
   ]
  },
  {
   "cell_type": "markdown",
   "metadata": {},
   "source": [
    "### Uvažanje modulov\n",
    "\n",
    "Module uvažamo na začetku programa. Uvozimo, jih lahko na več načinov:\n",
    "\n",
    "* celotni modul (`import math`) - dobimo novo spremenljivko `math` tipa `module`, ki vsebuje funkcije in pa spremenljivke,\n",
    "* posamezne funkcije (`from math import sin, cos`) - dobimo posamezne funkcije pod njihovimi imeni (lahko tudi `from math import *`, to uvozi vse kar je v modulu - poskusite se izogibati)"
   ]
  },
  {
   "cell_type": "code",
   "execution_count": null,
   "metadata": {},
   "outputs": [],
   "source": [
    "import math\n",
    "\n",
    "print(math.pi)"
   ]
  },
  {
   "cell_type": "code",
   "execution_count": null,
   "metadata": {},
   "outputs": [],
   "source": [
    "from math import cos, pi\n",
    "\n",
    "print(cos(pi))"
   ]
  }
 ],
 "metadata": {
  "interpreter": {
   "hash": "916dbcbb3f70747c44a77c7bcd40155683ae19c65e1c03b4aa3499c5328201f1"
  },
  "kernelspec": {
   "display_name": "Python 3.8.10 64-bit",
   "language": "python",
   "name": "python3"
  },
  "language_info": {
   "codemirror_mode": {
    "name": "ipython",
    "version": 3
   },
   "file_extension": ".py",
   "mimetype": "text/x-python",
   "name": "python",
   "nbconvert_exporter": "python",
   "pygments_lexer": "ipython3",
   "version": "3.8.10"
  },
  "orig_nbformat": 4
 },
 "nbformat": 4,
 "nbformat_minor": 2
}
