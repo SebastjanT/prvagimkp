{
 "cells": [
  {
   "cell_type": "markdown",
   "metadata": {},
   "source": [
    "# Metode\n",
    "\n",
    "Do sedaj smo spoznali in velikokrat uporabili funkcije. Torej del programa, ki opravlja neko nalogo in ga lahko pokličemo z nekim imenom, ter mu podamo spremenljivke.\n",
    "\n",
    "Takšna funkcija ni vezana na nek določen objekt. Vse kar ji je znano so spremenljivke ki jih podamo pri klicu.\n",
    "\n",
    "\n",
    "Pri nekaterih nalogah pa ste pri delu s seznami, terkami, nizi nad njimi poklicali neko funkcijo. To ste naredili tako, da ste npr. napisali ime seznama in nato piko ter ime neke funkcije (`seznam.sort()`).\n",
    "Takšni funkciji pravimo metoda, torej funkcija, ki je vezana na nek objekt.\n",
    "Metode ne potrebujejo argumentov, saj opravijo svojo nalogo na objektu na katerega so vezane."
   ]
  },
  {
   "cell_type": "markdown",
   "metadata": {},
   "source": [
    "## Metode nizov\n",
    "\n",
    "Poglejmo si določene metode, ki jih ima Python nad nizi.\n",
    "\n",
    "Dobro si je zapomniti tudi to, da metode nad nizi ne spreminjajo niza samega ampak vrnejo novi niz (kot že vemo so nizi nespremenljivi)."
   ]
  },
  {
   "cell_type": "markdown",
   "metadata": {},
   "source": [
    "#### Metodi split in join\n",
    "\n",
    "Če želimo nize ločiti po presledkih, tabulatorjih, novih vrsticah ali po katerem koli drugem simbolu imamo za to na voljo metodo `niz.split()`."
   ]
  },
  {
   "cell_type": "code",
   "execution_count": null,
   "metadata": {},
   "outputs": [],
   "source": [
    "sklop = \"Sklop 4\"\n",
    "\n",
    "# Ločimo po presledkih\n",
    "print(sklop.split())\n",
    "\n",
    "# Ločimo lahko tudi po katerim koli drugim znakom, tako, da ga podamo metodi kot argument\n",
    "print(sklop.split(\"k\"))"
   ]
  },
  {
   "cell_type": "markdown",
   "metadata": {},
   "source": [
    "Če pa želimo združiti več nizov v enega, pa imamo za to metodo `niz.join()`. To pa kličemo na malo drugačen način, kar je pa seveda pričakovano, glede na to kaj želimo."
   ]
  },
  {
   "cell_type": "code",
   "execution_count": null,
   "metadata": {},
   "outputs": [],
   "source": [
    "# Naredimo seznam sklopov krožka programiranja\n",
    "\n",
    "sklopi = [\"Uvod\", \"Sklop 1\", \"Sklop 2\", \n",
    "          \"Sklop 3\", \"Sklop 4\", \"Sklop 5\"]\n",
    "\n",
    "# Združimo vsa imena sklopov v en niz\n",
    "print(\"\".join(sklopi))\n",
    "\n",
    "# Če pa želimo pri združevanju dodati npr. vejico in presledek\n",
    "print(\", \".join(sklopi))"
   ]
  },
  {
   "cell_type": "markdown",
   "metadata": {},
   "source": [
    "#### Metoda count\n",
    "\n",
    "Metoda `niz.count(podniz)` preveri kolikokrat se podniz, ki smo ga podali kot argument v metodo pojavi v nizu nad katerim jo kličemo."
   ]
  },
  {
   "cell_type": "code",
   "execution_count": null,
   "metadata": {},
   "outputs": [],
   "source": [
    "# Vzamimo niz sklop in preverimo kolikrat se v njem pojavi podniz \"l\"\n",
    "print(sklop.count(\"l\"))\n",
    "\n",
    "# Ali pa \"klop\"\n",
    "print(sklop.count(\"klop\"))\n",
    "\n",
    "# Kaj pa \"miza\"\n",
    "print(sklop.count(\"miza\"))"
   ]
  },
  {
   "cell_type": "markdown",
   "metadata": {},
   "source": [
    "#### Metodi index in find\n",
    "\n",
    "Metodi `niz.index(podniz)` in `niz.find(podniz)` poiščeta prvi podniz v nizu in vrneta njegov položaj. Razlika med njima je samo to, da če iskanega podniza v nizu ni `find` vrne -1, `index` pa napako.\n",
    "\n",
    "Obstajata tudi metodi `niz.rindex(podniz)` in pa `niz.rfind(podniz)`, ki se od zgornjih razlikujeta samo v tem, da poiščeta zadnjo pojavitev. "
   ]
  },
  {
   "cell_type": "code",
   "execution_count": null,
   "metadata": {},
   "outputs": [],
   "source": [
    "# Najprej ponovimo niz v sklop in ga shranimo v sklop3\n",
    "\n",
    "sklop3 = sklop * 3\n",
    "\n",
    "# Poiščimo prvo pojavitev \"klop\" v novem nizu\n",
    "print(sklop3.find(\"klop\"))\n",
    "\n",
    "# Pa še zadjo\n",
    "print(sklop3.rfind(\"klop\"))\n",
    "\n",
    "# Kaj pa naredi iskanje \"miza\"\n",
    "print(sklop3.find(\"miza\"))"
   ]
  },
  {
   "cell_type": "code",
   "execution_count": null,
   "metadata": {},
   "outputs": [],
   "source": [
    "# Seveda lahko vse ponovimo z metodo index\n",
    "\n",
    "# Poiščimo prvo pojavitev \"klop\" v novem nizu\n",
    "print(sklop3.index(\"klop\"))\n",
    "\n",
    "# Pa še zadjo\n",
    "print(sklop3.rindex(\"klop\"))\n",
    "\n",
    "# Kaj pa naredi iskanje \"miza\"\n",
    "#print(sklop3.index(\"miza\"))"
   ]
  },
  {
   "cell_type": "markdown",
   "metadata": {},
   "source": [
    "#### Metodi startswith in endswith\n",
    "\n",
    "Vrneta `True` če se niz začne s podanim podnizom oz. konča s podanim podnizom."
   ]
  },
  {
   "cell_type": "code",
   "execution_count": null,
   "metadata": {},
   "outputs": [],
   "source": [
    "# Preverimo če se sklop konča z 4\n",
    "print(sklop.endswith(\"4\"))\n",
    "\n",
    "# Ali pa začne z \"M\"\n",
    "print(sklop.startswith(\"M\"))"
   ]
  },
  {
   "cell_type": "markdown",
   "metadata": {},
   "source": [
    "#### Metode lower, upper, capitalize in title\n",
    "\n",
    "Metoda `niz.lower()` bo vrnila niz z vsemi črkami zamenjanimi z malimi. Obratno je z metodo `niz.upper()`. Metoda `niz.capitalize()` vrne niz z veliko prvo črko, metoda `niz.title()` pa z velikimi črkami vseh besed."
   ]
  },
  {
   "cell_type": "code",
   "execution_count": null,
   "metadata": {},
   "outputs": [],
   "source": [
    "print(sklop.lower())\n",
    "\n",
    "print(\", \".join([sklop] * 3).title())\n",
    "\n",
    "print(\", \".join([sklop] * 3).capitalize())"
   ]
  },
  {
   "cell_type": "markdown",
   "metadata": {},
   "source": [
    "#### Metoda replace\n",
    "\n",
    "Z metodo `niz.replace(podniz1, podniz2)` vrne niz v katerem so vse pojavitve `podniz1` zamenjane s `podniz2`."
   ]
  },
  {
   "cell_type": "code",
   "execution_count": null,
   "metadata": {},
   "outputs": [],
   "source": [
    "# Pa spremenimo \"klop\" v \"miza\"\n",
    "\n",
    "print(sklop3.replace(\"klop\", \"miza\"))"
   ]
  },
  {
   "cell_type": "markdown",
   "metadata": {},
   "source": [
    "#### Metode ljust, rjust in pa center\n",
    "\n",
    "Metoda `niz.ljust(stevilo)` doda na začetek niza toliko presledkov, da bo niz imel `stevilo` znakov. Metoda `niz.rjust(stevilo)` dodaja presledke na konec, `niz.center(stevilo)` pa na začetek in konec."
   ]
  },
  {
   "cell_type": "code",
   "execution_count": null,
   "metadata": {},
   "outputs": [],
   "source": [
    "# Dodajmo presledke na začetek in konec, tako da bo sklop dolg 30 znakov\n",
    "\n",
    "sklop30 = sklop.center(30)\n",
    "\n",
    "print(sklop30, len(sklop30))"
   ]
  },
  {
   "cell_type": "markdown",
   "metadata": {},
   "source": [
    "#### Metode lstrip, rstrip in pa strip\n",
    "\n",
    "Te tri metode pa odstranijo bel prostor (engl. whitespace characters) na začetku, na koncu ali pa na obeh straneh."
   ]
  },
  {
   "cell_type": "code",
   "execution_count": null,
   "metadata": {},
   "outputs": [],
   "source": [
    "# Spet se znebimo vseh presledkov, ki smo jih dodali\n",
    "\n",
    "sklop_ne30 = sklop30.strip()\n",
    "\n",
    "print(sklop_ne30, len(sklop_ne30))"
   ]
  },
  {
   "cell_type": "markdown",
   "metadata": {},
   "source": [
    "## Metode seznamov\n",
    "\n",
    "Seznami vsebujejo metodi `count` in pa `index` tako kot nizi. Metoda index nam velikokrat pripomore, lahko pa tudi povzroči dosti preglavic (pri napačni ali nepremišljeni uporabi).\n",
    "\n"
   ]
  },
  {
   "cell_type": "markdown",
   "metadata": {},
   "source": [
    "#### Metoda append\n",
    "\n",
    "To že poznamo. Uporabljamo jo za dodajanje elmentov na konec seznama."
   ]
  },
  {
   "cell_type": "code",
   "execution_count": null,
   "metadata": {},
   "outputs": [],
   "source": [
    "# Dodajmo nov sklop na konec\n",
    "\n",
    "sklopi.append(\"Test\")\n",
    "\n",
    "print(sklopi)"
   ]
  },
  {
   "cell_type": "markdown",
   "metadata": {},
   "source": [
    "#### Metoda extend\n",
    "\n",
    "Metoda `append` je uporabna takrat, ko rabimo dodati en element v seznam. Če pa želimo dodati več elementov oz. seznam vrednosti, pa lahko uporabimo metodo `seznam.extend(dodatni_seznam)`."
   ]
  },
  {
   "cell_type": "code",
   "execution_count": null,
   "metadata": {},
   "outputs": [],
   "source": [
    "# Dodajmo še dva sklopa v sklope\n",
    "\n",
    "sklopi.extend([\"Test2\", \"Test3\"])\n",
    "\n",
    "print(sklopi)\n",
    "\n",
    "# Te metode pa skoraj nikoli ne potrebujemo saj lahko sezname kar seštevamo\n",
    "\n",
    "sklopi += [\"Test4\", \"Test5\"]\n",
    "print(sklopi)"
   ]
  },
  {
   "cell_type": "markdown",
   "metadata": {},
   "source": [
    "#### Metoda insert\n",
    "\n",
    "Če metoda `append` doda nov element na konec seznama, lahko z metodo `seznam.insert(polozaj, element)` določimo na kateri `polozaj` (vstavljen bo pred element na tem indeksu) se naj vstavi `element`."
   ]
  },
  {
   "cell_type": "code",
   "execution_count": null,
   "metadata": {},
   "outputs": [],
   "source": [
    "# Dodajmo še sklop \"Pregled\" za sklop \"Uvod\"\n",
    "sklopi.insert(1, \"Pregled\")\n",
    "\n",
    "print(sklopi)"
   ]
  },
  {
   "cell_type": "markdown",
   "metadata": {},
   "source": [
    "#### Metodi pop in remove\n",
    "\n",
    "Če želimo element odstraniti iz seznama imamo za to več načinov.\n",
    "Z metodo `seznam.pop(index)` odstranimo element iz seznama na podanem `index`-u. Vendar pa metodo `pop` največkrat uporabimo, kar brez argumenta, v katerem primeru metoda ostrani zadnji element iz seznama."
   ]
  },
  {
   "cell_type": "code",
   "execution_count": null,
   "metadata": {},
   "outputs": [],
   "source": [
    "# Odstranimo zadnji element iz seznama\n",
    "print(sklopi)\n",
    "print(sklopi.pop())\n",
    "print(sklopi)\n",
    "\n",
    "# Odstranimo drugi element iz seznama\n",
    "print(sklopi)\n",
    "print(sklopi.pop(1))\n",
    "print(sklopi)\n",
    "\n",
    "#Prestavimo sklop \"Test\" na drugo mesto\n",
    "\n",
    "print(sklopi)\n"
   ]
  },
  {
   "cell_type": "markdown",
   "metadata": {},
   "source": [
    "Pri metodi `pop` smo morali poznati index elementa, ki smo ga želeli odstraniti. Če nam je pa znana samo vrednost pa lahko uporabimo metodo `seznam.remove(vrednost)`."
   ]
  },
  {
   "cell_type": "code",
   "execution_count": null,
   "metadata": {},
   "outputs": [],
   "source": [
    "# Odstranimo sklop \"Test2\"\n",
    "sklopi.remove(\"Test2\")\n",
    "print(sklopi)"
   ]
  },
  {
   "cell_type": "markdown",
   "metadata": {},
   "source": [
    "Seveda lahko za odstranjevanje elementov v seznamu uporabimo tudi rezervirano besedo `del`, ki smo jo pa že spoznali."
   ]
  },
  {
   "cell_type": "code",
   "execution_count": null,
   "metadata": {},
   "outputs": [],
   "source": [
    "# Izbrišimo še sklop na 5 mestu\n",
    "del sklopi[5]\n",
    "print(sklopi)"
   ]
  },
  {
   "cell_type": "markdown",
   "metadata": {},
   "source": [
    "#### Metoda copy\n",
    "\n",
    "Če potrebujemo kopijo seznama jo naredimo z metodo `seznam.copy()` (ta metoda naredi isto kot če bi uporabili stavek `seznam = seznam[:]`).\n",
    "\n",
    "#### Metoda clear\n",
    "\n",
    "Za izpraznjenje seznama uporabljamo metodo `seznam.clear()` (ta pa naredi isto kot `del seznam[:]` ali pa `seznam[:] = []`)"
   ]
  },
  {
   "cell_type": "markdown",
   "metadata": {},
   "source": [
    "#### Metoda reverse\n",
    "\n",
    "Z metodo `seznam.reverse()` obrnemo vrstni red elementov v seznamu.\n",
    "\n",
    "#### Metoda sort\n",
    "\n",
    "Če želimo elemente v seznamu urediti po vrsti uporabimo metodo `seznam.sort()`."
   ]
  },
  {
   "cell_type": "code",
   "execution_count": null,
   "metadata": {},
   "outputs": [],
   "source": [
    "# Sortirajmo seznam sklopov\n",
    "sklopi.sort()\n",
    "print(sklopi)\n",
    "\n",
    "# In obrnimo vrstni red elementov\n",
    "sklopi.reverse()\n",
    "print(sklopi)"
   ]
  },
  {
   "cell_type": "markdown",
   "metadata": {},
   "source": [
    "## Metode terk\n",
    "\n",
    "Nad terkami obstajajo enake metode kot nad seznami. Edina razlika je, da nad terkami ni metod, ki spreminjajo sezname saj so terke nespremenljiv podatkovni tip."
   ]
  }
 ],
 "metadata": {
  "interpreter": {
   "hash": "916dbcbb3f70747c44a77c7bcd40155683ae19c65e1c03b4aa3499c5328201f1"
  },
  "kernelspec": {
   "display_name": "Python 3.8.10 64-bit",
   "language": "python",
   "name": "python3"
  },
  "language_info": {
   "codemirror_mode": {
    "name": "ipython",
    "version": 3
   },
   "file_extension": ".py",
   "mimetype": "text/x-python",
   "name": "python",
   "nbconvert_exporter": "python",
   "pygments_lexer": "ipython3",
   "version": "3.8.10"
  },
  "orig_nbformat": 4
 },
 "nbformat": 4,
 "nbformat_minor": 2
}
