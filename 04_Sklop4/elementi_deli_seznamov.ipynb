{
 "cells": [
  {
   "cell_type": "markdown",
   "metadata": {},
   "source": [
    "# Elementi in deli seznamov\n",
    "\n",
    "## Indeksiranje\n",
    "\n",
    "Do elementov seznamov, terk, ipd. lahko pridemo tudi tako, da jih neposredno pridobimo."
   ]
  },
  {
   "cell_type": "code",
   "execution_count": null,
   "metadata": {},
   "outputs": [],
   "source": [
    "# Naredimo seznam sklopov krožka programiranja\n",
    "\n",
    "sklopi = [\"Uvod\", \"Sklop 1\", \"Sklop 2\", \n",
    "          \"Sklop 3\", \"Sklop 4\", \"Sklop 5\"]"
   ]
  },
  {
   "cell_type": "markdown",
   "metadata": {},
   "source": [
    "Če želimo dostopati do prvega elementa, lahko to naredimo z indeksom tega elementa."
   ]
  },
  {
   "cell_type": "code",
   "execution_count": null,
   "metadata": {},
   "outputs": [],
   "source": [
    "# Dostop do prvega elementa\n",
    "prvi_element = sklopi[0]\n",
    "\n",
    "print(prvi_element)\n",
    "\n",
    "# Tudi pri nizih\n",
    "print(\"Primer\"[1])"
   ]
  },
  {
   "cell_type": "markdown",
   "metadata": {},
   "source": [
    "V Python-u pa lahko dostopamo tudi s konca. To naredimo z negativnimi indeksi."
   ]
  },
  {
   "cell_type": "code",
   "execution_count": null,
   "metadata": {},
   "outputs": [],
   "source": [
    "# Dostop do zadnjega elementa\n",
    "zadnji_element = sklopi[-1]\n",
    "\n",
    "print(zadnji_element)\n",
    "\n",
    "# Tudi pri nizih\n",
    "print(\"Primer\"[-1])"
   ]
  },
  {
   "cell_type": "markdown",
   "metadata": {},
   "source": [
    "## Rezanje\n",
    "\n",
    "Z rezanjem lahko dostopamo do delov nizov. To naredimo tako, da v oglate oklepaje postavimo dve vrednosti ločeni z dvopičjem. Tako kot pri funkciji `range()` je začetna vrednost vključena, končna pa ne."
   ]
  },
  {
   "cell_type": "code",
   "execution_count": null,
   "metadata": {},
   "outputs": [],
   "source": [
    "# Izpišimo prvi, drugi in treji sklop\n",
    "print(sklopi[0:3])\n",
    "\n",
    "# Isto lahko naredimo z terkami, nizi, itd.\n",
    "print(\"Primer\"[2:5])\n",
    "\n",
    "# Še en primer\n",
    "print(\"Primer\"[1:2]+\"Primer\"[2:5])\n"
   ]
  },
  {
   "cell_type": "markdown",
   "metadata": {},
   "source": [
    "Spodnjo mejo lahko izpustimo. To bo vrnilo vse do zgornje meje."
   ]
  },
  {
   "cell_type": "code",
   "execution_count": null,
   "metadata": {},
   "outputs": [],
   "source": [
    "print(sklopi[:5])"
   ]
  },
  {
   "cell_type": "markdown",
   "metadata": {},
   "source": [
    "Če pa želimo vse od spodnje meje pa do konca, pa izpustimo zgorjo mejo."
   ]
  },
  {
   "cell_type": "code",
   "execution_count": null,
   "metadata": {},
   "outputs": [],
   "source": [
    "print(sklopi[5:])"
   ]
  },
  {
   "cell_type": "markdown",
   "metadata": {},
   "source": [
    "Pri rezinah lahko uporabljamo tudi:\n",
    "* indexsiranje od zadaj\n",
    "* dodamo korak `[spodnja_meja:zgornja_meja:korak]` (lahko tudi negativen) \n",
    "\n",
    "Pri vseh uporabah, lahko seveda meje tudi izmenično ali pa v celoti izpustimo."
   ]
  },
  {
   "cell_type": "code",
   "execution_count": null,
   "metadata": {},
   "outputs": [],
   "source": [
    "# Rezina od začetka do predzadnjega elementa\n",
    "print(sklopi[:-2])\n",
    "\n",
    "# Rezina od predzadnjega elementa do konca seznama\n",
    "print(sklopi[-2:])"
   ]
  },
  {
   "cell_type": "code",
   "execution_count": null,
   "metadata": {},
   "outputs": [],
   "source": [
    "# Rezina celotnega seznama po koraku 2\n",
    "print(sklopi[::2])"
   ]
  },
  {
   "cell_type": "code",
   "execution_count": null,
   "metadata": {},
   "outputs": [],
   "source": [
    "# Če potrebujemo kopijo seznama jo lahko naredimo s pomočjo rezin\n",
    "sklopi_kopija = sklopi[:]\n",
    "\n",
    "print(\"Kopija seznama sklopov:\", sklopi_kopija)\n",
    "sklopi_kopija.append(\"Dodamo\")\n",
    "print(\"Dodamo nov element:\", sklopi_kopija)\n",
    "\n",
    "print(\"Originalni seznam:\", sklopi)"
   ]
  },
  {
   "cell_type": "markdown",
   "metadata": {},
   "source": [
    "### Spreminjanje elementov z indeksi\n",
    "\n",
    "Vsakemu elementu v seznamu lahko priredimo novo vrednost."
   ]
  },
  {
   "cell_type": "code",
   "execution_count": null,
   "metadata": {},
   "outputs": [],
   "source": [
    "sklopi[0] = \"Novi Uvod\"\n",
    "\n",
    "print(sklopi)"
   ]
  },
  {
   "cell_type": "code",
   "execution_count": null,
   "metadata": {},
   "outputs": [],
   "source": [
    "# Več elementov\n",
    "sklopi[1:] = [\"Sklop 1\", \"Sklop 2\"]\n",
    "\n",
    "print(sklopi)"
   ]
  },
  {
   "cell_type": "code",
   "execution_count": null,
   "metadata": {},
   "outputs": [],
   "source": [
    "# Lahko jih tudi kar odstranimo\n",
    "sklopi[1:] = []\n",
    "\n",
    "print(sklopi)\n",
    "\n",
    "# Pa tudi dodamo\n",
    "sklopi[1:1] = [\"Sklop 1\", \"Sklop 2\", \"Sklop 3\", \"Sklop 4\", \"Sklop 5\"]\n",
    "\n",
    "print(sklopi)\n",
    "\n",
    "# Odstranimo drugi sklop\n",
    "sklopi[1:2] = []\n",
    "\n",
    "print(sklopi)\n",
    "\n",
    "# Lahko tudi z del\n",
    "del sklopi[1]\n",
    "\n",
    "print(sklopi)"
   ]
  },
  {
   "cell_type": "markdown",
   "metadata": {},
   "source": [
    "Brišemo lahko tudi z `del`.\n",
    "\n",
    "Tukaj pa moramo tudi omeniti, da nizov in terk ne moremo spreminjati."
   ]
  },
  {
   "cell_type": "markdown",
   "metadata": {},
   "source": [
    "## Operacije nad seznami, terkami, nizi (ipd.)\n",
    "\n",
    "Tako kot smo že spoznali pri nizih lahko uporabimo operacijo seštevanja `+`, kjer moramo paziti, da seštevamo vrednosti istega tipa.\n",
    "Seveda velja tudi operacija množenja s številom.\n",
    "\n",
    "Imamo pa še en operator `in` in pa `not in`, ki vrne ali je element prisoten ali ne."
   ]
  },
  {
   "cell_type": "code",
   "execution_count": null,
   "metadata": {},
   "outputs": [],
   "source": [
    "sklopi_plus = sklopi + sklopi\n",
    "\n",
    "print(sklopi_plus)\n",
    "\n",
    "# S tem lahko spremenimo tudi element terke ali niza\n",
    "\n",
    "print(prvi_element)\n",
    "prvi_element = prvi_element[:3] + \"*Nekaj*\" + prvi_element[3:]\n",
    "print(prvi_element)"
   ]
  },
  {
   "cell_type": "code",
   "execution_count": null,
   "metadata": {},
   "outputs": [],
   "source": [
    "sklopi_krat = sklopi * 3\n",
    "\n",
    "print(sklopi_krat)"
   ]
  },
  {
   "cell_type": "code",
   "execution_count": null,
   "metadata": {},
   "outputs": [],
   "source": [
    "print(\"Uvod\" in sklopi)\n",
    "\n",
    "print(\"Uvod\" not in sklopi)"
   ]
  }
 ],
 "metadata": {
  "interpreter": {
   "hash": "916dbcbb3f70747c44a77c7bcd40155683ae19c65e1c03b4aa3499c5328201f1"
  },
  "kernelspec": {
   "display_name": "Python 3.8.10 64-bit",
   "language": "python",
   "name": "python3"
  },
  "language_info": {
   "codemirror_mode": {
    "name": "ipython",
    "version": 3
   },
   "file_extension": ".py",
   "mimetype": "text/x-python",
   "name": "python",
   "nbconvert_exporter": "python",
   "pygments_lexer": "ipython3",
   "version": "3.8.10"
  },
  "orig_nbformat": 4
 },
 "nbformat": 4,
 "nbformat_minor": 2
}
