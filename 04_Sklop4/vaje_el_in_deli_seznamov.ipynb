{
 "cells": [
  {
   "cell_type": "markdown",
   "metadata": {},
   "source": [
    "# Vaje (elementi in deli seznamov)\n",
    "\n",
    "Problemi, ki jih poskusite izvesti, rešiti s pisanjem programov."
   ]
  },
  {
   "cell_type": "markdown",
   "metadata": {},
   "source": [
    "## Dokončano\n",
    "\n",
    "Napišite program, ki glede na to ali je Sklop krožka končan, spremeni ime sklopa v \"Dokončano\" (predpostavite, da se sklopi vedno zaključijo zaporedoma). (Namig: metoda `count(vrednost)` nad seznamom vrne število pojavitev vrednosti v seznamu. Za radovedne: https://www.w3schools.com/python/python_lists_comprehension.asp)"
   ]
  },
  {
   "cell_type": "code",
   "execution_count": 7,
   "metadata": {},
   "outputs": [],
   "source": [
    "# Prostor za kodo\n",
    "\n",
    "# Naredimo seznam sklopov krožka programiranja\n",
    "\n",
    "sklopi = [\"Uvod\", \"Sklop 1\", \"Sklop 2\", \n",
    "          \"Sklop 3\", \"Sklop 4\", \"Sklop 5\"]\n",
    "\n",
    "# Ustvarimo še en seznam števila podpoglavji vsakega sklopa\n",
    "podpoglavja = [0, 3, 4, 3, 5, 5]\n",
    "\n",
    "# Ustvarimo seznam za status opravljenosti\n",
    "opravljenost = [True, True, True, True, False, False]\n"
   ]
  },
  {
   "cell_type": "markdown",
   "metadata": {},
   "source": [
    "# Naraščanje števil\n",
    "\n",
    "Preverite če števila v seznamu naraščajo. (Namig: obstaja trik, ki ga lahko naredimo z rezinami in funkcijo `zip()`)."
   ]
  },
  {
   "cell_type": "code",
   "execution_count": null,
   "metadata": {},
   "outputs": [],
   "source": [
    "# Prostor za kodo\n",
    "\n",
    "stevila = [0, 3, 4, 3, 5, 5]\n"
   ]
  }
 ],
 "metadata": {
  "interpreter": {
   "hash": "916dbcbb3f70747c44a77c7bcd40155683ae19c65e1c03b4aa3499c5328201f1"
  },
  "kernelspec": {
   "display_name": "Python 3.8.10 64-bit",
   "language": "python",
   "name": "python3"
  },
  "language_info": {
   "codemirror_mode": {
    "name": "ipython",
    "version": 3
   },
   "file_extension": ".py",
   "mimetype": "text/x-python",
   "name": "python",
   "nbconvert_exporter": "python",
   "pygments_lexer": "ipython3",
   "version": "3.8.10"
  },
  "orig_nbformat": 4
 },
 "nbformat": 4,
 "nbformat_minor": 2
}
