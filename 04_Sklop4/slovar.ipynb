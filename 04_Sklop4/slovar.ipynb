{
 "cells": [
  {
   "cell_type": "markdown",
   "metadata": {},
   "source": [
    "# Slovar\n",
    "\n",
    "Spoznajmo še en nov podatkovni tip - `dict`.\n",
    "\n",
    "V slovarju imamo vrednosti (`value`) shranjenje pod ključi (`key`).\n",
    "\n",
    "Ključ v slovarju je lahko vsak nespremenljiv podatkovni tip (npr. števila, nizi, logične vrednosti).\n",
    "Vrednosti pa so lahko katerega koli tipa."
   ]
  },
  {
   "cell_type": "code",
   "execution_count": null,
   "metadata": {},
   "outputs": [],
   "source": [
    "# Naredimo seznam sklopov krožka programiranja\n",
    "sklopi = [\"Uvod\", \"Sklop 1\", \"Sklop 2\", \n",
    "          \"Sklop 3\", \"Sklop 4\", \"Sklop 5\"]\n",
    "\n",
    "# Ustvarimo še en seznam števila podpoglavji vsakega sklopa\n",
    "podpoglavja = [0, 3, 4, 3, 5, 5]\n",
    "\n",
    "# Združimo podatke v teh dveh seznamih v slovar\n",
    "krozek = {\"Uvod\": 0, \"Sklop 1\": 3, \"Sklop 2\": 4, \n",
    "          \"Sklop 3\": 3, \"Sklop 4\": 5, \"Sklop 5\": 5}\n",
    "\n",
    "print(type(krozek))\n",
    "print(krozek)"
   ]
  },
  {
   "cell_type": "markdown",
   "metadata": {},
   "source": [
    "## Lastnosti slovarjev:\n",
    "* elementi v slovarju niso urejeni po vrstnem redu (ključev ne moremo vedno primerjati, npr. nizi in števila),\n",
    "* rezin pri slovarjih ni,\n",
    "* operacije nad slovarji so ne glede na velikost podatkov shranjenih v njih časovno zelo učinkovite (dodajanje, brisanje, branje),\n",
    "* porabijo več prostora kot seznami,\n",
    "* ključi morjo biti podatkovnega tipa, ki je razpršljiv (ima metodo `__hash__`),\n",
    "* vsak ključ se lahko pojavi le enkrat."
   ]
  },
  {
   "cell_type": "markdown",
   "metadata": {},
   "source": [
    "## Operacije s slovarji\n",
    "\n",
    "### Dostop do vrednosti\n",
    "\n",
    "Če želimo dostopati do vrednosti to naredimo tako, da kot indeks podamo ključ."
   ]
  },
  {
   "cell_type": "code",
   "execution_count": null,
   "metadata": {},
   "outputs": [],
   "source": [
    "# Koliko podpoglavji ima Sklop 4\n",
    "print(krozek[\"Sklop 4\"])"
   ]
  },
  {
   "cell_type": "markdown",
   "metadata": {},
   "source": [
    "### Dodanjanje novega elementa\n",
    "\n",
    "Nov element dodamo tako, da ključu priredimo vrednost (`append` in `insert` ne obstajata)."
   ]
  },
  {
   "cell_type": "code",
   "execution_count": null,
   "metadata": {},
   "outputs": [],
   "source": [
    "# Dodajmo sklop zaključek, ki bo imel 0 podpoglavji\n",
    "krozek[\"Zakljucek\"] = 0\n",
    "\n",
    "print(krozek)"
   ]
  },
  {
   "cell_type": "markdown",
   "metadata": {},
   "source": [
    "### Brisanje elementa\n",
    "\n",
    "Element lahko izbrišemo iz slovarja z rezervirano besedo `del` tako kot pri seznamu. To bo izbrisalo ključ in vrednost."
   ]
  },
  {
   "cell_type": "code",
   "execution_count": null,
   "metadata": {},
   "outputs": [],
   "source": [
    "# Sedaj pa Zakljucek še izbrišimo\n",
    "del krozek[\"Zakljucek\"]\n",
    "\n",
    "print(krozek)"
   ]
  },
  {
   "cell_type": "markdown",
   "metadata": {},
   "source": [
    "### Obstoj ključa v slovarju\n",
    "\n",
    "Preverimo če določeni ključ obstaja v slovarju."
   ]
  },
  {
   "cell_type": "code",
   "execution_count": null,
   "metadata": {},
   "outputs": [],
   "source": [
    "# Trivialno preverimo če Zakljucek obstaja v slovarju\n",
    "print(\"Zakljucek\" in krozek)\n",
    "\n",
    "# Preverimo pa še za Uvod\n",
    "print(\"Uvod\" in krozek)"
   ]
  },
  {
   "cell_type": "markdown",
   "metadata": {},
   "source": [
    "## Metode slovarjev\n",
    "\n",
    "Tukaj omenimo 6 metod slovarjev, ki jih je koristno poznati."
   ]
  },
  {
   "cell_type": "markdown",
   "metadata": {},
   "source": [
    "### Metoda get\n",
    "\n",
    "Metoda `slovar.get(kljuc)` ima isto vlogo kot indeksiranje `slovar[kljuc]`. Nam zanimiv način uporabe pa je, ko ne vemo ali ključ (`kljuc`) obstaja v slovarju.\n",
    "\n",
    "Z uporabo metode `slovar.get(kljuc, privzeta_vrednost)` v primeru, da ključa ni v seznamu vrnemo privzeto vrednost, ki jo podamo kot drugi argument."
   ]
  },
  {
   "cell_type": "code",
   "execution_count": null,
   "metadata": {},
   "outputs": [],
   "source": [
    "# Nismo prepričani, da je Zakljucek v slovarju\n",
    "\n",
    "print(krozek.get(\"Zakljucek\", 9999))"
   ]
  },
  {
   "cell_type": "markdown",
   "metadata": {},
   "source": [
    "### Metoda keys\n",
    "\n",
    "Metodo `slovar.keys()` lahko uporabimo takrat, ko se želimo sprehoditi preko ključev v slovarju."
   ]
  },
  {
   "cell_type": "code",
   "execution_count": null,
   "metadata": {},
   "outputs": [],
   "source": [
    "# Izpišimo vse ključe\n",
    "for sklop in krozek.keys():\n",
    "    print(sklop)\n",
    "\n",
    "# Metode keys pa nam ni potrebno eksplicitno uporabljati, saj dobimo vrednosti ključev če se z for zanko sprehodimo direktno čez slovar\n",
    "for sklop in krozek:\n",
    "    print(sklop)"
   ]
  },
  {
   "cell_type": "markdown",
   "metadata": {},
   "source": [
    "### Metoda values\n",
    "\n",
    "Metodo `slovar.values()` lahko uporabimo takrat, ko se želimo sprehoditi preko vrednosti v slovarju."
   ]
  },
  {
   "cell_type": "code",
   "execution_count": null,
   "metadata": {},
   "outputs": [],
   "source": [
    "# Izpišimo vse vrednosti v slovarju\n",
    "for podpoglavje in krozek.values():\n",
    "    print(podpoglavje)"
   ]
  },
  {
   "cell_type": "markdown",
   "metadata": {},
   "source": [
    "### Metoda items\n",
    "\n",
    "Metodo `slovar.items()` lahko uporabimo takrat, ko se želimo sprehoditi preko parov ključev in vrednosti v slovarju."
   ]
  },
  {
   "cell_type": "code",
   "execution_count": null,
   "metadata": {},
   "outputs": [],
   "source": [
    "# Izpišimo ključe in vrednosti v slovarju\n",
    "for sklop, podpoglavje in krozek.items():\n",
    "    print(sklop, \"-\", podpoglavje)"
   ]
  },
  {
   "cell_type": "markdown",
   "metadata": {},
   "source": [
    "### Metodi clear in copy\n",
    "\n",
    "Za izpraznitev slovarja uporabljamo metodo `slovar.clear()`. Ko pa potrebujemo kopijo slovarja pa uporabimo metodo `slovar.copy()`."
   ]
  },
  {
   "cell_type": "code",
   "execution_count": null,
   "metadata": {},
   "outputs": [],
   "source": [
    "# Naredimo kopijo slovarja krozek\n",
    "krozek_copy = krozek.copy()\n",
    "\n",
    "print(krozek_copy)\n",
    "\n",
    "# In jo izpraznimo\n",
    "krozek_copy.clear()\n",
    "\n",
    "print(krozek_copy)\n",
    "\n",
    "# Še dokaz\n",
    "print(krozek)"
   ]
  },
  {
   "cell_type": "markdown",
   "metadata": {},
   "source": [
    "## Uporabno\n",
    "\n",
    "### defaultdict\n",
    "\n",
    "Podatkovni tip, ki je na voljo v modulu `collections`. Razlika med navadnim slovarjem in defaultdict je, da če naletimo na ključ, ki ni v slovarju bo defaultdict ustvaril ta ključ in mu podal privzeto vrednost.\n",
    "To privzeto vrednost določimo tako, da podamo funkcijo, ki vrača to privzeto vrednost kot argument defaultdict."
   ]
  },
  {
   "cell_type": "code",
   "execution_count": null,
   "metadata": {},
   "outputs": [],
   "source": [
    "import collections\n",
    "\n",
    "# Primer na naših podatkih\n",
    "nov_krozek = collections.defaultdict(str)\n",
    "\n",
    "print(nov_krozek)\n",
    "print(nov_krozek[\"Test\"])\n",
    "print(nov_krozek)"
   ]
  },
  {
   "cell_type": "markdown",
   "metadata": {},
   "source": [
    "### Counter\n",
    "\n",
    "Ta razred sem že omenil. Tako je na voljo v modulu `collections` kot defaultdict. Uporaben pa je za zelo pogosto operacijo štetja."
   ]
  },
  {
   "cell_type": "code",
   "execution_count": null,
   "metadata": {},
   "outputs": [],
   "source": [
    "# Preštejte pojavitve črk v nizu\n",
    "smeti = \"SATONEHUSNATOEHUSNTAOHEUSNTOAHEUNTOAEHUSANTOEHUSNATOYHEUSNAOTEHUSNATOGCHEUSNATOHEUSNATOHEUC\"\n",
    "\n",
    "prestete_smeti = collections.Counter(smeti)\n",
    "print(prestete_smeti)"
   ]
  }
 ],
 "metadata": {
  "interpreter": {
   "hash": "916dbcbb3f70747c44a77c7bcd40155683ae19c65e1c03b4aa3499c5328201f1"
  },
  "kernelspec": {
   "display_name": "Python 3.8.10 64-bit",
   "language": "python",
   "name": "python3"
  },
  "language_info": {
   "codemirror_mode": {
    "name": "ipython",
    "version": 3
   },
   "file_extension": ".py",
   "mimetype": "text/x-python",
   "name": "python",
   "nbconvert_exporter": "python",
   "pygments_lexer": "ipython3",
   "version": "3.8.10"
  },
  "orig_nbformat": 4
 },
 "nbformat": 4,
 "nbformat_minor": 2
}
