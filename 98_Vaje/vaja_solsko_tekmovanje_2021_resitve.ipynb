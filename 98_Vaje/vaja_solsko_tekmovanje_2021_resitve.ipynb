{
 "cells": [
  {
   "cell_type": "markdown",
   "metadata": {},
   "source": [
    "# Vaja: Šolsko tekmovanje 2021\n",
    "\n",
    "Na naslovu [http://rtk.ijs.si/2021/rtk2021-solsko.pdf](http://rtk.ijs.si/2021/rtk2021-solsko.pdf) si prenesite pdf z nalogami in jih poskusite rešiti."
   ]
  },
  {
   "cell_type": "code",
   "execution_count": null,
   "metadata": {},
   "outputs": [],
   "source": [
    "# Prostor za kodo\n",
    "\n",
    "# 2. Kovanci\n",
    "\n",
    "def NajvecjaVsota(kupi):\n",
    "    f = 0\n",
    "    fPrej = 0\n",
    "    for kup in kupi:\n",
    "        fNova = max(fPrej + kup, f)\n",
    "        fPrej = f\n",
    "        f = fNova\n",
    "\n",
    "    return f\n",
    "\n",
    "# f = 0, fPrej = 0\n",
    "# V zanko\n",
    "# fNova = max(2, 0), fPrej = 0, f = 2\n",
    "# fNova = max(4, 2), fPrej = 2, f = 4\n",
    "# fNova = max(3, 4), fPrej = 4, f = 4\n",
    "# fNova = max(7, 4), fPrej = 4, f = 7\n",
    "# fNova = max(8, 7), fPrej = 7, f = 8\n",
    "\n",
    "kupi = [2, 4, 1, 3, 4,]\n",
    "\n",
    "naj_vsota = NajvecjaVsota(kupi)\n",
    "\n",
    "print(naj_vsota)"
   ]
  },
  {
   "cell_type": "code",
   "execution_count": null,
   "metadata": {},
   "outputs": [],
   "source": [
    "# Direktno po rekurzivni enačbi\n",
    "\n",
    "def NajvecjaVsota(kupi, k):\n",
    "    if k < 0:\n",
    "        return 0\n",
    "    vkljuci = kupi[k] + NajvecjaVsota(kupi, k - 2)\n",
    "    ne_vkljuci = NajvecjaVsota(kupi, k - 1)\n",
    "    return max(vkljuci, ne_vkljuci)\n",
    "\n",
    "kupi = [2, 4, 1, 3, 4,]\n",
    "\n",
    "naj_vsota = NajvecjaVsota(kupi, len(kupi) - 1)\n",
    "\n",
    "print(naj_vsota)"
   ]
  }
 ],
 "metadata": {
  "interpreter": {
   "hash": "916dbcbb3f70747c44a77c7bcd40155683ae19c65e1c03b4aa3499c5328201f1"
  },
  "kernelspec": {
   "display_name": "Python 3.8.10 64-bit",
   "language": "python",
   "name": "python3"
  },
  "language_info": {
   "codemirror_mode": {
    "name": "ipython",
    "version": 3
   },
   "file_extension": ".py",
   "mimetype": "text/x-python",
   "name": "python",
   "nbconvert_exporter": "python",
   "pygments_lexer": "ipython3",
   "version": "3.8.10"
  },
  "orig_nbformat": 4
 },
 "nbformat": 4,
 "nbformat_minor": 2
}
