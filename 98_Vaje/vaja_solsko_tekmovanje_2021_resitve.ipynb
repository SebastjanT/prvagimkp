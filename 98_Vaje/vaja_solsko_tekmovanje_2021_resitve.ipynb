{
 "cells": [
  {
   "cell_type": "markdown",
   "metadata": {},
   "source": [
    "# Vaja: Šolsko tekmovanje 2021 - Rešitve\n",
    "\n",
    "Na naslovu [http://rtk.ijs.si/2021/rtk2021-solsko.pdf](http://rtk.ijs.si/2021/rtk2021-solsko.pdf) si prenesite pdf z nalogami in jih poskusite rešiti.\n",
    "\n",
    "**Rešitve so na voljo v pdf skupaj z razlago in dodatnimi načini rešitev.** Spodaj so na voljo primeri rešitev iz pdf ter reševanja na krožku."
   ]
  },
  {
   "cell_type": "code",
   "execution_count": null,
   "metadata": {},
   "outputs": [],
   "source": [
    "# Prostor za kodo\n",
    "\n",
    "# 1. Križci in krožci\n",
    "\n",
    "def Izenaceno2(s):\n",
    "    krizci = s.count(\"x\")\n",
    "    krozci = s.count(\"o\")\n",
    "    return krizci == krozci and krizci + krozci == len(s) and \"xxx\" not in s and \"ooo\" not in s\n",
    "\n",
    "print(Izenaceno2(\"xxooxo\"))\n",
    "print(Izenaceno2(\"oxox\"))\n",
    "print(Izenaceno2(\"xxooox\"))\n",
    "print(Izenaceno2(\"xxcoox\"))\n",
    "print(Izenaceno2(\"ooxooxxo\"))"
   ]
  },
  {
   "cell_type": "code",
   "execution_count": null,
   "metadata": {},
   "outputs": [],
   "source": [
    "# Prostor za kodo\n",
    "\n",
    "# 2. Kovanci\n",
    "\n",
    "def NajvecjaVsota(kupi):\n",
    "    f = 0\n",
    "    fPrej = 0\n",
    "    for kup in kupi:\n",
    "        fNova = max(fPrej + kup, f)\n",
    "        fPrej = f\n",
    "        f = fNova\n",
    "\n",
    "    return f\n",
    "\n",
    "# f = 0, fPrej = 0\n",
    "# V zanko\n",
    "# fNova = max(2, 0), fPrej = 0, f = 2\n",
    "# fNova = max(4, 2), fPrej = 2, f = 4\n",
    "# fNova = max(3, 4), fPrej = 4, f = 4\n",
    "# fNova = max(7, 4), fPrej = 4, f = 7\n",
    "# fNova = max(8, 7), fPrej = 7, f = 8\n",
    "\n",
    "kupi = [2, 4, 1, 3, 4,]\n",
    "\n",
    "naj_vsota = NajvecjaVsota(kupi)\n",
    "\n",
    "print(naj_vsota)"
   ]
  },
  {
   "cell_type": "code",
   "execution_count": null,
   "metadata": {},
   "outputs": [],
   "source": [
    "# Direktno po rekurzivni enačbi\n",
    "\n",
    "def NajvecjaVsota(kupi, k):\n",
    "    if k < 0:\n",
    "        return 0\n",
    "    vkljuci = kupi[k] + NajvecjaVsota(kupi, k - 2)\n",
    "    ne_vkljuci = NajvecjaVsota(kupi, k - 1)\n",
    "    return max(vkljuci, ne_vkljuci)\n",
    "\n",
    "kupi = [2, 4, 1, 3, 4,]\n",
    "\n",
    "naj_vsota = NajvecjaVsota(kupi, len(kupi) - 1)\n",
    "\n",
    "print(naj_vsota)"
   ]
  },
  {
   "cell_type": "code",
   "execution_count": null,
   "metadata": {},
   "outputs": [],
   "source": [
    "# 3. naloga\n",
    "\n",
    "def IzberiCentralo1(stranke, centrale):\n",
    "    najVsota = 0; najCentrala = -1\n",
    "    # Preglejmo vse možne položaje centrale.\n",
    "    for i, (cx, cy) in enumerate(centrale):\n",
    "        # Izračunajmo vsoto razdalj od i-te centrale do vseh strank.\n",
    "        vsota = 0\n",
    "        for (sx, sy) in stranke:\n",
    "            vsota += abs(sx - cx) + abs(sy - cy)\n",
    "        # Ce je to najboljši rezultat doslej, si ga zapomnimo.\n",
    "        if najCentrala < 0 or vsota < najVsota:\n",
    "            najVsota = vsota\n",
    "            najCentrala = i\n",
    "    return najCentrala # Vrnimo najboljšo rešitev.\n",
    "\n",
    "centrale = [(3, 5), (5, 3), (7, 2)]\n",
    "stranke = [(1, 2), (5, 1), (5, 6), (7, 5)]\n",
    "\n",
    "resitev = IzberiCentralo1(stranke, centrale)\n",
    "\n",
    "print(centrale[resitev])"
   ]
  },
  {
   "cell_type": "code",
   "execution_count": null,
   "metadata": {},
   "outputs": [],
   "source": [
    "# 4. naloga\n",
    "\n",
    "def KonecVerige(n, z, preusmeritve):\n",
    "    # Pripravimo si tabelo, ki za vsako stran pove, kam nas\n",
    "    # od tam preusmerijo; če nikamor, bo tam −1.\n",
    "    kam = [-1] * (n + 1)\n",
    "    for (s, na) in preusmeritve:\n",
    "        kam[s] = na\n",
    "    # Pripravimo si tabelo za označevanje že obiskanih strani.\n",
    "    obiskana = [False] * (n + 1)\n",
    "    # Sledimo verigi preusmeritev od z naprej.\n",
    "    while kam[z] >= 0 and not obiskana[z]:\n",
    "        obiskana[z] = True # Označimo trenutno stran za obiskano\n",
    "        z = kam[z] # in se premaknimo na naslednjo.\n",
    "    # Ce smo se ustavili zato, ker smo prišli na neko že obiskano stran,\n",
    "    # to pomeni, da se je veriga zaciklala; sicer pa vrnimo stran, pri kateri\n",
    "    # se je veriga končala.\n",
    "    return -1 if obiskana[z] else z\n",
    "\n",
    "n = 6\n",
    "z = 1\n",
    "preusmeritve = [(1, 2), (2, 4), (3, 1), (6, 5)]\n",
    "\n",
    "resitev = KonecVerige(n, z, preusmeritve)\n",
    "\n",
    "print(resitev)"
   ]
  },
  {
   "cell_type": "code",
   "execution_count": null,
   "metadata": {},
   "outputs": [],
   "source": [
    "# 5. naloga\n",
    "\n",
    "def Splatters(besede):\n",
    "    ugodne = set()\n",
    "    zadnjaUgodna = None\n",
    "    # Pregledujmo besede po naraščajoči dolžini.\n",
    "    for k, s in sorted((len(s), s) for s in besede):\n",
    "        # Enočrkovne besede so ugodne že same po sebi.\n",
    "        if k <= 1:\n",
    "            ugodne.add(s)\n",
    "            continue\n",
    "        # Pri daljših besedah poglejmo, če lahko z brisanjem ene črke dobimo ugodno besedo.\n",
    "        for j in range(k):\n",
    "            # Poglejmo, ali je beseda, ki nastane iz s z brisanjem črke s[j], ugodna.\n",
    "            if s[:j] + s[j + 1:] not in ugodne:\n",
    "                continue\n",
    "            # Če da, potem je tudi s ugodna.\n",
    "            ugodne.add(s)\n",
    "            zadnjaUgodna = s\n",
    "            break\n",
    "        # Vrnimo zadnjo ugodno besedo, ki smo jo našli (ta je tudi najdaljša).\n",
    "    return zadnjaUgodna\n",
    "\n",
    "besede = [\"test\", \"beast\", \"ambulance\", \"splatters\", \"splatter\", \"platter\", \"latter\", \"later\", \"late\", \"ate\", \"at\", \"t\"]\n",
    "\n",
    "resitev = Splatters(besede)\n",
    "\n",
    "print(resitev)\n"
   ]
  }
 ],
 "metadata": {
  "interpreter": {
   "hash": "916dbcbb3f70747c44a77c7bcd40155683ae19c65e1c03b4aa3499c5328201f1"
  },
  "kernelspec": {
   "display_name": "Python 3.8.10 64-bit",
   "language": "python",
   "name": "python3"
  },
  "language_info": {
   "codemirror_mode": {
    "name": "ipython",
    "version": 3
   },
   "file_extension": ".py",
   "mimetype": "text/x-python",
   "name": "python",
   "nbconvert_exporter": "python",
   "pygments_lexer": "ipython3",
   "version": "3.8.10"
  },
  "orig_nbformat": 4
 },
 "nbformat": 4,
 "nbformat_minor": 2
}
