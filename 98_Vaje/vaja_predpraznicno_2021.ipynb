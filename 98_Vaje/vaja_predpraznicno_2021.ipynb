{
 "cells": [
  {
   "cell_type": "markdown",
   "metadata": {},
   "source": [
    "# Vaje v temi predprazničnega vzdušja\n",
    "\n",
    "Napišiti programe, ki rešijo spodnje tri probleme"
   ]
  },
  {
   "cell_type": "markdown",
   "metadata": {},
   "source": [
    "## Vse v eni noči\n",
    "\n",
    "Razvoz daril je časovno zelo potraten. Zato se je treba nanj pripraviti in narediti načrt poti. V seznamu imamo imena prejemnikov in x, y koordinate njihove lokacije v mestu, ki je razdeljeno v kvadratno n krat m mrežo.\n",
    "\n",
    "Pot se začne na koordinati (m, n), da bo pot dokaj učinkovita jo je protrebno načrtovati tako, da se za naslednjega prejemnika odločimo glede na najkrajšo manhattansko razdaljo od točke kjer se nahajamo. Darilo dostavimo in poiščemo naslednjega prejemnika.\n",
    "\n",
    "Manhattanska razdalje je: |x<sub>1</sub> - x<sub>2</sub>| + |y<sub>1</sub> - y<sub>2</sub>|\n",
    "\n",
    "Sestavite takšno pot."
   ]
  },
  {
   "cell_type": "code",
   "execution_count": 1,
   "metadata": {},
   "outputs": [],
   "source": [
    "m, n = 10, 10\n",
    "\n",
    "prejemniki = [\n",
    "  (\"Janko\", (5, 5)),\n",
    "  (\"Metka\", (1, 0)),\n",
    "  (\"Cene\", (3, 3)),\n",
    "  (\"Pehtra\", (0, 0)),\n",
    "  (\"Kekec\", (8, 9)),\n",
    "  (\"Garfield\", (8, 4)),\n",
    "]\n",
    "\n"
   ]
  },
  {
   "cell_type": "markdown",
   "metadata": {},
   "source": [
    "## Želim si\n",
    "\n",
    "Del praznikov je obdarovanje. Seveda želimo osebi, ki jo cenimo podariti tisto kar si želi. Prejeli smo sporočilo v kateri je bila napisana želja. Ampak prišlo je do šuma v komunikaciji in črke so se pomešale, dodale in odstranile.\n",
    "\n",
    "Točno vemo kaj se je zgodilo: \n",
    "* če je dolžina besede liho število, jo moramo prepolovoti in zamenjati vrstni red prvega in zadnjega dela (sredinjska črka ostane na istem mestu),\n",
    "* če je dolžina besede soda, moramo zamenjati vrstni red črk,\n",
    "* na začetku vsakega koraka odstranimo zadnje tri črke,\n",
    "* in če je beseda dolga točno 4 znake smo prišli, do prave želje.\n",
    "\n",
    "Poiščite pravo željo."
   ]
  },
  {
   "cell_type": "code",
   "execution_count": null,
   "metadata": {},
   "outputs": [],
   "source": [
    "sporocilo = \"IJnlnacNhaMblotvnxZYLh\""
   ]
  },
  {
   "cell_type": "markdown",
   "metadata": {},
   "source": [
    "## Okrašeno drevo\n",
    "\n",
    "Ker imamo radi praznično vzdušje, želimo, da se to vidi tudi v terminalu ali konzoli.\n",
    "\n",
    "Izpišiti praznično drevo z vsaj 3-mi različnimi okraski.\n",
    "\n",
    "Izgleda naj približno takole:\n",
    "```\n",
    "              A\n",
    "             AAO\n",
    "            AAAAS\n",
    "           AAASAAA\n",
    "          AAAAAAASA\n",
    "         AAAAASAAAAA\n",
    "        AAA*AAAAAAAAA\n",
    "       AAAAAA*AAAAAAAA\n",
    "      AAAAAAAAAAOAAAAAA\n",
    "     AAAAASAAAAAAAAAAAAA\n",
    "    AAAAAAAAAAAAAAAA*AAAA\n",
    "   AAAAAAAOAAAAAAAAAAAAAAA\n",
    "  AAAAAAA*AAAAAAAAAAAAAAAAA\n",
    " AAAAAAASAAAAAAAAAAAAAAAAAAA\n",
    "AAAAAOAAAAAAAAAAAAAAAAAAAAAAA\n",
    "           MMMMM\n",
    "           MMMMM\n",
    "\n",
    "```"
   ]
  },
  {
   "cell_type": "code",
   "execution_count": null,
   "metadata": {},
   "outputs": [],
   "source": [
    "# Prostor za kodo\n"
   ]
  }
 ],
 "metadata": {
  "interpreter": {
   "hash": "916dbcbb3f70747c44a77c7bcd40155683ae19c65e1c03b4aa3499c5328201f1"
  },
  "kernelspec": {
   "display_name": "Python 3.8.10 64-bit",
   "language": "python",
   "name": "python3"
  },
  "language_info": {
   "codemirror_mode": {
    "name": "ipython",
    "version": 3
   },
   "file_extension": ".py",
   "mimetype": "text/x-python",
   "name": "python",
   "nbconvert_exporter": "python",
   "pygments_lexer": "ipython3",
   "version": "3.8.10"
  },
  "orig_nbformat": 4
 },
 "nbformat": 4,
 "nbformat_minor": 2
}
