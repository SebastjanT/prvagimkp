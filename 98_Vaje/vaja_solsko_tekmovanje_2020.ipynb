{
 "cells": [
  {
   "cell_type": "markdown",
   "metadata": {},
   "source": [
    "# Vaja: Šolsko tekmovanje 2020\n",
    "\n",
    "Na naslovu [http://rtk.ijs.si/2020/rtk2020-bilten.pdf](http://rtk.ijs.si/2020/rtk2020-bilten.pdf) si prenesite pdf bilten 15. tekmovanja in poskusite rešiti `Naloge za šolsko tekmovanje`."
   ]
  },
  {
   "cell_type": "code",
   "execution_count": null,
   "metadata": {},
   "outputs": [],
   "source": [
    "# Prostor za kodo\n"
   ]
  }
 ],
 "metadata": {
  "language_info": {
   "name": "python"
  },
  "orig_nbformat": 4
 },
 "nbformat": 4,
 "nbformat_minor": 2
}
