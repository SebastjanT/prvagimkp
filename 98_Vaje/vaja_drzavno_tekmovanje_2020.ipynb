{
 "cells": [
  {
   "cell_type": "markdown",
   "metadata": {},
   "source": [
    "# Vaja: Državno tekmovanje 2020\n",
    "\n",
    "Na naslovu [https://rtk.ijs.si/2020/rtk2020-bilten.pdf](https://rtk.ijs.si/2020/rtk2020-bilten.pdf) si prenesite pdf z nalogami in jih poskusite rešiti.\n",
    "\n",
    "Začnite z nalogami iz prve skupine in ko rešite te se lotite nalog druge skupine. Če želite še dodatno preveriti svoje znanje se lotite nalog tretje skupine."
   ]
  },
  {
   "cell_type": "code",
   "execution_count": null,
   "metadata": {},
   "outputs": [],
   "source": [
    "# Prostor za kodo\n"
   ]
  }
 ],
 "metadata": {
  "language_info": {
   "name": "python"
  },
  "orig_nbformat": 4
 },
 "nbformat": 4,
 "nbformat_minor": 2
}
