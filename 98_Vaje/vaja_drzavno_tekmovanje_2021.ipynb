{
 "cells": [
  {
   "cell_type": "markdown",
   "metadata": {},
   "source": [
    "# Vaja: Državno tekmovanje 2021\n",
    "\n",
    "Na naslovu [http://rtk.ijs.si/2021/rtk2021.pdf](http://rtk.ijs.si/2021/rtk2021.pdf) si prenesite pdf z nalogami in jih poskusite rešiti.\n",
    "\n",
    "Začnite z nalogami iz prve skupine in ko rešite te se lotite nalog druge skupine. Če želite še dodatno preveriti svoje znanje se lotite nalog tretje skupine."
   ]
  },
  {
   "cell_type": "code",
   "execution_count": null,
   "metadata": {},
   "outputs": [],
   "source": [
    "# Prostor za kodo\n"
   ]
  }
 ],
 "metadata": {
  "language_info": {
   "name": "python"
  },
  "orig_nbformat": 4
 },
 "nbformat": 4,
 "nbformat_minor": 2
}
