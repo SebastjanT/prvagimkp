{
 "cells": [
  {
   "cell_type": "markdown",
   "metadata": {},
   "source": [
    "# Vaja: Šolsko tekmovanje 2018\n",
    "\n",
    "Na naslovu [http://rtk.ijs.si/2018/rtk2018-bilten.pdf](http://rtk.ijs.si/2018/rtk2018-bilten.pdf) si prenesite pdf bilten 13. tekmovanja in poskusite rešiti `Naloge za šolsko tekmovanje`."
   ]
  },
  {
   "cell_type": "code",
   "execution_count": null,
   "metadata": {},
   "outputs": [],
   "source": [
    "# Prostor za kodo\n"
   ]
  }
 ],
 "metadata": {
  "language_info": {
   "name": "python"
  },
  "orig_nbformat": 4
 },
 "nbformat": 4,
 "nbformat_minor": 2
}
