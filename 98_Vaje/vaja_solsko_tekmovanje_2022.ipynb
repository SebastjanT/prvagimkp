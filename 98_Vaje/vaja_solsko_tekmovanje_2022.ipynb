{
 "cells": [
  {
   "cell_type": "markdown",
   "metadata": {},
   "source": [
    "# Vaja: Šolsko tekmovanje 2022\n",
    "\n",
    "Na naslovu [https://rtk.ijs.si/2022/rtk2022-solsko.pdf](https://rtk.ijs.si/2022/rtk2022-solsko.pdf) si prenesite pdf z nalogami in jih poskusite rešiti."
   ]
  },
  {
   "cell_type": "code",
   "execution_count": null,
   "metadata": {},
   "outputs": [],
   "source": [
    "# Prostor za kodo\n"
   ]
  }
 ],
 "metadata": {
  "language_info": {
   "name": "python"
  },
  "orig_nbformat": 4
 },
 "nbformat": 4,
 "nbformat_minor": 2
}
