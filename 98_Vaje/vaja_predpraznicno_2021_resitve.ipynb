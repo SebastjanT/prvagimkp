{
 "cells": [
  {
   "cell_type": "markdown",
   "metadata": {},
   "source": [
    "# Vaje v temi predprazničnega vzdušja\n",
    "\n",
    "Napišiti programe, ki rešijo spodnje tri probleme"
   ]
  },
  {
   "cell_type": "markdown",
   "metadata": {},
   "source": [
    "## Vse v eni noči\n",
    "\n",
    "Razvoz daril je časovno zelo potraten. Zato se je treba nanj pripraviti in narediti načrt poti. V seznamu imamo imena prejemnikov in x, y koordinate njihove lokacije v mestu, ki je razdeljeno v kvadratno n krat m mrežo.\n",
    "\n",
    "Pot se začne na koordinati (m, n), da bo pot dokaj učinkovita jo je protrebno načrtovati tako, da se za naslednjega prejemnika odločimo glede na najkrajšo manhattansko razdaljo od točke kjer se nahajamo. Darilo dostavimo in poiščemo naslednjega prejemnika.\n",
    "\n",
    "Manhattanska razdalje je: |x<sub>1</sub> - x<sub>2</sub>| + |y<sub>1</sub> - y<sub>2</sub>|\n",
    "\n",
    "Sestavite takšno pot."
   ]
  },
  {
   "cell_type": "code",
   "execution_count": null,
   "metadata": {},
   "outputs": [],
   "source": [
    "m, n = 10, 10\n",
    "\n",
    "prejemniki = [\n",
    "  (\"Janko\", (5, 5)),\n",
    "  (\"Metka\", (1, 0)),\n",
    "  (\"Cene\", (3, 3)),\n",
    "  (\"Pehtra\", (0, 0)),\n",
    "  (\"Kekec\", (8, 9)),\n",
    "  (\"Garfield\", (8, 4)),\n",
    "]\n",
    "\n",
    "pot = []\n",
    "lokacija_x = m\n",
    "lokacija_y = n\n",
    "\n",
    "while len(pot) != len(prejemniki):\n",
    "    min_razdalja = 21\n",
    "    najblizji = None\n",
    "    lokacija = ()\n",
    "    for prejemnik, (x, y) in prejemniki:\n",
    "        if prejemnik not in pot:\n",
    "            razdalja = abs(x - lokacija_x) + abs(y - lokacija_y)\n",
    "            if razdalja < min_razdalja:\n",
    "                min_razdalja = razdalja\n",
    "                najblizji = prejemnik\n",
    "                lokacija = x, y\n",
    "    pot.append(najblizji)\n",
    "    lokacija_x, lokacija_y = lokacija\n",
    "\n",
    "\n",
    "print(pot)"
   ]
  },
  {
   "cell_type": "markdown",
   "metadata": {},
   "source": [
    "## Želim si\n",
    "\n",
    "Del praznikov je obdarovanje. Seveda želimo osebi, ki jo cenimo podariti tisto kar si želi. Prejeli smo sporočilo v kateri je bila napisana želja. Ampak prišlo je do šuma v komunikaciji in črke so se pomešale, dodale in odstranile.\n",
    "\n",
    "Točno vemo kaj se je zgodilo: \n",
    "* če je dolžina besede liho število, jo moramo prepolovoti in zamenjati vrstni red prvega in zadnjega dela (sredinjska črka ostane na istem mestu),\n",
    "* če je dolžina besede soda, moramo zamenjati vrstni red črk,\n",
    "* na začetku vsakega koraka odstranimo zadnje 3 črke,\n",
    "* in če je beseda dolga točno 4 znake smo prišli, do prave želje.\n",
    "\n",
    "Poiščite pravo željo."
   ]
  },
  {
   "cell_type": "code",
   "execution_count": null,
   "metadata": {},
   "outputs": [],
   "source": [
    "import string\n",
    "import random\n",
    "\n",
    "sporocilo = \"avto\"\n",
    "\n",
    "# Preprosti zaporedni generator\n",
    "while len(sporocilo) < 20:\n",
    "    if len(sporocilo) % 2 == 0:\n",
    "        sporocilo = sporocilo[::-1]\n",
    "    else:\n",
    "        sredina = len(sporocilo) // 2\n",
    "        sporocilo = sporocilo[sredina + 1:] + sporocilo[sredina] + sporocilo[0:sredina]\n",
    "    for i in range(0, 3):\n",
    "        sporocilo = sporocilo + random.choice(string.ascii_letters)\n",
    "\n",
    "\n",
    "#sporocilo = \"IJnlnacNhaMblotvnxZYLh\"\n",
    "\n",
    "while len(sporocilo) != 4:\n",
    "    sporocilo = sporocilo[:-3]\n",
    "    if len(sporocilo) % 2 == 0:\n",
    "        sporocilo = sporocilo[::-1]\n",
    "    else:\n",
    "        sredina = len(sporocilo) // 2\n",
    "        sporocilo = sporocilo[sredina + 1:] + sporocilo[sredina] + sporocilo[0:sredina]\n",
    "\n",
    "print(sporocilo)\n",
    "\n"
   ]
  },
  {
   "cell_type": "markdown",
   "metadata": {},
   "source": [
    "## Okrašeno drevo\n",
    "\n",
    "Ker imamo radi praznično vzdušje, želimo, da se to vidi tudi v terminalu ali konzoli.\n",
    "\n",
    "Izpišiti praznično drevo z vsaj 3-mi različnimi okraski.\n",
    "\n",
    "Izgleda naj približno takole:\n",
    "```\n",
    "\n",
    "\n",
    "```"
   ]
  },
  {
   "cell_type": "code",
   "execution_count": null,
   "metadata": {},
   "outputs": [],
   "source": [
    "# Prostor za kodo\n",
    "\n",
    "import random\n",
    "\n",
    "stevec = 1\n",
    "sirina = 30\n",
    "polozaj_okraska = 0\n",
    "okraski = \"O*S\"\n",
    "while stevec < sirina:\n",
    "    zamik = (sirina - stevec) // 2\n",
    "    if (stevec == 1):\n",
    "      print(\" \" * zamik + \"A\" * stevec)\n",
    "    else:\n",
    "      print(\" \" * zamik + \"A\" * polozaj_okraska + random.choice(okraski) + \"A\" * (stevec - polozaj_okraska - 1))\n",
    "    stevec += 2\n",
    "    polozaj_okraska = int(random.randrange(0, stevec))\n",
    "for i in range(2):\n",
    "    print(\" \" * (sirina // 2 - 5), \"M\" * 5)"
   ]
  }
 ],
 "metadata": {
  "interpreter": {
   "hash": "916dbcbb3f70747c44a77c7bcd40155683ae19c65e1c03b4aa3499c5328201f1"
  },
  "kernelspec": {
   "display_name": "Python 3.8.10 64-bit",
   "language": "python",
   "name": "python3"
  },
  "language_info": {
   "codemirror_mode": {
    "name": "ipython",
    "version": 3
   },
   "file_extension": ".py",
   "mimetype": "text/x-python",
   "name": "python",
   "nbconvert_exporter": "python",
   "pygments_lexer": "ipython3",
   "version": "3.8.10"
  },
  "orig_nbformat": 4
 },
 "nbformat": 4,
 "nbformat_minor": 2
}
